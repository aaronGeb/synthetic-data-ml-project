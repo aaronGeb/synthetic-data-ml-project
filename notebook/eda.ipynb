{
 "cells": [
  {
   "cell_type": "code",
   "execution_count": 15,
   "metadata": {},
   "outputs": [],
   "source": [
    "import pandas as pd\n",
    "import random\n",
    "import numpy as np"
   ]
  },
  {
   "cell_type": "code",
   "execution_count": 5,
   "metadata": {},
   "outputs": [],
   "source": [
    "df =  pd.read_csv('../data/updated_product_listings.csv')"
   ]
  },
  {
   "cell_type": "code",
   "execution_count": 6,
   "metadata": {},
   "outputs": [
    {
     "data": {
      "application/vnd.microsoft.datawrangler.viewer.v0+json": {
       "columns": [
        {
         "name": "index",
         "rawType": "int64",
         "type": "integer"
        },
        {
         "name": "product_id",
         "rawType": "int64",
         "type": "integer"
        },
        {
         "name": "category",
         "rawType": "object",
         "type": "string"
        },
        {
         "name": "brand",
         "rawType": "object",
         "type": "string"
        },
        {
         "name": "condition",
         "rawType": "object",
         "type": "string"
        },
        {
         "name": "price",
         "rawType": "float64",
         "type": "float"
        },
        {
         "name": "seller_reputation",
         "rawType": "int64",
         "type": "integer"
        },
        {
         "name": "description",
         "rawType": "object",
         "type": "string"
        },
        {
         "name": "suspected_fraud",
         "rawType": "bool",
         "type": "boolean"
        }
       ],
       "conversionMethod": "pd.DataFrame",
       "ref": "f99a271e-9971-45f3-af5f-67241231fb29",
       "rows": [
        [
         "0",
         "2",
         "Clothing",
         "Adidas",
         "New",
         "75.0",
         "4",
         "Brand new Adidas running shorts",
         "True"
        ],
        [
         "1",
         "3",
         "Electronics",
         "Apple",
         "New",
         "1299.99",
         "2",
         "Brand new Apple iPhone 14 Pro with 256GB storage",
         "False"
        ],
        [
         "2",
         "4",
         "Furniture",
         "Joybird",
         "used",
         "1200.0",
         "5",
         "Stylish Joybird mid-century modern sofa with plush cushions.",
         "False"
        ],
        [
         "3",
         "5",
         "Furniture",
         "IKEA",
         "used",
         "350.0",
         "4",
         "Brand new IKEA Hemnes dresser with 6 drawers.",
         "False"
        ],
        [
         "4",
         "6",
         "Furniture",
         "West Elm",
         "New",
         "3200.0",
         "3",
         "Brand new West Elm mid-century dining table in walnut finish.",
         "True"
        ]
       ],
       "shape": {
        "columns": 8,
        "rows": 5
       }
      },
      "text/html": [
       "<div>\n",
       "<style scoped>\n",
       "    .dataframe tbody tr th:only-of-type {\n",
       "        vertical-align: middle;\n",
       "    }\n",
       "\n",
       "    .dataframe tbody tr th {\n",
       "        vertical-align: top;\n",
       "    }\n",
       "\n",
       "    .dataframe thead th {\n",
       "        text-align: right;\n",
       "    }\n",
       "</style>\n",
       "<table border=\"1\" class=\"dataframe\">\n",
       "  <thead>\n",
       "    <tr style=\"text-align: right;\">\n",
       "      <th></th>\n",
       "      <th>product_id</th>\n",
       "      <th>category</th>\n",
       "      <th>brand</th>\n",
       "      <th>condition</th>\n",
       "      <th>price</th>\n",
       "      <th>seller_reputation</th>\n",
       "      <th>description</th>\n",
       "      <th>suspected_fraud</th>\n",
       "    </tr>\n",
       "  </thead>\n",
       "  <tbody>\n",
       "    <tr>\n",
       "      <th>0</th>\n",
       "      <td>2</td>\n",
       "      <td>Clothing</td>\n",
       "      <td>Adidas</td>\n",
       "      <td>New</td>\n",
       "      <td>75.00</td>\n",
       "      <td>4</td>\n",
       "      <td>Brand new Adidas running shorts</td>\n",
       "      <td>True</td>\n",
       "    </tr>\n",
       "    <tr>\n",
       "      <th>1</th>\n",
       "      <td>3</td>\n",
       "      <td>Electronics</td>\n",
       "      <td>Apple</td>\n",
       "      <td>New</td>\n",
       "      <td>1299.99</td>\n",
       "      <td>2</td>\n",
       "      <td>Brand new Apple iPhone 14 Pro with 256GB storage</td>\n",
       "      <td>False</td>\n",
       "    </tr>\n",
       "    <tr>\n",
       "      <th>2</th>\n",
       "      <td>4</td>\n",
       "      <td>Furniture</td>\n",
       "      <td>Joybird</td>\n",
       "      <td>used</td>\n",
       "      <td>1200.00</td>\n",
       "      <td>5</td>\n",
       "      <td>Stylish Joybird mid-century modern sofa with p...</td>\n",
       "      <td>False</td>\n",
       "    </tr>\n",
       "    <tr>\n",
       "      <th>3</th>\n",
       "      <td>5</td>\n",
       "      <td>Furniture</td>\n",
       "      <td>IKEA</td>\n",
       "      <td>used</td>\n",
       "      <td>350.00</td>\n",
       "      <td>4</td>\n",
       "      <td>Brand new IKEA Hemnes dresser with 6 drawers.</td>\n",
       "      <td>False</td>\n",
       "    </tr>\n",
       "    <tr>\n",
       "      <th>4</th>\n",
       "      <td>6</td>\n",
       "      <td>Furniture</td>\n",
       "      <td>West Elm</td>\n",
       "      <td>New</td>\n",
       "      <td>3200.00</td>\n",
       "      <td>3</td>\n",
       "      <td>Brand new West Elm mid-century dining table in...</td>\n",
       "      <td>True</td>\n",
       "    </tr>\n",
       "  </tbody>\n",
       "</table>\n",
       "</div>"
      ],
      "text/plain": [
       "   product_id     category     brand condition    price  seller_reputation  \\\n",
       "0           2     Clothing    Adidas       New    75.00                  4   \n",
       "1           3  Electronics     Apple       New  1299.99                  2   \n",
       "2           4    Furniture   Joybird      used  1200.00                  5   \n",
       "3           5    Furniture      IKEA      used   350.00                  4   \n",
       "4           6    Furniture  West Elm       New  3200.00                  3   \n",
       "\n",
       "                                         description  suspected_fraud  \n",
       "0                    Brand new Adidas running shorts             True  \n",
       "1   Brand new Apple iPhone 14 Pro with 256GB storage            False  \n",
       "2  Stylish Joybird mid-century modern sofa with p...            False  \n",
       "3      Brand new IKEA Hemnes dresser with 6 drawers.            False  \n",
       "4  Brand new West Elm mid-century dining table in...             True  "
      ]
     },
     "execution_count": 6,
     "metadata": {},
     "output_type": "execute_result"
    }
   ],
   "source": [
    "df.head()"
   ]
  },
  {
   "cell_type": "code",
   "execution_count": 12,
   "metadata": {},
   "outputs": [
    {
     "data": {
      "text/plain": [
       "(1000, 8)"
      ]
     },
     "execution_count": 12,
     "metadata": {},
     "output_type": "execute_result"
    }
   ],
   "source": [
    "df.shape"
   ]
  },
  {
   "cell_type": "code",
   "execution_count": 13,
   "metadata": {},
   "outputs": [
    {
     "data": {
      "text/plain": [
       "0"
      ]
     },
     "execution_count": 13,
     "metadata": {},
     "output_type": "execute_result"
    }
   ],
   "source": [
    "df.duplicated().sum()"
   ]
  },
  {
   "cell_type": "code",
   "execution_count": 14,
   "metadata": {},
   "outputs": [
    {
     "data": {
      "text/plain": [
       "5"
      ]
     },
     "execution_count": 14,
     "metadata": {},
     "output_type": "execute_result"
    }
   ],
   "source": [
    "df.product_id.duplicated().sum()"
   ]
  },
  {
   "cell_type": "code",
   "execution_count": 16,
   "metadata": {},
   "outputs": [
    {
     "name": "stdout",
     "output_type": "stream",
     "text": [
      "     product_id     category     brand condition    price  seller_reputation  \\\n",
      "0             2     Clothing    Adidas      used    75.00                  4   \n",
      "1             3  Electronics     Apple      used  1299.99                  2   \n",
      "2             4    Furniture   Joybird      used  1200.00                  5   \n",
      "3             5    Furniture      IKEA       New   350.00                  4   \n",
      "4             6    Furniture  West Elm       New  3200.00                  3   \n",
      "..          ...          ...       ...       ...      ...                ...   \n",
      "995         996    Furniture  West Elm      used  1750.00                  3   \n",
      "996         997  Electronics        LG       New  1200.00                  1   \n",
      "997         998     Clothing    Adidas       New    75.00                  5   \n",
      "998         999  Electronics      Dell       New  1200.00                  3   \n",
      "999        1000    Furniture      IKEA      used   350.00                  3   \n",
      "\n",
      "                                           description  suspected_fraud  \n",
      "0                      Brand new Adidas running shorts             True  \n",
      "1     Brand new Apple iPhone 14 Pro with 256GB storage            False  \n",
      "2    Stylish Joybird mid-century modern sofa with p...            False  \n",
      "3        Brand new IKEA Hemnes dresser with 6 drawers.            False  \n",
      "4    Brand new West Elm mid-century dining table in...             True  \n",
      "..                                                 ...              ...  \n",
      "995  Brand new West Elm mid-century style dining ta...            False  \n",
      "996    Brand new LG OLED55CXPUA Alexa Built-In OLED TV            False  \n",
      "997  Brand new Adidas Ultraboost running shoes, per...             True  \n",
      "998  Brand new Dell XPS 13 laptop with 16GB RAM and...            False  \n",
      "999       Brand new IKEA Hemnes dresser with 6 drawers            False  \n",
      "\n",
      "[1000 rows x 8 columns]\n"
     ]
    }
   ],
   "source": [
    "existing_ids = set(df['product_id'])\n",
    "\n",
    "# Identify duplicates (excluding the first occurrence)\n",
    "duplicate_mask = df.duplicated(subset=['product_id'], keep='first')\n",
    "\n",
    "# Number of replacements needed\n",
    "num_replacements = duplicate_mask.sum()\n",
    "\n",
    "# Generate unique random numbers between 1 and 1000 that are not in existing_ids\n",
    "new_values = set()\n",
    "while len(new_values) < num_replacements:\n",
    "    new_val = np.random.randint(1, 1001)\n",
    "    if new_val not in existing_ids | new_values:\n",
    "        new_values.add(new_val)\n",
    "\n",
    "# Replace duplicates with unique random values\n",
    "df.loc[duplicate_mask, 'product_id'] = list(new_values)\n",
    "\n",
    "# Display updated DataFrame\n",
    "print(df)"
   ]
  },
  {
   "cell_type": "code",
   "execution_count": 17,
   "metadata": {},
   "outputs": [
    {
     "data": {
      "text/plain": [
       "0"
      ]
     },
     "execution_count": 17,
     "metadata": {},
     "output_type": "execute_result"
    }
   ],
   "source": [
    "df.product_id.duplicated().sum()"
   ]
  },
  {
   "cell_type": "code",
   "execution_count": 18,
   "metadata": {},
   "outputs": [],
   "source": [
    "df.to_csv('../data/updated_product_listings_id.csv', index=False)"
   ]
  }
 ],
 "metadata": {
  "kernelspec": {
   "display_name": "synthetic",
   "language": "python",
   "name": "python3"
  },
  "language_info": {
   "codemirror_mode": {
    "name": "ipython",
    "version": 3
   },
   "file_extension": ".py",
   "mimetype": "text/x-python",
   "name": "python",
   "nbconvert_exporter": "python",
   "pygments_lexer": "ipython3",
   "version": "3.11.7"
  }
 },
 "nbformat": 4,
 "nbformat_minor": 2
}
