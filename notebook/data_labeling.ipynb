{
 "cells": [
  {
   "cell_type": "code",
   "execution_count": 1,
   "metadata": {},
   "outputs": [],
   "source": [
    "import sys, os\n",
    "\n",
    "sys.path.append(os.path.abspath(os.path.join(\"../scripts\")))"
   ]
  },
  {
   "cell_type": "code",
   "execution_count": 2,
   "metadata": {},
   "outputs": [],
   "source": [
    "root_path = os.path.abspath(\"..\")\n",
    "if root_path not in sys.path:\n",
    "    sys.path.insert(0, root_path)\n",
    "\n",
    "from data_preprocessing import DataPreprocessing"
   ]
  },
  {
   "cell_type": "code",
   "execution_count": null,
   "metadata": {},
   "outputs": [],
   "source": []
  },
  {
   "cell_type": "code",
   "execution_count": 17,
   "metadata": {},
   "outputs": [
    {
     "data": {
      "application/vnd.microsoft.datawrangler.viewer.v0+json": {
       "columns": [
        {
         "name": "index",
         "rawType": "int64",
         "type": "integer"
        },
        {
         "name": "product_id",
         "rawType": "int64",
         "type": "integer"
        },
        {
         "name": "category",
         "rawType": "object",
         "type": "string"
        },
        {
         "name": "brand",
         "rawType": "object",
         "type": "string"
        },
        {
         "name": "condition",
         "rawType": "object",
         "type": "string"
        },
        {
         "name": "price",
         "rawType": "float64",
         "type": "float"
        },
        {
         "name": "seller_reputation",
         "rawType": "int64",
         "type": "integer"
        },
        {
         "name": "description",
         "rawType": "object",
         "type": "string"
        },
        {
         "name": "suspected_fraud",
         "rawType": "bool",
         "type": "boolean"
        },
        {
         "name": "log_price",
         "rawType": "float64",
         "type": "float"
        }
       ],
       "conversionMethod": "pd.DataFrame",
       "ref": "3a7cd8c1-9d4a-4a7c-8729-83ef52c09839",
       "rows": [
        [
         "0",
         "2",
         "Clothing",
         "Adidas",
         "used",
         "75.0",
         "4",
         "Brand new Adidas running shorts",
         "True",
         "4.330733340286331"
        ],
        [
         "1",
         "3",
         "Electronics",
         "Apple",
         "used",
         "1299.99",
         "2",
         "Brand new Apple iPhone 14 Pro with 256GB storage",
         "False",
         "7.170880792087884"
        ],
        [
         "2",
         "4",
         "Furniture",
         "Joybird",
         "used",
         "1200.0",
         "5",
         "Stylish Joybird mid-century modern sofa with plush cushions.",
         "False",
         "7.090909822079984"
        ],
        [
         "3",
         "5",
         "Furniture",
         "IKEA",
         "New",
         "350.0",
         "4",
         "Brand new IKEA Hemnes dresser with 6 drawers.",
         "False",
         "5.860786223465865"
        ],
        [
         "4",
         "6",
         "Furniture",
         "West Elm",
         "New",
         "3200.0",
         "3",
         "Brand new West Elm mid-century dining table in walnut finish.",
         "True",
         "8.071218539969863"
        ],
        [
         "5",
         "7",
         "Clothing",
         "Adidas",
         "New",
         "120.0",
         "3",
         "Brand new Adidas Ultraboost running shoes",
         "False",
         "4.795790545596741"
        ],
        [
         "6",
         "258",
         "Electronics",
         "Apple",
         "used",
         "1299.99",
         "3",
         "Brand new Apple iPhone 14 Pro with 256GB storage",
         "False",
         "7.170880792087884"
        ],
        [
         "7",
         "8",
         "Electronics",
         "Apple",
         "New",
         "999.99",
         "3",
         "Brand new Apple iPhone 13 Pro with 256GB storage",
         "False",
         "6.90874478925533"
        ],
        [
         "8",
         "9",
         "Clothing",
         "Adidas",
         "used",
         "75.0",
         "4",
         "Brand new Adidas UltraBoost running shoes",
         "True",
         "4.330733340286331"
        ],
        [
         "9",
         "10",
         "Furniture",
         "Article",
         "used",
         "1450.0",
         "5",
         "Stylish new Article Avasan dining table with a modern design.",
         "True",
         "7.280008252884188"
        ],
        [
         "10",
         "11",
         "Furniture",
         "SofaCo",
         "New",
         "1750.0",
         "5",
         "Brand new SofaCo luxury sectional couch with customizable fabric.",
         "True",
         "7.467942332285852"
        ],
        [
         "11",
         "12",
         "Electronics",
         "LG",
         "New",
         "1200.0",
         "3",
         "Brand new LG OLED55CXPUA Alexa Built-In OLED TV, 55-Inch",
         "False",
         "7.090909822079984"
        ],
        [
         "12",
         "13",
         "Furniture",
         "SofaCo",
         "New",
         "1750.0",
         "4",
         "Brand new SofaCo L-shaped sectional couch in grey fabric.",
         "False",
         "7.467942332285852"
        ],
        [
         "13",
         "14",
         "Furniture",
         "West Elm",
         "New",
         "1250.0",
         "1",
         "Brand new West Elm mid-century dining table, seats 6.",
         "False",
         "7.131698510466912"
        ],
        [
         "14",
         "15",
         "Clothing",
         "Adidas",
         "used",
         "120.0",
         "2",
         "Brand new Adidas Ultraboost running shoes",
         "True",
         "4.795790545596741"
        ],
        [
         "15",
         "16",
         "Furniture",
         "West Elm",
         "New",
         "1350.0",
         "4",
         "Brand new West Elm mid-century dining chair set, perfect for modern dining rooms.",
         "False",
         "7.208600337960199"
        ],
        [
         "16",
         "17",
         "Furniture",
         "Joybird",
         "used",
         "1450.0",
         "1",
         "Stylish Joybird modern loveseat in vibrant teal fabric.",
         "False",
         "7.280008252884188"
        ],
        [
         "17",
         "18",
         "Electronics",
         "Apple",
         "New",
         "1299.99",
         "4",
         "Brand new Apple iPhone 14 Pro Max with 256GB storage",
         "False",
         "7.170880792087884"
        ],
        [
         "18",
         "19",
         "Clothing",
         "Adidas",
         "New",
         "85.0",
         "1",
         "Brand new Adidas Ultraboost running shoes, size 10",
         "False",
         "4.454347296253507"
        ],
        [
         "19",
         "20",
         "Electronics",
         "Apple",
         "New",
         "1299.99",
         "5",
         "Brand new Apple iPhone 14 Pro with 128GB storage",
         "False",
         "7.170880792087884"
        ],
        [
         "20",
         "21",
         "Clothing",
         "Adidas",
         "New",
         "120.0",
         "5",
         "Brand new Adidas UltraBoost running shoes",
         "False",
         "4.795790545596741"
        ],
        [
         "21",
         "22",
         "Electronics",
         "Apple",
         "New",
         "1299.99",
         "1",
         "Brand new Apple iPhone 14 Pro with 128GB storage",
         "True",
         "7.170880792087884"
        ],
        [
         "22",
         "23",
         "Clothing",
         "Adidas",
         "New",
         "120.0",
         "3",
         "Brand new Adidas Ultraboost running shoes in size 10.",
         "True",
         "4.795790545596741"
        ],
        [
         "23",
         "24",
         "Furniture",
         "Simplicity",
         "New",
         "1250.0",
         "5",
         "Brand new Simplicity modern dining table, seats up to 8.",
         "True",
         "7.131698510466912"
        ],
        [
         "24",
         "25",
         "Electronics",
         "Apple",
         "New",
         "1399.99",
         "3",
         "Brand new Apple iPhone 14 Pro with 256GB storage",
         "False",
         "7.24493440855279"
        ],
        [
         "25",
         "27",
         "Clothing",
         "Adidas",
         "New",
         "120.0",
         "4",
         "Brand new Adidas Ultraboost running shoes",
         "False",
         "4.795790545596741"
        ],
        [
         "26",
         "28",
         "Electronics",
         "Dell",
         "New",
         "1200.0",
         "3",
         "Brand new Dell XPS 13 with Intel i7 processor and 16GB RAM",
         "False",
         "7.090909822079984"
        ],
        [
         "27",
         "29",
         "Furniture",
         "West Elm",
         "used",
         "3500.0",
         "5",
         "Brand new West Elm mid-century dining table, seats 8.",
         "False",
         "8.160803920954665"
        ],
        [
         "28",
         "30",
         "Furniture",
         "Article",
         "used",
         "1350.0",
         "4",
         "Brand new Article Sven grass green sofa, perfect for modern living rooms.",
         "False",
         "7.208600337960199"
        ],
        [
         "29",
         "31",
         "Clothing",
         "Adidas",
         "New",
         "90.0",
         "2",
         "Brand new Adidas Ultraboost running shoes in size 10.",
         "True",
         "4.51085950651685"
        ],
        [
         "30",
         "32",
         "Furniture",
         "Simplicity",
         "New",
         "3500.0",
         "1",
         "Brand new Simplicity handcrafted oak dining table, seats up to 8.",
         "True",
         "8.160803920954665"
        ],
        [
         "31",
         "33",
         "Electronics",
         "Dell",
         "used",
         "1350.0",
         "2",
         "Brand new Dell XPS 13 laptop with Intel i7 and 16GB RAM",
         "True",
         "7.208600337960199"
        ],
        [
         "32",
         "34",
         "Furniture",
         "Rove Concepts",
         "used",
         "3200.0",
         "3",
         "Elegant Rove Concepts Scandinavian dining table, perfect for modern homes.",
         "False",
         "8.071218539969863"
        ],
        [
         "33",
         "35",
         "Clothing",
         "H&M",
         "New",
         "45.0",
         "5",
         "Brand new H&M casual summer dress in multiple sizes.",
         "False",
         "3.828641396489095"
        ],
        [
         "34",
         "36",
         "Furniture",
         "West Elm",
         "New",
         "1800.0",
         "3",
         "Brand new West Elm mid-century dining table with 6 chairs.",
         "False",
         "7.496097345175956"
        ],
        [
         "35",
         "37",
         "Furniture",
         "West Elm",
         "used",
         "3200.0",
         "2",
         "Brand new West Elm mid-century modern dresser with 6 drawers.",
         "True",
         "8.071218539969863"
        ],
        [
         "36",
         "38",
         "Clothing",
         "Adidas",
         "used",
         "120.0",
         "3",
         "Brand new Adidas Ultraboost running shoes",
         "False",
         "4.795790545596741"
        ],
        [
         "37",
         "39",
         "Furniture",
         "SofaCo",
         "New",
         "2400.0",
         "2",
         "Brand new SofaCo luxury leather sectional with chaise lounge.",
         "False",
         "7.783640596221253"
        ],
        [
         "38",
         "40",
         "Electronics",
         "Apple",
         "used",
         "1299.99",
         "5",
         "Brand new Apple iPhone 14 Pro Max with 256GB storage",
         "True",
         "7.170880792087884"
        ],
        [
         "39",
         "41",
         "Electronics",
         "LG",
         "New",
         "1200.0",
         "5",
         "Brand new LG OLED TV with 55-inch display",
         "False",
         "7.090909822079984"
        ],
        [
         "40",
         "42",
         "Furniture",
         "West Elm",
         "used",
         "1750.0",
         "3",
         "Brand new West Elm mid-century dining table, seats up to 8.",
         "False",
         "7.467942332285852"
        ],
        [
         "41",
         "43",
         "Furniture",
         "Rove Concepts",
         "used",
         "1450.0",
         "5",
         "Brand new Rove Concepts dining table made from solid wood",
         "False",
         "7.280008252884188"
        ],
        [
         "42",
         "44",
         "Electronics",
         "LG",
         "New",
         "1399.99",
         "3",
         "Brand new LG OLED55CXPUA Alexa Built-In 55-Inch 4K Smart OLED TV",
         "True",
         "7.24493440855279"
        ],
        [
         "43",
         "45",
         "Clothing",
         "Nike",
         "New",
         "120.0",
         "4",
         "Brand new Nike Air Max 270 sneakers",
         "True",
         "4.795790545596741"
        ],
        [
         "44",
         "46",
         "Electronics",
         "Apple",
         "used",
         "1299.99",
         "5",
         "Brand new Apple iPhone 13 Pro Max with 256GB storage",
         "False",
         "7.170880792087884"
        ],
        [
         "45",
         "47",
         "Furniture",
         "Herman Miller",
         "New",
         "1800.0",
         "3",
         "Brand new Herman Miller Aeron chair for ergonomic comfort.",
         "True",
         "7.496097345175956"
        ],
        [
         "46",
         "48",
         "Furniture",
         "Rove Concepts",
         "New",
         "3500.0",
         "4",
         "Luxury Rove Concepts modern dining table crafted from solid wood.",
         "False",
         "8.160803920954665"
        ],
        [
         "47",
         "49",
         "Electronics",
         "Apple",
         "New",
         "1299.99",
         "3",
         "Brand new Apple iPhone 14 Pro with 256GB storage",
         "False",
         "7.170880792087884"
        ],
        [
         "48",
         "50",
         "Clothing",
         "Adidas",
         "used",
         "75.0",
         "5",
         "Brand new Adidas Ultraboost running shoes",
         "False",
         "4.330733340286331"
        ],
        [
         "49",
         "51",
         "Furniture",
         "West Elm",
         "New",
         "850.0",
         "5",
         "Stylish West Elm mid-century dining chair, perfect for any modern home.",
         "False",
         "6.746412128573375"
        ]
       ],
       "shape": {
        "columns": 9,
        "rows": 995
       }
      },
      "text/html": [
       "<div>\n",
       "<style scoped>\n",
       "    .dataframe tbody tr th:only-of-type {\n",
       "        vertical-align: middle;\n",
       "    }\n",
       "\n",
       "    .dataframe tbody tr th {\n",
       "        vertical-align: top;\n",
       "    }\n",
       "\n",
       "    .dataframe thead th {\n",
       "        text-align: right;\n",
       "    }\n",
       "</style>\n",
       "<table border=\"1\" class=\"dataframe\">\n",
       "  <thead>\n",
       "    <tr style=\"text-align: right;\">\n",
       "      <th></th>\n",
       "      <th>product_id</th>\n",
       "      <th>category</th>\n",
       "      <th>brand</th>\n",
       "      <th>condition</th>\n",
       "      <th>price</th>\n",
       "      <th>seller_reputation</th>\n",
       "      <th>description</th>\n",
       "      <th>suspected_fraud</th>\n",
       "      <th>log_price</th>\n",
       "    </tr>\n",
       "  </thead>\n",
       "  <tbody>\n",
       "    <tr>\n",
       "      <th>0</th>\n",
       "      <td>2</td>\n",
       "      <td>Clothing</td>\n",
       "      <td>Adidas</td>\n",
       "      <td>used</td>\n",
       "      <td>75.00</td>\n",
       "      <td>4</td>\n",
       "      <td>Brand new Adidas running shorts</td>\n",
       "      <td>True</td>\n",
       "      <td>4.330733</td>\n",
       "    </tr>\n",
       "    <tr>\n",
       "      <th>1</th>\n",
       "      <td>3</td>\n",
       "      <td>Electronics</td>\n",
       "      <td>Apple</td>\n",
       "      <td>used</td>\n",
       "      <td>1299.99</td>\n",
       "      <td>2</td>\n",
       "      <td>Brand new Apple iPhone 14 Pro with 256GB storage</td>\n",
       "      <td>False</td>\n",
       "      <td>7.170881</td>\n",
       "    </tr>\n",
       "    <tr>\n",
       "      <th>2</th>\n",
       "      <td>4</td>\n",
       "      <td>Furniture</td>\n",
       "      <td>Joybird</td>\n",
       "      <td>used</td>\n",
       "      <td>1200.00</td>\n",
       "      <td>5</td>\n",
       "      <td>Stylish Joybird mid-century modern sofa with p...</td>\n",
       "      <td>False</td>\n",
       "      <td>7.090910</td>\n",
       "    </tr>\n",
       "    <tr>\n",
       "      <th>3</th>\n",
       "      <td>5</td>\n",
       "      <td>Furniture</td>\n",
       "      <td>IKEA</td>\n",
       "      <td>New</td>\n",
       "      <td>350.00</td>\n",
       "      <td>4</td>\n",
       "      <td>Brand new IKEA Hemnes dresser with 6 drawers.</td>\n",
       "      <td>False</td>\n",
       "      <td>5.860786</td>\n",
       "    </tr>\n",
       "    <tr>\n",
       "      <th>4</th>\n",
       "      <td>6</td>\n",
       "      <td>Furniture</td>\n",
       "      <td>West Elm</td>\n",
       "      <td>New</td>\n",
       "      <td>3200.00</td>\n",
       "      <td>3</td>\n",
       "      <td>Brand new West Elm mid-century dining table in...</td>\n",
       "      <td>True</td>\n",
       "      <td>8.071219</td>\n",
       "    </tr>\n",
       "    <tr>\n",
       "      <th>...</th>\n",
       "      <td>...</td>\n",
       "      <td>...</td>\n",
       "      <td>...</td>\n",
       "      <td>...</td>\n",
       "      <td>...</td>\n",
       "      <td>...</td>\n",
       "      <td>...</td>\n",
       "      <td>...</td>\n",
       "      <td>...</td>\n",
       "    </tr>\n",
       "    <tr>\n",
       "      <th>990</th>\n",
       "      <td>996</td>\n",
       "      <td>Furniture</td>\n",
       "      <td>West Elm</td>\n",
       "      <td>used</td>\n",
       "      <td>1750.00</td>\n",
       "      <td>3</td>\n",
       "      <td>Brand new West Elm mid-century style dining ta...</td>\n",
       "      <td>False</td>\n",
       "      <td>7.467942</td>\n",
       "    </tr>\n",
       "    <tr>\n",
       "      <th>991</th>\n",
       "      <td>997</td>\n",
       "      <td>Electronics</td>\n",
       "      <td>LG</td>\n",
       "      <td>New</td>\n",
       "      <td>1200.00</td>\n",
       "      <td>1</td>\n",
       "      <td>Brand new LG OLED55CXPUA Alexa Built-In OLED TV</td>\n",
       "      <td>False</td>\n",
       "      <td>7.090910</td>\n",
       "    </tr>\n",
       "    <tr>\n",
       "      <th>992</th>\n",
       "      <td>998</td>\n",
       "      <td>Clothing</td>\n",
       "      <td>Adidas</td>\n",
       "      <td>New</td>\n",
       "      <td>75.00</td>\n",
       "      <td>5</td>\n",
       "      <td>Brand new Adidas Ultraboost running shoes, per...</td>\n",
       "      <td>True</td>\n",
       "      <td>4.330733</td>\n",
       "    </tr>\n",
       "    <tr>\n",
       "      <th>993</th>\n",
       "      <td>999</td>\n",
       "      <td>Electronics</td>\n",
       "      <td>Dell</td>\n",
       "      <td>New</td>\n",
       "      <td>1200.00</td>\n",
       "      <td>3</td>\n",
       "      <td>Brand new Dell XPS 13 laptop with 16GB RAM and...</td>\n",
       "      <td>False</td>\n",
       "      <td>7.090910</td>\n",
       "    </tr>\n",
       "    <tr>\n",
       "      <th>994</th>\n",
       "      <td>1000</td>\n",
       "      <td>Furniture</td>\n",
       "      <td>IKEA</td>\n",
       "      <td>used</td>\n",
       "      <td>350.00</td>\n",
       "      <td>3</td>\n",
       "      <td>Brand new IKEA Hemnes dresser with 6 drawers</td>\n",
       "      <td>False</td>\n",
       "      <td>5.860786</td>\n",
       "    </tr>\n",
       "  </tbody>\n",
       "</table>\n",
       "<p>995 rows × 9 columns</p>\n",
       "</div>"
      ],
      "text/plain": [
       "     product_id     category     brand condition    price  seller_reputation  \\\n",
       "0             2     Clothing    Adidas      used    75.00                  4   \n",
       "1             3  Electronics     Apple      used  1299.99                  2   \n",
       "2             4    Furniture   Joybird      used  1200.00                  5   \n",
       "3             5    Furniture      IKEA       New   350.00                  4   \n",
       "4             6    Furniture  West Elm       New  3200.00                  3   \n",
       "..          ...          ...       ...       ...      ...                ...   \n",
       "990         996    Furniture  West Elm      used  1750.00                  3   \n",
       "991         997  Electronics        LG       New  1200.00                  1   \n",
       "992         998     Clothing    Adidas       New    75.00                  5   \n",
       "993         999  Electronics      Dell       New  1200.00                  3   \n",
       "994        1000    Furniture      IKEA      used   350.00                  3   \n",
       "\n",
       "                                           description  suspected_fraud  \\\n",
       "0                      Brand new Adidas running shorts             True   \n",
       "1     Brand new Apple iPhone 14 Pro with 256GB storage            False   \n",
       "2    Stylish Joybird mid-century modern sofa with p...            False   \n",
       "3        Brand new IKEA Hemnes dresser with 6 drawers.            False   \n",
       "4    Brand new West Elm mid-century dining table in...             True   \n",
       "..                                                 ...              ...   \n",
       "990  Brand new West Elm mid-century style dining ta...            False   \n",
       "991    Brand new LG OLED55CXPUA Alexa Built-In OLED TV            False   \n",
       "992  Brand new Adidas Ultraboost running shoes, per...             True   \n",
       "993  Brand new Dell XPS 13 laptop with 16GB RAM and...            False   \n",
       "994       Brand new IKEA Hemnes dresser with 6 drawers            False   \n",
       "\n",
       "     log_price  \n",
       "0     4.330733  \n",
       "1     7.170881  \n",
       "2     7.090910  \n",
       "3     5.860786  \n",
       "4     8.071219  \n",
       "..         ...  \n",
       "990   7.467942  \n",
       "991   7.090910  \n",
       "992   4.330733  \n",
       "993   7.090910  \n",
       "994   5.860786  \n",
       "\n",
       "[995 rows x 9 columns]"
      ]
     },
     "execution_count": 17,
     "metadata": {},
     "output_type": "execute_result"
    }
   ],
   "source": [
    "my_data = DataPreprocessing()\n",
    "my_data.read_data(\"../data/processed_data/synthetic_product_listings_gpt_4o_mini.csv\")"
   ]
  },
  {
   "cell_type": "code",
   "execution_count": 18,
   "metadata": {},
   "outputs": [
    {
     "data": {
      "text/plain": [
       "Index(['product_id', 'category', 'brand', 'condition', 'price',\n",
       "       'seller_reputation', 'description', 'suspected_fraud', 'log_price'],\n",
       "      dtype='object')"
      ]
     },
     "execution_count": 18,
     "metadata": {},
     "output_type": "execute_result"
    }
   ],
   "source": [
    "my_data.data.columns"
   ]
  },
  {
   "cell_type": "code",
   "execution_count": 19,
   "metadata": {},
   "outputs": [
    {
     "data": {
      "application/vnd.microsoft.datawrangler.viewer.v0+json": {
       "columns": [
        {
         "name": "index",
         "rawType": "int64",
         "type": "integer"
        },
        {
         "name": "category",
         "rawType": "object",
         "type": "string"
        },
        {
         "name": "brand",
         "rawType": "object",
         "type": "string"
        },
        {
         "name": "condition",
         "rawType": "object",
         "type": "string"
        },
        {
         "name": "price",
         "rawType": "float64",
         "type": "float"
        },
        {
         "name": "seller_reputation",
         "rawType": "int64",
         "type": "integer"
        },
        {
         "name": "log_price",
         "rawType": "float64",
         "type": "float"
        }
       ],
       "conversionMethod": "pd.DataFrame",
       "ref": "d81943d3-7336-47ce-ada0-70dd0cacf4a1",
       "rows": [
        [
         "0",
         "Clothing",
         "Adidas",
         "used",
         "75.0",
         "4",
         "4.330733340286331"
        ],
        [
         "1",
         "Electronics",
         "Apple",
         "used",
         "1299.99",
         "2",
         "7.170880792087884"
        ],
        [
         "2",
         "Furniture",
         "Joybird",
         "used",
         "1200.0",
         "5",
         "7.090909822079984"
        ],
        [
         "3",
         "Furniture",
         "IKEA",
         "New",
         "350.0",
         "4",
         "5.860786223465865"
        ],
        [
         "4",
         "Furniture",
         "West Elm",
         "New",
         "3200.0",
         "3",
         "8.071218539969863"
        ],
        [
         "5",
         "Clothing",
         "Adidas",
         "New",
         "120.0",
         "3",
         "4.795790545596741"
        ],
        [
         "6",
         "Electronics",
         "Apple",
         "used",
         "1299.99",
         "3",
         "7.170880792087884"
        ],
        [
         "7",
         "Electronics",
         "Apple",
         "New",
         "999.99",
         "3",
         "6.90874478925533"
        ],
        [
         "8",
         "Clothing",
         "Adidas",
         "used",
         "75.0",
         "4",
         "4.330733340286331"
        ],
        [
         "9",
         "Furniture",
         "Article",
         "used",
         "1450.0",
         "5",
         "7.280008252884188"
        ],
        [
         "10",
         "Furniture",
         "SofaCo",
         "New",
         "1750.0",
         "5",
         "7.467942332285852"
        ],
        [
         "11",
         "Electronics",
         "LG",
         "New",
         "1200.0",
         "3",
         "7.090909822079984"
        ],
        [
         "12",
         "Furniture",
         "SofaCo",
         "New",
         "1750.0",
         "4",
         "7.467942332285852"
        ],
        [
         "13",
         "Furniture",
         "West Elm",
         "New",
         "1250.0",
         "1",
         "7.131698510466912"
        ],
        [
         "14",
         "Clothing",
         "Adidas",
         "used",
         "120.0",
         "2",
         "4.795790545596741"
        ],
        [
         "15",
         "Furniture",
         "West Elm",
         "New",
         "1350.0",
         "4",
         "7.208600337960199"
        ],
        [
         "16",
         "Furniture",
         "Joybird",
         "used",
         "1450.0",
         "1",
         "7.280008252884188"
        ],
        [
         "17",
         "Electronics",
         "Apple",
         "New",
         "1299.99",
         "4",
         "7.170880792087884"
        ],
        [
         "18",
         "Clothing",
         "Adidas",
         "New",
         "85.0",
         "1",
         "4.454347296253507"
        ],
        [
         "19",
         "Electronics",
         "Apple",
         "New",
         "1299.99",
         "5",
         "7.170880792087884"
        ],
        [
         "20",
         "Clothing",
         "Adidas",
         "New",
         "120.0",
         "5",
         "4.795790545596741"
        ],
        [
         "21",
         "Electronics",
         "Apple",
         "New",
         "1299.99",
         "1",
         "7.170880792087884"
        ],
        [
         "22",
         "Clothing",
         "Adidas",
         "New",
         "120.0",
         "3",
         "4.795790545596741"
        ],
        [
         "23",
         "Furniture",
         "Simplicity",
         "New",
         "1250.0",
         "5",
         "7.131698510466912"
        ],
        [
         "24",
         "Electronics",
         "Apple",
         "New",
         "1399.99",
         "3",
         "7.24493440855279"
        ],
        [
         "25",
         "Clothing",
         "Adidas",
         "New",
         "120.0",
         "4",
         "4.795790545596741"
        ],
        [
         "26",
         "Electronics",
         "Dell",
         "New",
         "1200.0",
         "3",
         "7.090909822079984"
        ],
        [
         "27",
         "Furniture",
         "West Elm",
         "used",
         "3500.0",
         "5",
         "8.160803920954665"
        ],
        [
         "28",
         "Furniture",
         "Article",
         "used",
         "1350.0",
         "4",
         "7.208600337960199"
        ],
        [
         "29",
         "Clothing",
         "Adidas",
         "New",
         "90.0",
         "2",
         "4.51085950651685"
        ],
        [
         "30",
         "Furniture",
         "Simplicity",
         "New",
         "3500.0",
         "1",
         "8.160803920954665"
        ],
        [
         "31",
         "Electronics",
         "Dell",
         "used",
         "1350.0",
         "2",
         "7.208600337960199"
        ],
        [
         "32",
         "Furniture",
         "Rove Concepts",
         "used",
         "3200.0",
         "3",
         "8.071218539969863"
        ],
        [
         "33",
         "Clothing",
         "H&M",
         "New",
         "45.0",
         "5",
         "3.828641396489095"
        ],
        [
         "34",
         "Furniture",
         "West Elm",
         "New",
         "1800.0",
         "3",
         "7.496097345175956"
        ],
        [
         "35",
         "Furniture",
         "West Elm",
         "used",
         "3200.0",
         "2",
         "8.071218539969863"
        ],
        [
         "36",
         "Clothing",
         "Adidas",
         "used",
         "120.0",
         "3",
         "4.795790545596741"
        ],
        [
         "37",
         "Furniture",
         "SofaCo",
         "New",
         "2400.0",
         "2",
         "7.783640596221253"
        ],
        [
         "38",
         "Electronics",
         "Apple",
         "used",
         "1299.99",
         "5",
         "7.170880792087884"
        ],
        [
         "39",
         "Electronics",
         "LG",
         "New",
         "1200.0",
         "5",
         "7.090909822079984"
        ],
        [
         "40",
         "Furniture",
         "West Elm",
         "used",
         "1750.0",
         "3",
         "7.467942332285852"
        ],
        [
         "41",
         "Furniture",
         "Rove Concepts",
         "used",
         "1450.0",
         "5",
         "7.280008252884188"
        ],
        [
         "42",
         "Electronics",
         "LG",
         "New",
         "1399.99",
         "3",
         "7.24493440855279"
        ],
        [
         "43",
         "Clothing",
         "Nike",
         "New",
         "120.0",
         "4",
         "4.795790545596741"
        ],
        [
         "44",
         "Electronics",
         "Apple",
         "used",
         "1299.99",
         "5",
         "7.170880792087884"
        ],
        [
         "45",
         "Furniture",
         "Herman Miller",
         "New",
         "1800.0",
         "3",
         "7.496097345175956"
        ],
        [
         "46",
         "Furniture",
         "Rove Concepts",
         "New",
         "3500.0",
         "4",
         "8.160803920954665"
        ],
        [
         "47",
         "Electronics",
         "Apple",
         "New",
         "1299.99",
         "3",
         "7.170880792087884"
        ],
        [
         "48",
         "Clothing",
         "Adidas",
         "used",
         "75.0",
         "5",
         "4.330733340286331"
        ],
        [
         "49",
         "Furniture",
         "West Elm",
         "New",
         "850.0",
         "5",
         "6.746412128573375"
        ]
       ],
       "shape": {
        "columns": 6,
        "rows": 995
       }
      },
      "text/html": [
       "<div>\n",
       "<style scoped>\n",
       "    .dataframe tbody tr th:only-of-type {\n",
       "        vertical-align: middle;\n",
       "    }\n",
       "\n",
       "    .dataframe tbody tr th {\n",
       "        vertical-align: top;\n",
       "    }\n",
       "\n",
       "    .dataframe thead th {\n",
       "        text-align: right;\n",
       "    }\n",
       "</style>\n",
       "<table border=\"1\" class=\"dataframe\">\n",
       "  <thead>\n",
       "    <tr style=\"text-align: right;\">\n",
       "      <th></th>\n",
       "      <th>category</th>\n",
       "      <th>brand</th>\n",
       "      <th>condition</th>\n",
       "      <th>price</th>\n",
       "      <th>seller_reputation</th>\n",
       "      <th>log_price</th>\n",
       "    </tr>\n",
       "  </thead>\n",
       "  <tbody>\n",
       "    <tr>\n",
       "      <th>0</th>\n",
       "      <td>Clothing</td>\n",
       "      <td>Adidas</td>\n",
       "      <td>used</td>\n",
       "      <td>75.00</td>\n",
       "      <td>4</td>\n",
       "      <td>4.330733</td>\n",
       "    </tr>\n",
       "    <tr>\n",
       "      <th>1</th>\n",
       "      <td>Electronics</td>\n",
       "      <td>Apple</td>\n",
       "      <td>used</td>\n",
       "      <td>1299.99</td>\n",
       "      <td>2</td>\n",
       "      <td>7.170881</td>\n",
       "    </tr>\n",
       "    <tr>\n",
       "      <th>2</th>\n",
       "      <td>Furniture</td>\n",
       "      <td>Joybird</td>\n",
       "      <td>used</td>\n",
       "      <td>1200.00</td>\n",
       "      <td>5</td>\n",
       "      <td>7.090910</td>\n",
       "    </tr>\n",
       "    <tr>\n",
       "      <th>3</th>\n",
       "      <td>Furniture</td>\n",
       "      <td>IKEA</td>\n",
       "      <td>New</td>\n",
       "      <td>350.00</td>\n",
       "      <td>4</td>\n",
       "      <td>5.860786</td>\n",
       "    </tr>\n",
       "    <tr>\n",
       "      <th>4</th>\n",
       "      <td>Furniture</td>\n",
       "      <td>West Elm</td>\n",
       "      <td>New</td>\n",
       "      <td>3200.00</td>\n",
       "      <td>3</td>\n",
       "      <td>8.071219</td>\n",
       "    </tr>\n",
       "    <tr>\n",
       "      <th>...</th>\n",
       "      <td>...</td>\n",
       "      <td>...</td>\n",
       "      <td>...</td>\n",
       "      <td>...</td>\n",
       "      <td>...</td>\n",
       "      <td>...</td>\n",
       "    </tr>\n",
       "    <tr>\n",
       "      <th>990</th>\n",
       "      <td>Furniture</td>\n",
       "      <td>West Elm</td>\n",
       "      <td>used</td>\n",
       "      <td>1750.00</td>\n",
       "      <td>3</td>\n",
       "      <td>7.467942</td>\n",
       "    </tr>\n",
       "    <tr>\n",
       "      <th>991</th>\n",
       "      <td>Electronics</td>\n",
       "      <td>LG</td>\n",
       "      <td>New</td>\n",
       "      <td>1200.00</td>\n",
       "      <td>1</td>\n",
       "      <td>7.090910</td>\n",
       "    </tr>\n",
       "    <tr>\n",
       "      <th>992</th>\n",
       "      <td>Clothing</td>\n",
       "      <td>Adidas</td>\n",
       "      <td>New</td>\n",
       "      <td>75.00</td>\n",
       "      <td>5</td>\n",
       "      <td>4.330733</td>\n",
       "    </tr>\n",
       "    <tr>\n",
       "      <th>993</th>\n",
       "      <td>Electronics</td>\n",
       "      <td>Dell</td>\n",
       "      <td>New</td>\n",
       "      <td>1200.00</td>\n",
       "      <td>3</td>\n",
       "      <td>7.090910</td>\n",
       "    </tr>\n",
       "    <tr>\n",
       "      <th>994</th>\n",
       "      <td>Furniture</td>\n",
       "      <td>IKEA</td>\n",
       "      <td>used</td>\n",
       "      <td>350.00</td>\n",
       "      <td>3</td>\n",
       "      <td>5.860786</td>\n",
       "    </tr>\n",
       "  </tbody>\n",
       "</table>\n",
       "<p>995 rows × 6 columns</p>\n",
       "</div>"
      ],
      "text/plain": [
       "        category     brand condition    price  seller_reputation  log_price\n",
       "0       Clothing    Adidas      used    75.00                  4   4.330733\n",
       "1    Electronics     Apple      used  1299.99                  2   7.170881\n",
       "2      Furniture   Joybird      used  1200.00                  5   7.090910\n",
       "3      Furniture      IKEA       New   350.00                  4   5.860786\n",
       "4      Furniture  West Elm       New  3200.00                  3   8.071219\n",
       "..           ...       ...       ...      ...                ...        ...\n",
       "990    Furniture  West Elm      used  1750.00                  3   7.467942\n",
       "991  Electronics        LG       New  1200.00                  1   7.090910\n",
       "992     Clothing    Adidas       New    75.00                  5   4.330733\n",
       "993  Electronics      Dell       New  1200.00                  3   7.090910\n",
       "994    Furniture      IKEA      used   350.00                  3   5.860786\n",
       "\n",
       "[995 rows x 6 columns]"
      ]
     },
     "execution_count": 19,
     "metadata": {},
     "output_type": "execute_result"
    }
   ],
   "source": [
    "col = [\"product_id\", \"description\", \"suspected_fraud\"]\n",
    "my_data.drop_columns(col)"
   ]
  },
  {
   "cell_type": "code",
   "execution_count": 20,
   "metadata": {},
   "outputs": [
    {
     "data": {
      "application/vnd.microsoft.datawrangler.viewer.v0+json": {
       "columns": [
        {
         "name": "index",
         "rawType": "int64",
         "type": "integer"
        },
        {
         "name": "category",
         "rawType": "object",
         "type": "string"
        },
        {
         "name": "brand",
         "rawType": "object",
         "type": "string"
        },
        {
         "name": "condition",
         "rawType": "object",
         "type": "string"
        },
        {
         "name": "price",
         "rawType": "float64",
         "type": "float"
        },
        {
         "name": "seller_reputation",
         "rawType": "int64",
         "type": "integer"
        },
        {
         "name": "log_price",
         "rawType": "float64",
         "type": "float"
        }
       ],
       "conversionMethod": "pd.DataFrame",
       "ref": "5fca386f-4d9c-4452-b58a-6aeccdcb2508",
       "rows": [
        [
         "0",
         "Clothing",
         "Adidas",
         "used",
         "75.0",
         "4",
         "4.330733340286331"
        ],
        [
         "1",
         "Electronics",
         "Apple",
         "used",
         "1299.99",
         "2",
         "7.170880792087884"
        ],
        [
         "2",
         "Furniture",
         "Joybird",
         "used",
         "1200.0",
         "5",
         "7.090909822079984"
        ],
        [
         "3",
         "Furniture",
         "IKEA",
         "New",
         "350.0",
         "4",
         "5.860786223465865"
        ],
        [
         "4",
         "Furniture",
         "West Elm",
         "New",
         "3200.0",
         "3",
         "8.071218539969863"
        ],
        [
         "5",
         "Clothing",
         "Adidas",
         "New",
         "120.0",
         "3",
         "4.795790545596741"
        ],
        [
         "6",
         "Electronics",
         "Apple",
         "used",
         "1299.99",
         "3",
         "7.170880792087884"
        ],
        [
         "7",
         "Electronics",
         "Apple",
         "New",
         "999.99",
         "3",
         "6.90874478925533"
        ],
        [
         "8",
         "Clothing",
         "Adidas",
         "used",
         "75.0",
         "4",
         "4.330733340286331"
        ],
        [
         "9",
         "Furniture",
         "Article",
         "used",
         "1450.0",
         "5",
         "7.280008252884188"
        ],
        [
         "10",
         "Furniture",
         "SofaCo",
         "New",
         "1750.0",
         "5",
         "7.467942332285852"
        ],
        [
         "11",
         "Electronics",
         "LG",
         "New",
         "1200.0",
         "3",
         "7.090909822079984"
        ],
        [
         "12",
         "Furniture",
         "SofaCo",
         "New",
         "1750.0",
         "4",
         "7.467942332285852"
        ],
        [
         "13",
         "Furniture",
         "West Elm",
         "New",
         "1250.0",
         "1",
         "7.131698510466912"
        ],
        [
         "14",
         "Clothing",
         "Adidas",
         "used",
         "120.0",
         "2",
         "4.795790545596741"
        ],
        [
         "15",
         "Furniture",
         "West Elm",
         "New",
         "1350.0",
         "4",
         "7.208600337960199"
        ],
        [
         "16",
         "Furniture",
         "Joybird",
         "used",
         "1450.0",
         "1",
         "7.280008252884188"
        ],
        [
         "17",
         "Electronics",
         "Apple",
         "New",
         "1299.99",
         "4",
         "7.170880792087884"
        ],
        [
         "18",
         "Clothing",
         "Adidas",
         "New",
         "85.0",
         "1",
         "4.454347296253507"
        ],
        [
         "19",
         "Electronics",
         "Apple",
         "New",
         "1299.99",
         "5",
         "7.170880792087884"
        ],
        [
         "20",
         "Clothing",
         "Adidas",
         "New",
         "120.0",
         "5",
         "4.795790545596741"
        ],
        [
         "21",
         "Electronics",
         "Apple",
         "New",
         "1299.99",
         "1",
         "7.170880792087884"
        ],
        [
         "22",
         "Clothing",
         "Adidas",
         "New",
         "120.0",
         "3",
         "4.795790545596741"
        ],
        [
         "23",
         "Furniture",
         "Simplicity",
         "New",
         "1250.0",
         "5",
         "7.131698510466912"
        ],
        [
         "24",
         "Electronics",
         "Apple",
         "New",
         "1399.99",
         "3",
         "7.24493440855279"
        ],
        [
         "25",
         "Clothing",
         "Adidas",
         "New",
         "120.0",
         "4",
         "4.795790545596741"
        ],
        [
         "26",
         "Electronics",
         "Dell",
         "New",
         "1200.0",
         "3",
         "7.090909822079984"
        ],
        [
         "27",
         "Furniture",
         "West Elm",
         "used",
         "3500.0",
         "5",
         "8.160803920954665"
        ],
        [
         "28",
         "Furniture",
         "Article",
         "used",
         "1350.0",
         "4",
         "7.208600337960199"
        ],
        [
         "29",
         "Clothing",
         "Adidas",
         "New",
         "90.0",
         "2",
         "4.51085950651685"
        ],
        [
         "30",
         "Furniture",
         "Simplicity",
         "New",
         "3500.0",
         "1",
         "8.160803920954665"
        ],
        [
         "31",
         "Electronics",
         "Dell",
         "used",
         "1350.0",
         "2",
         "7.208600337960199"
        ],
        [
         "32",
         "Furniture",
         "Rove Concepts",
         "used",
         "3200.0",
         "3",
         "8.071218539969863"
        ],
        [
         "33",
         "Clothing",
         "H&M",
         "New",
         "45.0",
         "5",
         "3.828641396489095"
        ],
        [
         "34",
         "Furniture",
         "West Elm",
         "New",
         "1800.0",
         "3",
         "7.496097345175956"
        ],
        [
         "35",
         "Furniture",
         "West Elm",
         "used",
         "3200.0",
         "2",
         "8.071218539969863"
        ],
        [
         "36",
         "Clothing",
         "Adidas",
         "used",
         "120.0",
         "3",
         "4.795790545596741"
        ],
        [
         "37",
         "Furniture",
         "SofaCo",
         "New",
         "2400.0",
         "2",
         "7.783640596221253"
        ],
        [
         "38",
         "Electronics",
         "Apple",
         "used",
         "1299.99",
         "5",
         "7.170880792087884"
        ],
        [
         "39",
         "Electronics",
         "LG",
         "New",
         "1200.0",
         "5",
         "7.090909822079984"
        ],
        [
         "40",
         "Furniture",
         "West Elm",
         "used",
         "1750.0",
         "3",
         "7.467942332285852"
        ],
        [
         "41",
         "Furniture",
         "Rove Concepts",
         "used",
         "1450.0",
         "5",
         "7.280008252884188"
        ],
        [
         "42",
         "Electronics",
         "LG",
         "New",
         "1399.99",
         "3",
         "7.24493440855279"
        ],
        [
         "43",
         "Clothing",
         "Nike",
         "New",
         "120.0",
         "4",
         "4.795790545596741"
        ],
        [
         "44",
         "Electronics",
         "Apple",
         "used",
         "1299.99",
         "5",
         "7.170880792087884"
        ],
        [
         "45",
         "Furniture",
         "Herman Miller",
         "New",
         "1800.0",
         "3",
         "7.496097345175956"
        ],
        [
         "46",
         "Furniture",
         "Rove Concepts",
         "New",
         "3500.0",
         "4",
         "8.160803920954665"
        ],
        [
         "47",
         "Electronics",
         "Apple",
         "New",
         "1299.99",
         "3",
         "7.170880792087884"
        ],
        [
         "48",
         "Clothing",
         "Adidas",
         "used",
         "75.0",
         "5",
         "4.330733340286331"
        ],
        [
         "49",
         "Furniture",
         "West Elm",
         "New",
         "850.0",
         "5",
         "6.746412128573375"
        ]
       ],
       "shape": {
        "columns": 6,
        "rows": 995
       }
      },
      "text/html": [
       "<div>\n",
       "<style scoped>\n",
       "    .dataframe tbody tr th:only-of-type {\n",
       "        vertical-align: middle;\n",
       "    }\n",
       "\n",
       "    .dataframe tbody tr th {\n",
       "        vertical-align: top;\n",
       "    }\n",
       "\n",
       "    .dataframe thead th {\n",
       "        text-align: right;\n",
       "    }\n",
       "</style>\n",
       "<table border=\"1\" class=\"dataframe\">\n",
       "  <thead>\n",
       "    <tr style=\"text-align: right;\">\n",
       "      <th></th>\n",
       "      <th>category</th>\n",
       "      <th>brand</th>\n",
       "      <th>condition</th>\n",
       "      <th>price</th>\n",
       "      <th>seller_reputation</th>\n",
       "      <th>log_price</th>\n",
       "    </tr>\n",
       "  </thead>\n",
       "  <tbody>\n",
       "    <tr>\n",
       "      <th>0</th>\n",
       "      <td>Clothing</td>\n",
       "      <td>Adidas</td>\n",
       "      <td>used</td>\n",
       "      <td>75.00</td>\n",
       "      <td>4</td>\n",
       "      <td>4.330733</td>\n",
       "    </tr>\n",
       "    <tr>\n",
       "      <th>1</th>\n",
       "      <td>Electronics</td>\n",
       "      <td>Apple</td>\n",
       "      <td>used</td>\n",
       "      <td>1299.99</td>\n",
       "      <td>2</td>\n",
       "      <td>7.170881</td>\n",
       "    </tr>\n",
       "    <tr>\n",
       "      <th>2</th>\n",
       "      <td>Furniture</td>\n",
       "      <td>Joybird</td>\n",
       "      <td>used</td>\n",
       "      <td>1200.00</td>\n",
       "      <td>5</td>\n",
       "      <td>7.090910</td>\n",
       "    </tr>\n",
       "    <tr>\n",
       "      <th>3</th>\n",
       "      <td>Furniture</td>\n",
       "      <td>IKEA</td>\n",
       "      <td>New</td>\n",
       "      <td>350.00</td>\n",
       "      <td>4</td>\n",
       "      <td>5.860786</td>\n",
       "    </tr>\n",
       "    <tr>\n",
       "      <th>4</th>\n",
       "      <td>Furniture</td>\n",
       "      <td>West Elm</td>\n",
       "      <td>New</td>\n",
       "      <td>3200.00</td>\n",
       "      <td>3</td>\n",
       "      <td>8.071219</td>\n",
       "    </tr>\n",
       "    <tr>\n",
       "      <th>...</th>\n",
       "      <td>...</td>\n",
       "      <td>...</td>\n",
       "      <td>...</td>\n",
       "      <td>...</td>\n",
       "      <td>...</td>\n",
       "      <td>...</td>\n",
       "    </tr>\n",
       "    <tr>\n",
       "      <th>990</th>\n",
       "      <td>Furniture</td>\n",
       "      <td>West Elm</td>\n",
       "      <td>used</td>\n",
       "      <td>1750.00</td>\n",
       "      <td>3</td>\n",
       "      <td>7.467942</td>\n",
       "    </tr>\n",
       "    <tr>\n",
       "      <th>991</th>\n",
       "      <td>Electronics</td>\n",
       "      <td>LG</td>\n",
       "      <td>New</td>\n",
       "      <td>1200.00</td>\n",
       "      <td>1</td>\n",
       "      <td>7.090910</td>\n",
       "    </tr>\n",
       "    <tr>\n",
       "      <th>992</th>\n",
       "      <td>Clothing</td>\n",
       "      <td>Adidas</td>\n",
       "      <td>New</td>\n",
       "      <td>75.00</td>\n",
       "      <td>5</td>\n",
       "      <td>4.330733</td>\n",
       "    </tr>\n",
       "    <tr>\n",
       "      <th>993</th>\n",
       "      <td>Electronics</td>\n",
       "      <td>Dell</td>\n",
       "      <td>New</td>\n",
       "      <td>1200.00</td>\n",
       "      <td>3</td>\n",
       "      <td>7.090910</td>\n",
       "    </tr>\n",
       "    <tr>\n",
       "      <th>994</th>\n",
       "      <td>Furniture</td>\n",
       "      <td>IKEA</td>\n",
       "      <td>used</td>\n",
       "      <td>350.00</td>\n",
       "      <td>3</td>\n",
       "      <td>5.860786</td>\n",
       "    </tr>\n",
       "  </tbody>\n",
       "</table>\n",
       "<p>995 rows × 6 columns</p>\n",
       "</div>"
      ],
      "text/plain": [
       "        category     brand condition    price  seller_reputation  log_price\n",
       "0       Clothing    Adidas      used    75.00                  4   4.330733\n",
       "1    Electronics     Apple      used  1299.99                  2   7.170881\n",
       "2      Furniture   Joybird      used  1200.00                  5   7.090910\n",
       "3      Furniture      IKEA       New   350.00                  4   5.860786\n",
       "4      Furniture  West Elm       New  3200.00                  3   8.071219\n",
       "..           ...       ...       ...      ...                ...        ...\n",
       "990    Furniture  West Elm      used  1750.00                  3   7.467942\n",
       "991  Electronics        LG       New  1200.00                  1   7.090910\n",
       "992     Clothing    Adidas       New    75.00                  5   4.330733\n",
       "993  Electronics      Dell       New  1200.00                  3   7.090910\n",
       "994    Furniture      IKEA      used   350.00                  3   5.860786\n",
       "\n",
       "[995 rows x 6 columns]"
      ]
     },
     "execution_count": 20,
     "metadata": {},
     "output_type": "execute_result"
    }
   ],
   "source": [
    "my_data.data"
   ]
  },
  {
   "cell_type": "code",
   "execution_count": 21,
   "metadata": {},
   "outputs": [
    {
     "data": {
      "application/vnd.microsoft.datawrangler.viewer.v0+json": {
       "columns": [
        {
         "name": "index",
         "rawType": "int64",
         "type": "integer"
        },
        {
         "name": "category",
         "rawType": "object",
         "type": "string"
        },
        {
         "name": "brand",
         "rawType": "object",
         "type": "string"
        },
        {
         "name": "condition",
         "rawType": "object",
         "type": "string"
        },
        {
         "name": "seller_reputation",
         "rawType": "int64",
         "type": "integer"
        },
        {
         "name": "log_price",
         "rawType": "float64",
         "type": "float"
        }
       ],
       "conversionMethod": "pd.DataFrame",
       "ref": "d5b6e0fc-0068-4ff4-9ec6-0e116c0d4da3",
       "rows": [
        [
         "0",
         "Clothing",
         "Adidas",
         "used",
         "4",
         "4.330733340286331"
        ],
        [
         "1",
         "Electronics",
         "Apple",
         "used",
         "2",
         "7.170880792087884"
        ],
        [
         "2",
         "Furniture",
         "Joybird",
         "used",
         "5",
         "7.090909822079984"
        ],
        [
         "3",
         "Furniture",
         "IKEA",
         "New",
         "4",
         "5.860786223465865"
        ],
        [
         "4",
         "Furniture",
         "West Elm",
         "New",
         "3",
         "8.071218539969863"
        ],
        [
         "5",
         "Clothing",
         "Adidas",
         "New",
         "3",
         "4.795790545596741"
        ],
        [
         "6",
         "Electronics",
         "Apple",
         "used",
         "3",
         "7.170880792087884"
        ],
        [
         "7",
         "Electronics",
         "Apple",
         "New",
         "3",
         "6.90874478925533"
        ],
        [
         "8",
         "Clothing",
         "Adidas",
         "used",
         "4",
         "4.330733340286331"
        ],
        [
         "9",
         "Furniture",
         "Article",
         "used",
         "5",
         "7.280008252884188"
        ],
        [
         "10",
         "Furniture",
         "SofaCo",
         "New",
         "5",
         "7.467942332285852"
        ],
        [
         "11",
         "Electronics",
         "LG",
         "New",
         "3",
         "7.090909822079984"
        ],
        [
         "12",
         "Furniture",
         "SofaCo",
         "New",
         "4",
         "7.467942332285852"
        ],
        [
         "13",
         "Furniture",
         "West Elm",
         "New",
         "1",
         "7.131698510466912"
        ],
        [
         "14",
         "Clothing",
         "Adidas",
         "used",
         "2",
         "4.795790545596741"
        ],
        [
         "15",
         "Furniture",
         "West Elm",
         "New",
         "4",
         "7.208600337960199"
        ],
        [
         "16",
         "Furniture",
         "Joybird",
         "used",
         "1",
         "7.280008252884188"
        ],
        [
         "17",
         "Electronics",
         "Apple",
         "New",
         "4",
         "7.170880792087884"
        ],
        [
         "18",
         "Clothing",
         "Adidas",
         "New",
         "1",
         "4.454347296253507"
        ],
        [
         "19",
         "Electronics",
         "Apple",
         "New",
         "5",
         "7.170880792087884"
        ],
        [
         "20",
         "Clothing",
         "Adidas",
         "New",
         "5",
         "4.795790545596741"
        ],
        [
         "21",
         "Electronics",
         "Apple",
         "New",
         "1",
         "7.170880792087884"
        ],
        [
         "22",
         "Clothing",
         "Adidas",
         "New",
         "3",
         "4.795790545596741"
        ],
        [
         "23",
         "Furniture",
         "Simplicity",
         "New",
         "5",
         "7.131698510466912"
        ],
        [
         "24",
         "Electronics",
         "Apple",
         "New",
         "3",
         "7.24493440855279"
        ],
        [
         "25",
         "Clothing",
         "Adidas",
         "New",
         "4",
         "4.795790545596741"
        ],
        [
         "26",
         "Electronics",
         "Dell",
         "New",
         "3",
         "7.090909822079984"
        ],
        [
         "27",
         "Furniture",
         "West Elm",
         "used",
         "5",
         "8.160803920954665"
        ],
        [
         "28",
         "Furniture",
         "Article",
         "used",
         "4",
         "7.208600337960199"
        ],
        [
         "29",
         "Clothing",
         "Adidas",
         "New",
         "2",
         "4.51085950651685"
        ],
        [
         "30",
         "Furniture",
         "Simplicity",
         "New",
         "1",
         "8.160803920954665"
        ],
        [
         "31",
         "Electronics",
         "Dell",
         "used",
         "2",
         "7.208600337960199"
        ],
        [
         "32",
         "Furniture",
         "Rove Concepts",
         "used",
         "3",
         "8.071218539969863"
        ],
        [
         "33",
         "Clothing",
         "H&M",
         "New",
         "5",
         "3.828641396489095"
        ],
        [
         "34",
         "Furniture",
         "West Elm",
         "New",
         "3",
         "7.496097345175956"
        ],
        [
         "35",
         "Furniture",
         "West Elm",
         "used",
         "2",
         "8.071218539969863"
        ],
        [
         "36",
         "Clothing",
         "Adidas",
         "used",
         "3",
         "4.795790545596741"
        ],
        [
         "37",
         "Furniture",
         "SofaCo",
         "New",
         "2",
         "7.783640596221253"
        ],
        [
         "38",
         "Electronics",
         "Apple",
         "used",
         "5",
         "7.170880792087884"
        ],
        [
         "39",
         "Electronics",
         "LG",
         "New",
         "5",
         "7.090909822079984"
        ],
        [
         "40",
         "Furniture",
         "West Elm",
         "used",
         "3",
         "7.467942332285852"
        ],
        [
         "41",
         "Furniture",
         "Rove Concepts",
         "used",
         "5",
         "7.280008252884188"
        ],
        [
         "42",
         "Electronics",
         "LG",
         "New",
         "3",
         "7.24493440855279"
        ],
        [
         "43",
         "Clothing",
         "Nike",
         "New",
         "4",
         "4.795790545596741"
        ],
        [
         "44",
         "Electronics",
         "Apple",
         "used",
         "5",
         "7.170880792087884"
        ],
        [
         "45",
         "Furniture",
         "Herman Miller",
         "New",
         "3",
         "7.496097345175956"
        ],
        [
         "46",
         "Furniture",
         "Rove Concepts",
         "New",
         "4",
         "8.160803920954665"
        ],
        [
         "47",
         "Electronics",
         "Apple",
         "New",
         "3",
         "7.170880792087884"
        ],
        [
         "48",
         "Clothing",
         "Adidas",
         "used",
         "5",
         "4.330733340286331"
        ],
        [
         "49",
         "Furniture",
         "West Elm",
         "New",
         "5",
         "6.746412128573375"
        ]
       ],
       "shape": {
        "columns": 5,
        "rows": 995
       }
      },
      "text/html": [
       "<div>\n",
       "<style scoped>\n",
       "    .dataframe tbody tr th:only-of-type {\n",
       "        vertical-align: middle;\n",
       "    }\n",
       "\n",
       "    .dataframe tbody tr th {\n",
       "        vertical-align: top;\n",
       "    }\n",
       "\n",
       "    .dataframe thead th {\n",
       "        text-align: right;\n",
       "    }\n",
       "</style>\n",
       "<table border=\"1\" class=\"dataframe\">\n",
       "  <thead>\n",
       "    <tr style=\"text-align: right;\">\n",
       "      <th></th>\n",
       "      <th>category</th>\n",
       "      <th>brand</th>\n",
       "      <th>condition</th>\n",
       "      <th>seller_reputation</th>\n",
       "      <th>log_price</th>\n",
       "    </tr>\n",
       "  </thead>\n",
       "  <tbody>\n",
       "    <tr>\n",
       "      <th>0</th>\n",
       "      <td>Clothing</td>\n",
       "      <td>Adidas</td>\n",
       "      <td>used</td>\n",
       "      <td>4</td>\n",
       "      <td>4.330733</td>\n",
       "    </tr>\n",
       "    <tr>\n",
       "      <th>1</th>\n",
       "      <td>Electronics</td>\n",
       "      <td>Apple</td>\n",
       "      <td>used</td>\n",
       "      <td>2</td>\n",
       "      <td>7.170881</td>\n",
       "    </tr>\n",
       "    <tr>\n",
       "      <th>2</th>\n",
       "      <td>Furniture</td>\n",
       "      <td>Joybird</td>\n",
       "      <td>used</td>\n",
       "      <td>5</td>\n",
       "      <td>7.090910</td>\n",
       "    </tr>\n",
       "    <tr>\n",
       "      <th>3</th>\n",
       "      <td>Furniture</td>\n",
       "      <td>IKEA</td>\n",
       "      <td>New</td>\n",
       "      <td>4</td>\n",
       "      <td>5.860786</td>\n",
       "    </tr>\n",
       "    <tr>\n",
       "      <th>4</th>\n",
       "      <td>Furniture</td>\n",
       "      <td>West Elm</td>\n",
       "      <td>New</td>\n",
       "      <td>3</td>\n",
       "      <td>8.071219</td>\n",
       "    </tr>\n",
       "    <tr>\n",
       "      <th>...</th>\n",
       "      <td>...</td>\n",
       "      <td>...</td>\n",
       "      <td>...</td>\n",
       "      <td>...</td>\n",
       "      <td>...</td>\n",
       "    </tr>\n",
       "    <tr>\n",
       "      <th>990</th>\n",
       "      <td>Furniture</td>\n",
       "      <td>West Elm</td>\n",
       "      <td>used</td>\n",
       "      <td>3</td>\n",
       "      <td>7.467942</td>\n",
       "    </tr>\n",
       "    <tr>\n",
       "      <th>991</th>\n",
       "      <td>Electronics</td>\n",
       "      <td>LG</td>\n",
       "      <td>New</td>\n",
       "      <td>1</td>\n",
       "      <td>7.090910</td>\n",
       "    </tr>\n",
       "    <tr>\n",
       "      <th>992</th>\n",
       "      <td>Clothing</td>\n",
       "      <td>Adidas</td>\n",
       "      <td>New</td>\n",
       "      <td>5</td>\n",
       "      <td>4.330733</td>\n",
       "    </tr>\n",
       "    <tr>\n",
       "      <th>993</th>\n",
       "      <td>Electronics</td>\n",
       "      <td>Dell</td>\n",
       "      <td>New</td>\n",
       "      <td>3</td>\n",
       "      <td>7.090910</td>\n",
       "    </tr>\n",
       "    <tr>\n",
       "      <th>994</th>\n",
       "      <td>Furniture</td>\n",
       "      <td>IKEA</td>\n",
       "      <td>used</td>\n",
       "      <td>3</td>\n",
       "      <td>5.860786</td>\n",
       "    </tr>\n",
       "  </tbody>\n",
       "</table>\n",
       "<p>995 rows × 5 columns</p>\n",
       "</div>"
      ],
      "text/plain": [
       "        category     brand condition  seller_reputation  log_price\n",
       "0       Clothing    Adidas      used                  4   4.330733\n",
       "1    Electronics     Apple      used                  2   7.170881\n",
       "2      Furniture   Joybird      used                  5   7.090910\n",
       "3      Furniture      IKEA       New                  4   5.860786\n",
       "4      Furniture  West Elm       New                  3   8.071219\n",
       "..           ...       ...       ...                ...        ...\n",
       "990    Furniture  West Elm      used                  3   7.467942\n",
       "991  Electronics        LG       New                  1   7.090910\n",
       "992     Clothing    Adidas       New                  5   4.330733\n",
       "993  Electronics      Dell       New                  3   7.090910\n",
       "994    Furniture      IKEA      used                  3   5.860786\n",
       "\n",
       "[995 rows x 5 columns]"
      ]
     },
     "execution_count": 21,
     "metadata": {},
     "output_type": "execute_result"
    }
   ],
   "source": [
    "col = [\"price\"]\n",
    "my_data.drop_columns(col)"
   ]
  },
  {
   "cell_type": "code",
   "execution_count": 22,
   "metadata": {},
   "outputs": [],
   "source": [
    "col = [\"category\", \"brand\", \"condition\"]"
   ]
  },
  {
   "cell_type": "code",
   "execution_count": 23,
   "metadata": {},
   "outputs": [
    {
     "data": {
      "application/vnd.microsoft.datawrangler.viewer.v0+json": {
       "columns": [
        {
         "name": "index",
         "rawType": "int64",
         "type": "integer"
        },
        {
         "name": "category",
         "rawType": "int64",
         "type": "integer"
        },
        {
         "name": "brand",
         "rawType": "int64",
         "type": "integer"
        },
        {
         "name": "condition",
         "rawType": "int64",
         "type": "integer"
        },
        {
         "name": "seller_reputation",
         "rawType": "int64",
         "type": "integer"
        },
        {
         "name": "log_price",
         "rawType": "float64",
         "type": "float"
        }
       ],
       "conversionMethod": "pd.DataFrame",
       "ref": "368a1a7a-671f-4377-802c-851efef26915",
       "rows": [
        [
         "0",
         "0",
         "0",
         "1",
         "4",
         "4.330733340286331"
        ],
        [
         "1",
         "1",
         "1",
         "1",
         "2",
         "7.170880792087884"
        ],
        [
         "2",
         "2",
         "10",
         "1",
         "5",
         "7.090909822079984"
        ],
        [
         "3",
         "2",
         "8",
         "0",
         "4",
         "5.860786223465865"
        ],
        [
         "4",
         "2",
         "32",
         "0",
         "3",
         "8.071218539969863"
        ],
        [
         "5",
         "0",
         "0",
         "0",
         "3",
         "4.795790545596741"
        ],
        [
         "6",
         "1",
         "1",
         "1",
         "3",
         "7.170880792087884"
        ],
        [
         "7",
         "1",
         "1",
         "0",
         "3",
         "6.90874478925533"
        ],
        [
         "8",
         "0",
         "0",
         "1",
         "4",
         "4.330733340286331"
        ],
        [
         "9",
         "2",
         "2",
         "1",
         "5",
         "7.280008252884188"
        ],
        [
         "10",
         "2",
         "28",
         "0",
         "5",
         "7.467942332285852"
        ],
        [
         "11",
         "1",
         "12",
         "0",
         "3",
         "7.090909822079984"
        ],
        [
         "12",
         "2",
         "28",
         "0",
         "4",
         "7.467942332285852"
        ],
        [
         "13",
         "2",
         "32",
         "0",
         "1",
         "7.131698510466912"
        ],
        [
         "14",
         "0",
         "0",
         "1",
         "2",
         "4.795790545596741"
        ],
        [
         "15",
         "2",
         "32",
         "0",
         "4",
         "7.208600337960199"
        ],
        [
         "16",
         "2",
         "10",
         "1",
         "1",
         "7.280008252884188"
        ],
        [
         "17",
         "1",
         "1",
         "0",
         "4",
         "7.170880792087884"
        ],
        [
         "18",
         "0",
         "0",
         "0",
         "1",
         "4.454347296253507"
        ],
        [
         "19",
         "1",
         "1",
         "0",
         "5",
         "7.170880792087884"
        ],
        [
         "20",
         "0",
         "0",
         "0",
         "5",
         "4.795790545596741"
        ],
        [
         "21",
         "1",
         "1",
         "0",
         "1",
         "7.170880792087884"
        ],
        [
         "22",
         "0",
         "0",
         "0",
         "3",
         "4.795790545596741"
        ],
        [
         "23",
         "2",
         "26",
         "0",
         "5",
         "7.131698510466912"
        ],
        [
         "24",
         "1",
         "1",
         "0",
         "3",
         "7.24493440855279"
        ],
        [
         "25",
         "0",
         "0",
         "0",
         "4",
         "4.795790545596741"
        ],
        [
         "26",
         "1",
         "5",
         "0",
         "3",
         "7.090909822079984"
        ],
        [
         "27",
         "2",
         "32",
         "1",
         "5",
         "8.160803920954665"
        ],
        [
         "28",
         "2",
         "2",
         "1",
         "4",
         "7.208600337960199"
        ],
        [
         "29",
         "0",
         "0",
         "0",
         "2",
         "4.51085950651685"
        ],
        [
         "30",
         "2",
         "26",
         "0",
         "1",
         "8.160803920954665"
        ],
        [
         "31",
         "1",
         "5",
         "1",
         "2",
         "7.208600337960199"
        ],
        [
         "32",
         "2",
         "23",
         "1",
         "3",
         "8.071218539969863"
        ],
        [
         "33",
         "0",
         "6",
         "0",
         "5",
         "3.828641396489095"
        ],
        [
         "34",
         "2",
         "32",
         "0",
         "3",
         "7.496097345175956"
        ],
        [
         "35",
         "2",
         "32",
         "1",
         "2",
         "8.071218539969863"
        ],
        [
         "36",
         "0",
         "0",
         "1",
         "3",
         "4.795790545596741"
        ],
        [
         "37",
         "2",
         "28",
         "0",
         "2",
         "7.783640596221253"
        ],
        [
         "38",
         "1",
         "1",
         "1",
         "5",
         "7.170880792087884"
        ],
        [
         "39",
         "1",
         "12",
         "0",
         "5",
         "7.090909822079984"
        ],
        [
         "40",
         "2",
         "32",
         "1",
         "3",
         "7.467942332285852"
        ],
        [
         "41",
         "2",
         "23",
         "1",
         "5",
         "7.280008252884188"
        ],
        [
         "42",
         "1",
         "12",
         "0",
         "3",
         "7.24493440855279"
        ],
        [
         "43",
         "0",
         "18",
         "0",
         "4",
         "4.795790545596741"
        ],
        [
         "44",
         "1",
         "1",
         "1",
         "5",
         "7.170880792087884"
        ],
        [
         "45",
         "2",
         "7",
         "0",
         "3",
         "7.496097345175956"
        ],
        [
         "46",
         "2",
         "23",
         "0",
         "4",
         "8.160803920954665"
        ],
        [
         "47",
         "1",
         "1",
         "0",
         "3",
         "7.170880792087884"
        ],
        [
         "48",
         "0",
         "0",
         "1",
         "5",
         "4.330733340286331"
        ],
        [
         "49",
         "2",
         "32",
         "0",
         "5",
         "6.746412128573375"
        ]
       ],
       "shape": {
        "columns": 5,
        "rows": 995
       }
      },
      "text/html": [
       "<div>\n",
       "<style scoped>\n",
       "    .dataframe tbody tr th:only-of-type {\n",
       "        vertical-align: middle;\n",
       "    }\n",
       "\n",
       "    .dataframe tbody tr th {\n",
       "        vertical-align: top;\n",
       "    }\n",
       "\n",
       "    .dataframe thead th {\n",
       "        text-align: right;\n",
       "    }\n",
       "</style>\n",
       "<table border=\"1\" class=\"dataframe\">\n",
       "  <thead>\n",
       "    <tr style=\"text-align: right;\">\n",
       "      <th></th>\n",
       "      <th>category</th>\n",
       "      <th>brand</th>\n",
       "      <th>condition</th>\n",
       "      <th>seller_reputation</th>\n",
       "      <th>log_price</th>\n",
       "    </tr>\n",
       "  </thead>\n",
       "  <tbody>\n",
       "    <tr>\n",
       "      <th>0</th>\n",
       "      <td>0</td>\n",
       "      <td>0</td>\n",
       "      <td>1</td>\n",
       "      <td>4</td>\n",
       "      <td>4.330733</td>\n",
       "    </tr>\n",
       "    <tr>\n",
       "      <th>1</th>\n",
       "      <td>1</td>\n",
       "      <td>1</td>\n",
       "      <td>1</td>\n",
       "      <td>2</td>\n",
       "      <td>7.170881</td>\n",
       "    </tr>\n",
       "    <tr>\n",
       "      <th>2</th>\n",
       "      <td>2</td>\n",
       "      <td>10</td>\n",
       "      <td>1</td>\n",
       "      <td>5</td>\n",
       "      <td>7.090910</td>\n",
       "    </tr>\n",
       "    <tr>\n",
       "      <th>3</th>\n",
       "      <td>2</td>\n",
       "      <td>8</td>\n",
       "      <td>0</td>\n",
       "      <td>4</td>\n",
       "      <td>5.860786</td>\n",
       "    </tr>\n",
       "    <tr>\n",
       "      <th>4</th>\n",
       "      <td>2</td>\n",
       "      <td>32</td>\n",
       "      <td>0</td>\n",
       "      <td>3</td>\n",
       "      <td>8.071219</td>\n",
       "    </tr>\n",
       "    <tr>\n",
       "      <th>...</th>\n",
       "      <td>...</td>\n",
       "      <td>...</td>\n",
       "      <td>...</td>\n",
       "      <td>...</td>\n",
       "      <td>...</td>\n",
       "    </tr>\n",
       "    <tr>\n",
       "      <th>990</th>\n",
       "      <td>2</td>\n",
       "      <td>32</td>\n",
       "      <td>1</td>\n",
       "      <td>3</td>\n",
       "      <td>7.467942</td>\n",
       "    </tr>\n",
       "    <tr>\n",
       "      <th>991</th>\n",
       "      <td>1</td>\n",
       "      <td>12</td>\n",
       "      <td>0</td>\n",
       "      <td>1</td>\n",
       "      <td>7.090910</td>\n",
       "    </tr>\n",
       "    <tr>\n",
       "      <th>992</th>\n",
       "      <td>0</td>\n",
       "      <td>0</td>\n",
       "      <td>0</td>\n",
       "      <td>5</td>\n",
       "      <td>4.330733</td>\n",
       "    </tr>\n",
       "    <tr>\n",
       "      <th>993</th>\n",
       "      <td>1</td>\n",
       "      <td>5</td>\n",
       "      <td>0</td>\n",
       "      <td>3</td>\n",
       "      <td>7.090910</td>\n",
       "    </tr>\n",
       "    <tr>\n",
       "      <th>994</th>\n",
       "      <td>2</td>\n",
       "      <td>8</td>\n",
       "      <td>1</td>\n",
       "      <td>3</td>\n",
       "      <td>5.860786</td>\n",
       "    </tr>\n",
       "  </tbody>\n",
       "</table>\n",
       "<p>995 rows × 5 columns</p>\n",
       "</div>"
      ],
      "text/plain": [
       "     category  brand  condition  seller_reputation  log_price\n",
       "0           0      0          1                  4   4.330733\n",
       "1           1      1          1                  2   7.170881\n",
       "2           2     10          1                  5   7.090910\n",
       "3           2      8          0                  4   5.860786\n",
       "4           2     32          0                  3   8.071219\n",
       "..        ...    ...        ...                ...        ...\n",
       "990         2     32          1                  3   7.467942\n",
       "991         1     12          0                  1   7.090910\n",
       "992         0      0          0                  5   4.330733\n",
       "993         1      5          0                  3   7.090910\n",
       "994         2      8          1                  3   5.860786\n",
       "\n",
       "[995 rows x 5 columns]"
      ]
     },
     "execution_count": 23,
     "metadata": {},
     "output_type": "execute_result"
    }
   ],
   "source": [
    "my_data.label_encoding(col)"
   ]
  },
  {
   "cell_type": "code",
   "execution_count": 25,
   "metadata": {},
   "outputs": [],
   "source": [
    "my_data.data.to_csv(\n",
    "    \"../data/labeled_data/synthetic_product_listings_gpt_4o_mini_encoded_labeled.csv\",\n",
    "    index=False,\n",
    ")"
   ]
  }
 ],
 "metadata": {
  "kernelspec": {
   "display_name": "synthetic",
   "language": "python",
   "name": "python3"
  },
  "language_info": {
   "codemirror_mode": {
    "name": "ipython",
    "version": 3
   },
   "file_extension": ".py",
   "mimetype": "text/x-python",
   "name": "python",
   "nbconvert_exporter": "python",
   "pygments_lexer": "ipython3",
   "version": "3.11.7"
  }
 },
 "nbformat": 4,
 "nbformat_minor": 2
}
