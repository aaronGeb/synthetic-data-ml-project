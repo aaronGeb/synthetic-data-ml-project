{
 "cells": [
  {
   "cell_type": "code",
   "execution_count": 4,
   "metadata": {},
   "outputs": [],
   "source": [
    "import csv\n",
    "import random\n",
    "from datetime import datetime, timedelta\n",
    "\n",
    "\n",
    "# Function to generate a random datetime within the past year,,,\n",
    "def random_date():\n",
    "    start_date = datetime.now() - timedelta(days=365)\n",
    "    end_date = datetime.now()\n",
    "    return start_date + (end_date - start_date) * random.random()\n",
    "\n",
    "\n",
    "# Generating the data,,,\n",
    "data = []\n",
    "for _ in range(1000):\n",
    "    user_id = random.randint(1, 1000)\n",
    "    product_id = random.randint(1, 500)\n",
    "    rating = random.randint(1, 5)\n",
    "    timestamp = random_date().strftime(\"%Y-%m-%d %H:%M:%S\")\n",
    "    data.append([user_id, product_id, rating, timestamp])\n",
    "\n",
    "# Writing the data to a CSV file,,,\n",
    "with open(\"synthetic_data.csv\", \"w\", newline=\"\") as file:\n",
    "    writer = csv.writer(file)\n",
    "    writer.writerows(data)"
   ]
  },
  {
   "cell_type": "code",
   "execution_count": 8,
   "metadata": {},
   "outputs": [
    {
     "data": {
      "application/vnd.microsoft.datawrangler.viewer.v0+json": {
       "columns": [
        {
         "name": "index",
         "rawType": "int64",
         "type": "integer"
        },
        {
         "name": "user_id",
         "rawType": "object",
         "type": "string"
        },
        {
         "name": "product_id",
         "rawType": "object",
         "type": "string"
        },
        {
         "name": "rating",
         "rawType": "object",
         "type": "string"
        },
        {
         "name": "timestamp",
         "rawType": "object",
         "type": "string"
        }
       ],
       "conversionMethod": "pd.DataFrame",
       "ref": "65ca1d3d-0c8e-4b01-b7a3-ce66f6630653",
       "rows": [
        [
         "0",
         "user_id",
         "product_id",
         "rating",
         "timestamp"
        ],
        [
         "1",
         "624",
         "355",
         "3",
         "2024-03-15 04:30:54"
        ],
        [
         "2",
         "81",
         "149",
         "4",
         "2024-06-12 10:14:09"
        ],
        [
         "3",
         "35",
         "387",
         "4",
         "2024-09-29 04:59:33"
        ],
        [
         "4",
         "33",
         "309",
         "4",
         "2024-08-12 07:52:13"
        ]
       ],
       "shape": {
        "columns": 4,
        "rows": 5
       }
      },
      "text/html": [
       "<div>\n",
       "<style scoped>\n",
       "    .dataframe tbody tr th:only-of-type {\n",
       "        vertical-align: middle;\n",
       "    }\n",
       "\n",
       "    .dataframe tbody tr th {\n",
       "        vertical-align: top;\n",
       "    }\n",
       "\n",
       "    .dataframe thead th {\n",
       "        text-align: right;\n",
       "    }\n",
       "</style>\n",
       "<table border=\"1\" class=\"dataframe\">\n",
       "  <thead>\n",
       "    <tr style=\"text-align: right;\">\n",
       "      <th></th>\n",
       "      <th>user_id</th>\n",
       "      <th>product_id</th>\n",
       "      <th>rating</th>\n",
       "      <th>timestamp</th>\n",
       "    </tr>\n",
       "  </thead>\n",
       "  <tbody>\n",
       "    <tr>\n",
       "      <th>0</th>\n",
       "      <td>user_id</td>\n",
       "      <td>product_id</td>\n",
       "      <td>rating</td>\n",
       "      <td>timestamp</td>\n",
       "    </tr>\n",
       "    <tr>\n",
       "      <th>1</th>\n",
       "      <td>624</td>\n",
       "      <td>355</td>\n",
       "      <td>3</td>\n",
       "      <td>2024-03-15 04:30:54</td>\n",
       "    </tr>\n",
       "    <tr>\n",
       "      <th>2</th>\n",
       "      <td>81</td>\n",
       "      <td>149</td>\n",
       "      <td>4</td>\n",
       "      <td>2024-06-12 10:14:09</td>\n",
       "    </tr>\n",
       "    <tr>\n",
       "      <th>3</th>\n",
       "      <td>35</td>\n",
       "      <td>387</td>\n",
       "      <td>4</td>\n",
       "      <td>2024-09-29 04:59:33</td>\n",
       "    </tr>\n",
       "    <tr>\n",
       "      <th>4</th>\n",
       "      <td>33</td>\n",
       "      <td>309</td>\n",
       "      <td>4</td>\n",
       "      <td>2024-08-12 07:52:13</td>\n",
       "    </tr>\n",
       "  </tbody>\n",
       "</table>\n",
       "</div>"
      ],
      "text/plain": [
       "   user_id  product_id  rating            timestamp\n",
       "0  user_id  product_id  rating            timestamp\n",
       "1      624         355       3  2024-03-15 04:30:54\n",
       "2       81         149       4  2024-06-12 10:14:09\n",
       "3       35         387       4  2024-09-29 04:59:33\n",
       "4       33         309       4  2024-08-12 07:52:13"
      ]
     },
     "execution_count": 8,
     "metadata": {},
     "output_type": "execute_result"
    }
   ],
   "source": [
    "import pandas as pd\n",
    "\n",
    "df = pd.read_csv(\"synthetic_data.csv\", header=None)\n",
    "df.columns = [\"user_id\", \"product_id\", \"rating\", \"timestamp\"]\n",
    "df.to_csv(\"synthetic_data.csv\", index=False)\n",
    "df.head()"
   ]
  },
  {
   "cell_type": "code",
   "execution_count": 10,
   "metadata": {},
   "outputs": [],
   "source": [
    "df = df.drop(index=df.index[0])"
   ]
  },
  {
   "cell_type": "code",
   "execution_count": 11,
   "metadata": {},
   "outputs": [
    {
     "data": {
      "application/vnd.microsoft.datawrangler.viewer.v0+json": {
       "columns": [
        {
         "name": "index",
         "rawType": "int64",
         "type": "integer"
        },
        {
         "name": "user_id",
         "rawType": "object",
         "type": "string"
        },
        {
         "name": "product_id",
         "rawType": "object",
         "type": "string"
        },
        {
         "name": "rating",
         "rawType": "object",
         "type": "string"
        },
        {
         "name": "timestamp",
         "rawType": "object",
         "type": "string"
        }
       ],
       "conversionMethod": "pd.DataFrame",
       "ref": "08a95463-26eb-4bb8-a9f2-f21133d329e1",
       "rows": [
        [
         "1",
         "624",
         "355",
         "3",
         "2024-03-15 04:30:54"
        ],
        [
         "2",
         "81",
         "149",
         "4",
         "2024-06-12 10:14:09"
        ],
        [
         "3",
         "35",
         "387",
         "4",
         "2024-09-29 04:59:33"
        ],
        [
         "4",
         "33",
         "309",
         "4",
         "2024-08-12 07:52:13"
        ],
        [
         "5",
         "378",
         "292",
         "3",
         "2024-10-14 13:52:14"
        ]
       ],
       "shape": {
        "columns": 4,
        "rows": 5
       }
      },
      "text/html": [
       "<div>\n",
       "<style scoped>\n",
       "    .dataframe tbody tr th:only-of-type {\n",
       "        vertical-align: middle;\n",
       "    }\n",
       "\n",
       "    .dataframe tbody tr th {\n",
       "        vertical-align: top;\n",
       "    }\n",
       "\n",
       "    .dataframe thead th {\n",
       "        text-align: right;\n",
       "    }\n",
       "</style>\n",
       "<table border=\"1\" class=\"dataframe\">\n",
       "  <thead>\n",
       "    <tr style=\"text-align: right;\">\n",
       "      <th></th>\n",
       "      <th>user_id</th>\n",
       "      <th>product_id</th>\n",
       "      <th>rating</th>\n",
       "      <th>timestamp</th>\n",
       "    </tr>\n",
       "  </thead>\n",
       "  <tbody>\n",
       "    <tr>\n",
       "      <th>1</th>\n",
       "      <td>624</td>\n",
       "      <td>355</td>\n",
       "      <td>3</td>\n",
       "      <td>2024-03-15 04:30:54</td>\n",
       "    </tr>\n",
       "    <tr>\n",
       "      <th>2</th>\n",
       "      <td>81</td>\n",
       "      <td>149</td>\n",
       "      <td>4</td>\n",
       "      <td>2024-06-12 10:14:09</td>\n",
       "    </tr>\n",
       "    <tr>\n",
       "      <th>3</th>\n",
       "      <td>35</td>\n",
       "      <td>387</td>\n",
       "      <td>4</td>\n",
       "      <td>2024-09-29 04:59:33</td>\n",
       "    </tr>\n",
       "    <tr>\n",
       "      <th>4</th>\n",
       "      <td>33</td>\n",
       "      <td>309</td>\n",
       "      <td>4</td>\n",
       "      <td>2024-08-12 07:52:13</td>\n",
       "    </tr>\n",
       "    <tr>\n",
       "      <th>5</th>\n",
       "      <td>378</td>\n",
       "      <td>292</td>\n",
       "      <td>3</td>\n",
       "      <td>2024-10-14 13:52:14</td>\n",
       "    </tr>\n",
       "  </tbody>\n",
       "</table>\n",
       "</div>"
      ],
      "text/plain": [
       "  user_id product_id rating            timestamp\n",
       "1     624        355      3  2024-03-15 04:30:54\n",
       "2      81        149      4  2024-06-12 10:14:09\n",
       "3      35        387      4  2024-09-29 04:59:33\n",
       "4      33        309      4  2024-08-12 07:52:13\n",
       "5     378        292      3  2024-10-14 13:52:14"
      ]
     },
     "execution_count": 11,
     "metadata": {},
     "output_type": "execute_result"
    }
   ],
   "source": [
    "df.head()"
   ]
  },
  {
   "cell_type": "code",
   "execution_count": 12,
   "metadata": {},
   "outputs": [],
   "source": [
    "df.to_csv(\"synthetic_data.csv\", index=False)"
   ]
  },
  {
   "cell_type": "code",
   "execution_count": 15,
   "metadata": {},
   "outputs": [
    {
     "data": {
      "application/vnd.microsoft.datawrangler.viewer.v0+json": {
       "columns": [
        {
         "name": "index",
         "rawType": "int64",
         "type": "integer"
        },
        {
         "name": "user_id",
         "rawType": "int64",
         "type": "integer"
        },
        {
         "name": "product_id",
         "rawType": "int64",
         "type": "integer"
        },
        {
         "name": "rating",
         "rawType": "int64",
         "type": "integer"
        },
        {
         "name": "timestamp",
         "rawType": "object",
         "type": "string"
        }
       ],
       "conversionMethod": "pd.DataFrame",
       "ref": "b7e8b5f0-4a35-4780-87ee-757afde12e0b",
       "rows": [
        [
         "0",
         "624",
         "355",
         "3",
         "2024-03-15 04:30:54"
        ],
        [
         "1",
         "81",
         "149",
         "4",
         "2024-06-12 10:14:09"
        ],
        [
         "2",
         "35",
         "387",
         "4",
         "2024-09-29 04:59:33"
        ],
        [
         "3",
         "33",
         "309",
         "4",
         "2024-08-12 07:52:13"
        ],
        [
         "4",
         "378",
         "292",
         "3",
         "2024-10-14 13:52:14"
        ],
        [
         "5",
         "646",
         "53",
         "5",
         "2025-01-26 03:50:56"
        ],
        [
         "6",
         "368",
         "211",
         "5",
         "2024-06-15 14:39:44"
        ],
        [
         "7",
         "196",
         "438",
         "1",
         "2024-07-31 16:29:42"
        ],
        [
         "8",
         "622",
         "200",
         "3",
         "2024-11-06 12:54:37"
        ],
        [
         "9",
         "808",
         "454",
         "5",
         "2024-07-12 07:50:49"
        ]
       ],
       "shape": {
        "columns": 4,
        "rows": 10
       }
      },
      "text/html": [
       "<div>\n",
       "<style scoped>\n",
       "    .dataframe tbody tr th:only-of-type {\n",
       "        vertical-align: middle;\n",
       "    }\n",
       "\n",
       "    .dataframe tbody tr th {\n",
       "        vertical-align: top;\n",
       "    }\n",
       "\n",
       "    .dataframe thead th {\n",
       "        text-align: right;\n",
       "    }\n",
       "</style>\n",
       "<table border=\"1\" class=\"dataframe\">\n",
       "  <thead>\n",
       "    <tr style=\"text-align: right;\">\n",
       "      <th></th>\n",
       "      <th>user_id</th>\n",
       "      <th>product_id</th>\n",
       "      <th>rating</th>\n",
       "      <th>timestamp</th>\n",
       "    </tr>\n",
       "  </thead>\n",
       "  <tbody>\n",
       "    <tr>\n",
       "      <th>0</th>\n",
       "      <td>624</td>\n",
       "      <td>355</td>\n",
       "      <td>3</td>\n",
       "      <td>2024-03-15 04:30:54</td>\n",
       "    </tr>\n",
       "    <tr>\n",
       "      <th>1</th>\n",
       "      <td>81</td>\n",
       "      <td>149</td>\n",
       "      <td>4</td>\n",
       "      <td>2024-06-12 10:14:09</td>\n",
       "    </tr>\n",
       "    <tr>\n",
       "      <th>2</th>\n",
       "      <td>35</td>\n",
       "      <td>387</td>\n",
       "      <td>4</td>\n",
       "      <td>2024-09-29 04:59:33</td>\n",
       "    </tr>\n",
       "    <tr>\n",
       "      <th>3</th>\n",
       "      <td>33</td>\n",
       "      <td>309</td>\n",
       "      <td>4</td>\n",
       "      <td>2024-08-12 07:52:13</td>\n",
       "    </tr>\n",
       "    <tr>\n",
       "      <th>4</th>\n",
       "      <td>378</td>\n",
       "      <td>292</td>\n",
       "      <td>3</td>\n",
       "      <td>2024-10-14 13:52:14</td>\n",
       "    </tr>\n",
       "    <tr>\n",
       "      <th>5</th>\n",
       "      <td>646</td>\n",
       "      <td>53</td>\n",
       "      <td>5</td>\n",
       "      <td>2025-01-26 03:50:56</td>\n",
       "    </tr>\n",
       "    <tr>\n",
       "      <th>6</th>\n",
       "      <td>368</td>\n",
       "      <td>211</td>\n",
       "      <td>5</td>\n",
       "      <td>2024-06-15 14:39:44</td>\n",
       "    </tr>\n",
       "    <tr>\n",
       "      <th>7</th>\n",
       "      <td>196</td>\n",
       "      <td>438</td>\n",
       "      <td>1</td>\n",
       "      <td>2024-07-31 16:29:42</td>\n",
       "    </tr>\n",
       "    <tr>\n",
       "      <th>8</th>\n",
       "      <td>622</td>\n",
       "      <td>200</td>\n",
       "      <td>3</td>\n",
       "      <td>2024-11-06 12:54:37</td>\n",
       "    </tr>\n",
       "    <tr>\n",
       "      <th>9</th>\n",
       "      <td>808</td>\n",
       "      <td>454</td>\n",
       "      <td>5</td>\n",
       "      <td>2024-07-12 07:50:49</td>\n",
       "    </tr>\n",
       "  </tbody>\n",
       "</table>\n",
       "</div>"
      ],
      "text/plain": [
       "   user_id  product_id  rating            timestamp\n",
       "0      624         355       3  2024-03-15 04:30:54\n",
       "1       81         149       4  2024-06-12 10:14:09\n",
       "2       35         387       4  2024-09-29 04:59:33\n",
       "3       33         309       4  2024-08-12 07:52:13\n",
       "4      378         292       3  2024-10-14 13:52:14\n",
       "5      646          53       5  2025-01-26 03:50:56\n",
       "6      368         211       5  2024-06-15 14:39:44\n",
       "7      196         438       1  2024-07-31 16:29:42\n",
       "8      622         200       3  2024-11-06 12:54:37\n",
       "9      808         454       5  2024-07-12 07:50:49"
      ]
     },
     "execution_count": 15,
     "metadata": {},
     "output_type": "execute_result"
    }
   ],
   "source": [
    "d = pd.read_csv(\"user_interactions.csv\")\n",
    "d.head(10)"
   ]
  }
 ],
 "metadata": {
  "kernelspec": {
   "display_name": "synthetic",
   "language": "python",
   "name": "python3"
  },
  "language_info": {
   "codemirror_mode": {
    "name": "ipython",
    "version": 3
   },
   "file_extension": ".py",
   "mimetype": "text/x-python",
   "name": "python",
   "nbconvert_exporter": "python",
   "pygments_lexer": "ipython3",
   "version": "3.11.7"
  }
 },
 "nbformat": 4,
 "nbformat_minor": 2
}
