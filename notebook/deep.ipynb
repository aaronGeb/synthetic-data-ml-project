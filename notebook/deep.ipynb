{
 "cells": [
  {
   "cell_type": "code",
   "execution_count": 8,
   "metadata": {},
   "outputs": [],
   "source": [
    "import numpy as np\n",
    "import pandas as pd\n",
    "from pandas import DataFrame\n",
    "import tensorflow as tf\n",
    "from tensorflow.keras.models import Sequential\n",
    "from tensorflow.keras.layers import Dense, Dropout\n",
    "from tensorflow.keras.optimizers import Adam\n",
    "from sklearn.preprocessing import StandardScaler\n",
    "from sklearn.metrics import mean_absolute_error, mean_squared_error, r2_score, mean_absolute_percentage_error\n",
    "from sklearn.model_selection import train_test_split"
   ]
  },
  {
   "cell_type": "code",
   "execution_count": 9,
   "metadata": {},
   "outputs": [],
   "source": [
    "def preprocess_data(X_train, X_test):\n",
    "    \"\"\"Scales the features using StandardScaler.\"\"\"\n",
    "    scaler = StandardScaler()\n",
    "    X_train_scaled = scaler.fit_transform(X_train)\n",
    "    X_test_scaled = scaler.transform(X_test)\n",
    "    return X_train_scaled, X_test_scaled, scaler"
   ]
  },
  {
   "cell_type": "code",
   "execution_count": 10,
   "metadata": {},
   "outputs": [],
   "source": [
    "def build_model(input_dim):\n",
    "    \"\"\"Creates a Neural Network model for regression.\"\"\"\n",
    "    model = Sequential([\n",
    "        Dense(128, activation='relu', input_shape=(input_dim,)),  # Input Layer\n",
    "        Dropout(0.2),  # Regularization\n",
    "        Dense(64, activation='relu'),\n",
    "        Dropout(0.2),\n",
    "        Dense(32, activation='relu'),\n",
    "        Dense(1)  # Output Layer (Regression)\n",
    "    ])\n",
    "    \n",
    "    # Compile the model\n",
    "    model.compile(optimizer=Adam(learning_rate=0.001), loss='mse', metrics=['mae'])\n",
    "    \n",
    "    return model"
   ]
  },
  {
   "cell_type": "code",
   "execution_count": 11,
   "metadata": {},
   "outputs": [],
   "source": [
    "def train_model(model, X_train, y_train, X_test, y_test, epochs=100, batch_size=32):\n",
    "    \"\"\"Trains the Neural Network.\"\"\"\n",
    "    history = model.fit(X_train, y_train, \n",
    "                        validation_data=(X_test, y_test),\n",
    "                        epochs=epochs, batch_size=batch_size, verbose=2)\n",
    "    return history"
   ]
  },
  {
   "cell_type": "code",
   "execution_count": 12,
   "metadata": {},
   "outputs": [],
   "source": [
    "def evaluate_model(model, X_test, y_test):\n",
    "    \"\"\"Evaluates the trained model using regression metrics.\"\"\"\n",
    "    y_pred = model.predict(X_test).flatten()\n",
    "\n",
    "    # Compute metrics\n",
    "    mae = mean_absolute_error(y_test, y_pred)\n",
    "    mse = mean_squared_error(y_test, y_pred)\n",
    "    r2 = r2_score(y_test, y_pred)\n",
    "    mape = mean_absolute_percentage_error(y_test, y_pred)\n",
    "\n",
    "    print(f\"MAE: {mae:.2f}\")\n",
    "    print(f\"MSE: {mse:.2f}\")\n",
    "    print(f\"R² Score: {r2:.2f}\")\n",
    "    print(f\"MAPE: {mape:.2f}\")\n",
    "\n",
    "    return {\"MAE\": mae, \"MSE\": mse, \"R2\": r2, \"MAPE\": mape}"
   ]
  },
  {
   "cell_type": "code",
   "execution_count": 13,
   "metadata": {},
   "outputs": [],
   "source": [
    "def split_and_prepare_data(df: DataFrame, target_column: str, test_size: float = 0.2, random_state: int = 1):\n",
    "\n",
    "    if not isinstance(df, pd.DataFrame):\n",
    "        raise TypeError(\"Input data must be a pandas DataFrame.\")\n",
    "\n",
    "    if target_column not in df.columns:\n",
    "        raise ValueError(\n",
    "            f\"The target column '{target_column}' is not in the DataFrame.\"\n",
    "        )\n",
    "\n",
    "    # Split the dataset into training and testing sets\n",
    "    X_train, X_test = train_test_split(\n",
    "        df, test_size=test_size, random_state=random_state\n",
    "    )\n",
    "\n",
    "    # Reset the index for both splits\n",
    "    X_train = X_train.reset_index(drop=True)\n",
    "    X_test = X_test.reset_index(drop=True)\n",
    "\n",
    "    # Extract target values\n",
    "    y_train = X_train[target_column].values\n",
    "    y_test = X_test[target_column].values\n",
    "\n",
    "    # Remove the target column from features\n",
    "    X_train = X_train.drop(columns=[target_column])\n",
    "    X_test = X_test.drop(columns=[target_column])\n",
    "\n",
    "    return X_train, X_test, y_train, y_test"
   ]
  },
  {
   "cell_type": "code",
   "execution_count": 16,
   "metadata": {},
   "outputs": [
    {
     "data": {
      "application/vnd.microsoft.datawrangler.viewer.v0+json": {
       "columns": [
        {
         "name": "index",
         "rawType": "int64",
         "type": "integer"
        },
        {
         "name": "category",
         "rawType": "int64",
         "type": "integer"
        },
        {
         "name": "brand",
         "rawType": "int64",
         "type": "integer"
        },
        {
         "name": "condition",
         "rawType": "int64",
         "type": "integer"
        },
        {
         "name": "seller_reputation",
         "rawType": "int64",
         "type": "integer"
        },
        {
         "name": "log_price",
         "rawType": "float64",
         "type": "float"
        }
       ],
       "conversionMethod": "pd.DataFrame",
       "ref": "1d9b9a01-459c-47cf-b296-a02491f7486a",
       "rows": [
        [
         "0",
         "0",
         "0",
         "1",
         "4",
         "4.330733340286331"
        ],
        [
         "1",
         "1",
         "1",
         "1",
         "2",
         "7.170880792087884"
        ],
        [
         "2",
         "2",
         "10",
         "1",
         "5",
         "7.090909822079984"
        ],
        [
         "3",
         "2",
         "8",
         "0",
         "4",
         "5.860786223465865"
        ],
        [
         "4",
         "2",
         "32",
         "0",
         "3",
         "8.071218539969863"
        ]
       ],
       "shape": {
        "columns": 5,
        "rows": 5
       }
      },
      "text/html": [
       "<div>\n",
       "<style scoped>\n",
       "    .dataframe tbody tr th:only-of-type {\n",
       "        vertical-align: middle;\n",
       "    }\n",
       "\n",
       "    .dataframe tbody tr th {\n",
       "        vertical-align: top;\n",
       "    }\n",
       "\n",
       "    .dataframe thead th {\n",
       "        text-align: right;\n",
       "    }\n",
       "</style>\n",
       "<table border=\"1\" class=\"dataframe\">\n",
       "  <thead>\n",
       "    <tr style=\"text-align: right;\">\n",
       "      <th></th>\n",
       "      <th>category</th>\n",
       "      <th>brand</th>\n",
       "      <th>condition</th>\n",
       "      <th>seller_reputation</th>\n",
       "      <th>log_price</th>\n",
       "    </tr>\n",
       "  </thead>\n",
       "  <tbody>\n",
       "    <tr>\n",
       "      <th>0</th>\n",
       "      <td>0</td>\n",
       "      <td>0</td>\n",
       "      <td>1</td>\n",
       "      <td>4</td>\n",
       "      <td>4.330733</td>\n",
       "    </tr>\n",
       "    <tr>\n",
       "      <th>1</th>\n",
       "      <td>1</td>\n",
       "      <td>1</td>\n",
       "      <td>1</td>\n",
       "      <td>2</td>\n",
       "      <td>7.170881</td>\n",
       "    </tr>\n",
       "    <tr>\n",
       "      <th>2</th>\n",
       "      <td>2</td>\n",
       "      <td>10</td>\n",
       "      <td>1</td>\n",
       "      <td>5</td>\n",
       "      <td>7.090910</td>\n",
       "    </tr>\n",
       "    <tr>\n",
       "      <th>3</th>\n",
       "      <td>2</td>\n",
       "      <td>8</td>\n",
       "      <td>0</td>\n",
       "      <td>4</td>\n",
       "      <td>5.860786</td>\n",
       "    </tr>\n",
       "    <tr>\n",
       "      <th>4</th>\n",
       "      <td>2</td>\n",
       "      <td>32</td>\n",
       "      <td>0</td>\n",
       "      <td>3</td>\n",
       "      <td>8.071219</td>\n",
       "    </tr>\n",
       "  </tbody>\n",
       "</table>\n",
       "</div>"
      ],
      "text/plain": [
       "   category  brand  condition  seller_reputation  log_price\n",
       "0         0      0          1                  4   4.330733\n",
       "1         1      1          1                  2   7.170881\n",
       "2         2     10          1                  5   7.090910\n",
       "3         2      8          0                  4   5.860786\n",
       "4         2     32          0                  3   8.071219"
      ]
     },
     "execution_count": 16,
     "metadata": {},
     "output_type": "execute_result"
    }
   ],
   "source": [
    "data = pd.read_csv('../data/labeled_data/synthetic_product_listings_gpt_4o_mini_encoded_labeled.csv')\n",
    "data.head()"
   ]
  },
  {
   "cell_type": "code",
   "execution_count": 18,
   "metadata": {},
   "outputs": [
    {
     "name": "stdout",
     "output_type": "stream",
     "text": [
      "<class 'pandas.core.frame.DataFrame'>\n",
      "RangeIndex: 995 entries, 0 to 994\n",
      "Data columns (total 5 columns):\n",
      " #   Column             Non-Null Count  Dtype  \n",
      "---  ------             --------------  -----  \n",
      " 0   category           995 non-null    int64  \n",
      " 1   brand              995 non-null    int64  \n",
      " 2   condition          995 non-null    int64  \n",
      " 3   seller_reputation  995 non-null    int64  \n",
      " 4   log_price          995 non-null    float64\n",
      "dtypes: float64(1), int64(4)\n",
      "memory usage: 39.0 KB\n"
     ]
    }
   ],
   "source": [
    "data.info()"
   ]
  },
  {
   "cell_type": "code",
   "execution_count": null,
   "metadata": {},
   "outputs": [],
   "source": []
  },
  {
   "cell_type": "code",
   "execution_count": 19,
   "metadata": {},
   "outputs": [],
   "source": [
    "X_train, X_test, y_train, y_test = split_and_prepare_data(data, target_column=\"log_price\", test_size=0.2, random_state=1)"
   ]
  },
  {
   "cell_type": "code",
   "execution_count": 20,
   "metadata": {},
   "outputs": [
    {
     "name": "stderr",
     "output_type": "stream",
     "text": [
      "/opt/anaconda3/envs/synthetic/lib/python3.11/site-packages/keras/src/layers/core/dense.py:87: UserWarning: Do not pass an `input_shape`/`input_dim` argument to a layer. When using Sequential models, prefer using an `Input(shape)` object as the first layer in the model instead.\n",
      "  super().__init__(activity_regularizer=activity_regularizer, **kwargs)\n",
      "2025-02-24 17:45:39.427115: I metal_plugin/src/device/metal_device.cc:1154] Metal device set to: Apple M1 Pro\n",
      "2025-02-24 17:45:39.427350: I metal_plugin/src/device/metal_device.cc:296] systemMemory: 16.00 GB\n",
      "2025-02-24 17:45:39.427366: I metal_plugin/src/device/metal_device.cc:313] maxCacheSize: 5.33 GB\n",
      "WARNING: All log messages before absl::InitializeLog() is called are written to STDERR\n",
      "I0000 00:00:1740408339.447081 5515551 pluggable_device_factory.cc:305] Could not identify NUMA node of platform GPU ID 0, defaulting to 0. Your kernel may not have been built with NUMA support.\n",
      "I0000 00:00:1740408339.447672 5515551 pluggable_device_factory.cc:271] Created TensorFlow device (/job:localhost/replica:0/task:0/device:GPU:0 with 0 MB memory) -> physical PluggableDevice (device: 0, name: METAL, pci bus id: <undefined>)\n"
     ]
    },
    {
     "name": "stdout",
     "output_type": "stream",
     "text": [
      "Epoch 1/100\n"
     ]
    },
    {
     "name": "stderr",
     "output_type": "stream",
     "text": [
      "2025-02-24 17:45:40.949088: I tensorflow/core/grappler/optimizers/custom_graph_optimizer_registry.cc:117] Plugin optimizer for device_type GPU is enabled.\n"
     ]
    },
    {
     "name": "stdout",
     "output_type": "stream",
     "text": [
      "25/25 - 12s - 481ms/step - loss: 36.4648 - mae: 5.8868 - val_loss: 29.5139 - val_mae: 5.3586\n",
      "Epoch 2/100\n",
      "25/25 - 1s - 23ms/step - loss: 26.0896 - mae: 4.9297 - val_loss: 17.7523 - val_mae: 4.1068\n",
      "Epoch 3/100\n",
      "25/25 - 1s - 24ms/step - loss: 14.4628 - mae: 3.4337 - val_loss: 5.5879 - val_mae: 2.2612\n",
      "Epoch 4/100\n",
      "25/25 - 1s - 23ms/step - loss: 7.5898 - mae: 2.2496 - val_loss: 0.8347 - val_mae: 0.7222\n",
      "Epoch 5/100\n",
      "25/25 - 1s - 21ms/step - loss: 6.2572 - mae: 1.9130 - val_loss: 0.5657 - val_mae: 0.6163\n",
      "Epoch 6/100\n",
      "25/25 - 1s - 21ms/step - loss: 4.9454 - mae: 1.7409 - val_loss: 0.6983 - val_mae: 0.7212\n",
      "Epoch 7/100\n",
      "25/25 - 1s - 21ms/step - loss: 4.5869 - mae: 1.6563 - val_loss: 0.9325 - val_mae: 0.7696\n",
      "Epoch 8/100\n",
      "25/25 - 1s - 21ms/step - loss: 3.4245 - mae: 1.4564 - val_loss: 0.4615 - val_mae: 0.5143\n",
      "Epoch 9/100\n",
      "25/25 - 1s - 21ms/step - loss: 2.9790 - mae: 1.3478 - val_loss: 0.4660 - val_mae: 0.5099\n",
      "Epoch 10/100\n",
      "25/25 - 1s - 22ms/step - loss: 2.6505 - mae: 1.2900 - val_loss: 0.4563 - val_mae: 0.5295\n",
      "Epoch 11/100\n",
      "25/25 - 1s - 21ms/step - loss: 2.7259 - mae: 1.3131 - val_loss: 0.4803 - val_mae: 0.5571\n",
      "Epoch 12/100\n",
      "25/25 - 1s - 23ms/step - loss: 2.4607 - mae: 1.2240 - val_loss: 0.4587 - val_mae: 0.5283\n",
      "Epoch 13/100\n",
      "25/25 - 1s - 22ms/step - loss: 2.2593 - mae: 1.2027 - val_loss: 0.4925 - val_mae: 0.5309\n",
      "Epoch 14/100\n",
      "25/25 - 1s - 29ms/step - loss: 2.2456 - mae: 1.2030 - val_loss: 0.4927 - val_mae: 0.5701\n",
      "Epoch 15/100\n",
      "25/25 - 1s - 20ms/step - loss: 2.0604 - mae: 1.1489 - val_loss: 0.4819 - val_mae: 0.5221\n",
      "Epoch 16/100\n",
      "25/25 - 1s - 20ms/step - loss: 2.1425 - mae: 1.1716 - val_loss: 0.4509 - val_mae: 0.5093\n",
      "Epoch 17/100\n",
      "25/25 - 1s - 22ms/step - loss: 2.0204 - mae: 1.1291 - val_loss: 0.4569 - val_mae: 0.5560\n",
      "Epoch 18/100\n",
      "25/25 - 1s - 20ms/step - loss: 1.8398 - mae: 1.1056 - val_loss: 0.6363 - val_mae: 0.7138\n",
      "Epoch 19/100\n",
      "25/25 - 1s - 20ms/step - loss: 2.2304 - mae: 1.1938 - val_loss: 0.8365 - val_mae: 0.7689\n",
      "Epoch 20/100\n",
      "25/25 - 1s - 21ms/step - loss: 1.9966 - mae: 1.1524 - val_loss: 0.4640 - val_mae: 0.5111\n",
      "Epoch 21/100\n",
      "25/25 - 0s - 20ms/step - loss: 1.8679 - mae: 1.1029 - val_loss: 0.5844 - val_mae: 0.5765\n",
      "Epoch 22/100\n",
      "25/25 - 0s - 20ms/step - loss: 1.8555 - mae: 1.0887 - val_loss: 0.4402 - val_mae: 0.5128\n",
      "Epoch 23/100\n",
      "25/25 - 1s - 20ms/step - loss: 1.9927 - mae: 1.1326 - val_loss: 0.4346 - val_mae: 0.5395\n",
      "Epoch 24/100\n",
      "25/25 - 0s - 20ms/step - loss: 1.7802 - mae: 1.0663 - val_loss: 0.4480 - val_mae: 0.5190\n",
      "Epoch 25/100\n",
      "25/25 - 0s - 20ms/step - loss: 1.8019 - mae: 1.0586 - val_loss: 0.4689 - val_mae: 0.5216\n",
      "Epoch 26/100\n",
      "25/25 - 1s - 20ms/step - loss: 1.6993 - mae: 1.0492 - val_loss: 0.5031 - val_mae: 0.5533\n",
      "Epoch 27/100\n",
      "25/25 - 0s - 20ms/step - loss: 1.9992 - mae: 1.1293 - val_loss: 0.4652 - val_mae: 0.5329\n",
      "Epoch 28/100\n",
      "25/25 - 0s - 20ms/step - loss: 1.6984 - mae: 1.0404 - val_loss: 0.7972 - val_mae: 0.7730\n",
      "Epoch 29/100\n",
      "25/25 - 0s - 20ms/step - loss: 1.7105 - mae: 1.0416 - val_loss: 0.4938 - val_mae: 0.5845\n",
      "Epoch 30/100\n",
      "25/25 - 0s - 20ms/step - loss: 1.8976 - mae: 1.1275 - val_loss: 0.6641 - val_mae: 0.6446\n",
      "Epoch 31/100\n",
      "25/25 - 0s - 20ms/step - loss: 1.8979 - mae: 1.0947 - val_loss: 0.4644 - val_mae: 0.5574\n",
      "Epoch 32/100\n",
      "25/25 - 1s - 20ms/step - loss: 1.6546 - mae: 1.0391 - val_loss: 0.5330 - val_mae: 0.5716\n",
      "Epoch 33/100\n",
      "25/25 - 0s - 20ms/step - loss: 1.8058 - mae: 1.0807 - val_loss: 0.6329 - val_mae: 0.6364\n",
      "Epoch 34/100\n",
      "25/25 - 1s - 20ms/step - loss: 1.8098 - mae: 1.0851 - val_loss: 0.6944 - val_mae: 0.7033\n",
      "Epoch 35/100\n",
      "25/25 - 1s - 20ms/step - loss: 1.6299 - mae: 1.0362 - val_loss: 0.4123 - val_mae: 0.5307\n",
      "Epoch 36/100\n",
      "25/25 - 0s - 20ms/step - loss: 2.0969 - mae: 1.1628 - val_loss: 0.7936 - val_mae: 0.7110\n",
      "Epoch 37/100\n",
      "25/25 - 0s - 20ms/step - loss: 1.8233 - mae: 1.0702 - val_loss: 0.5454 - val_mae: 0.5689\n",
      "Epoch 38/100\n",
      "25/25 - 0s - 20ms/step - loss: 1.9110 - mae: 1.1079 - val_loss: 0.7698 - val_mae: 0.7226\n",
      "Epoch 39/100\n",
      "25/25 - 1s - 20ms/step - loss: 2.0450 - mae: 1.1482 - val_loss: 0.8858 - val_mae: 0.8117\n",
      "Epoch 40/100\n",
      "25/25 - 1s - 21ms/step - loss: 1.9453 - mae: 1.1276 - val_loss: 0.4537 - val_mae: 0.5363\n",
      "Epoch 41/100\n",
      "25/25 - 1s - 22ms/step - loss: 2.4323 - mae: 1.2660 - val_loss: 0.5679 - val_mae: 0.5840\n",
      "Epoch 42/100\n",
      "25/25 - 1s - 21ms/step - loss: 1.9761 - mae: 1.1477 - val_loss: 1.1178 - val_mae: 0.9635\n",
      "Epoch 43/100\n",
      "25/25 - 1s - 23ms/step - loss: 1.7928 - mae: 1.0695 - val_loss: 3.3855 - val_mae: 1.6048\n",
      "Epoch 44/100\n",
      "25/25 - 1s - 21ms/step - loss: 1.8130 - mae: 1.0988 - val_loss: 1.3104 - val_mae: 1.0377\n",
      "Epoch 45/100\n",
      "25/25 - 1s - 20ms/step - loss: 2.3083 - mae: 1.2403 - val_loss: 5.2712 - val_mae: 2.0441\n",
      "Epoch 46/100\n",
      "25/25 - 0s - 20ms/step - loss: 3.6549 - mae: 1.5358 - val_loss: 0.7656 - val_mae: 0.7654\n",
      "Epoch 47/100\n",
      "25/25 - 1s - 21ms/step - loss: 2.5983 - mae: 1.2964 - val_loss: 0.8889 - val_mae: 0.7910\n",
      "Epoch 48/100\n",
      "25/25 - 1s - 20ms/step - loss: 2.5923 - mae: 1.2889 - val_loss: 1.1957 - val_mae: 0.9737\n",
      "Epoch 49/100\n",
      "25/25 - 1s - 20ms/step - loss: 3.0307 - mae: 1.4160 - val_loss: 0.9117 - val_mae: 0.8174\n",
      "Epoch 50/100\n",
      "25/25 - 0s - 20ms/step - loss: 2.7861 - mae: 1.3288 - val_loss: 1.5697 - val_mae: 1.1658\n",
      "Epoch 51/100\n",
      "25/25 - 1s - 20ms/step - loss: 2.3616 - mae: 1.2265 - val_loss: 1.0818 - val_mae: 0.9329\n",
      "Epoch 52/100\n",
      "25/25 - 0s - 20ms/step - loss: 2.6577 - mae: 1.3282 - val_loss: 0.6351 - val_mae: 0.7124\n",
      "Epoch 53/100\n",
      "25/25 - 1s - 20ms/step - loss: 1.9537 - mae: 1.1071 - val_loss: 0.8335 - val_mae: 0.8100\n",
      "Epoch 54/100\n",
      "25/25 - 1s - 20ms/step - loss: 2.6306 - mae: 1.2850 - val_loss: 1.6977 - val_mae: 1.1799\n",
      "Epoch 55/100\n",
      "25/25 - 1s - 20ms/step - loss: 4.5233 - mae: 1.6916 - val_loss: 5.9243 - val_mae: 2.1122\n",
      "Epoch 56/100\n",
      "25/25 - 1s - 20ms/step - loss: 7.9020 - mae: 2.2105 - val_loss: 9.1614 - val_mae: 2.6775\n",
      "Epoch 57/100\n",
      "25/25 - 1s - 20ms/step - loss: 5.5742 - mae: 1.9189 - val_loss: 4.7546 - val_mae: 1.8867\n",
      "Epoch 58/100\n",
      "25/25 - 1s - 20ms/step - loss: 5.2356 - mae: 1.8112 - val_loss: 0.7199 - val_mae: 0.7015\n",
      "Epoch 59/100\n",
      "25/25 - 1s - 20ms/step - loss: 3.7078 - mae: 1.5594 - val_loss: 4.7117 - val_mae: 2.1124\n",
      "Epoch 60/100\n",
      "25/25 - 1s - 20ms/step - loss: 3.7589 - mae: 1.5564 - val_loss: 0.4649 - val_mae: 0.4985\n",
      "Epoch 61/100\n",
      "25/25 - 1s - 22ms/step - loss: 2.5466 - mae: 1.2764 - val_loss: 0.5935 - val_mae: 0.6619\n",
      "Epoch 62/100\n",
      "25/25 - 1s - 22ms/step - loss: 2.5037 - mae: 1.2887 - val_loss: 0.4755 - val_mae: 0.5251\n",
      "Epoch 63/100\n",
      "25/25 - 1s - 22ms/step - loss: 4.7117 - mae: 1.6977 - val_loss: 4.0155 - val_mae: 1.7749\n",
      "Epoch 64/100\n",
      "25/25 - 1s - 20ms/step - loss: 6.0030 - mae: 1.9175 - val_loss: 1.4073 - val_mae: 1.0233\n",
      "Epoch 65/100\n",
      "25/25 - 1s - 22ms/step - loss: 3.1190 - mae: 1.3700 - val_loss: 0.7291 - val_mae: 0.7230\n",
      "Epoch 66/100\n",
      "25/25 - 1s - 20ms/step - loss: 5.5396 - mae: 1.8792 - val_loss: 1.6927 - val_mae: 1.1537\n",
      "Epoch 67/100\n",
      "25/25 - 1s - 20ms/step - loss: 10.2695 - mae: 2.4928 - val_loss: 2.6134 - val_mae: 1.4022\n",
      "Epoch 68/100\n",
      "25/25 - 1s - 21ms/step - loss: 24.0760 - mae: 3.8806 - val_loss: 3.6565 - val_mae: 1.5392\n",
      "Epoch 69/100\n",
      "25/25 - 1s - 21ms/step - loss: 5.7296 - mae: 1.9318 - val_loss: 2.0655 - val_mae: 1.3280\n",
      "Epoch 70/100\n",
      "25/25 - 1s - 20ms/step - loss: 5.2545 - mae: 1.8435 - val_loss: 0.5362 - val_mae: 0.6181\n",
      "Epoch 71/100\n",
      "25/25 - 1s - 20ms/step - loss: 5.1796 - mae: 1.7947 - val_loss: 1.1438 - val_mae: 0.9689\n",
      "Epoch 72/100\n",
      "25/25 - 1s - 20ms/step - loss: 2.2225 - mae: 1.2176 - val_loss: 0.4169 - val_mae: 0.5007\n",
      "Epoch 73/100\n",
      "25/25 - 1s - 20ms/step - loss: 1.7190 - mae: 1.0538 - val_loss: 0.7713 - val_mae: 0.7436\n",
      "Epoch 74/100\n",
      "25/25 - 0s - 20ms/step - loss: 2.1344 - mae: 1.1888 - val_loss: 1.8059 - val_mae: 1.1455\n",
      "Epoch 75/100\n",
      "25/25 - 0s - 20ms/step - loss: 7.6556 - mae: 2.1963 - val_loss: 2.1745 - val_mae: 1.4273\n",
      "Epoch 76/100\n",
      "25/25 - 0s - 20ms/step - loss: 6.0218 - mae: 2.0020 - val_loss: 6.8320 - val_mae: 2.3655\n",
      "Epoch 77/100\n",
      "25/25 - 1s - 20ms/step - loss: 5.8021 - mae: 1.9512 - val_loss: 4.6537 - val_mae: 2.0942\n",
      "Epoch 78/100\n",
      "25/25 - 1s - 20ms/step - loss: 3.4098 - mae: 1.5203 - val_loss: 4.8420 - val_mae: 1.9544\n",
      "Epoch 79/100\n",
      "25/25 - 0s - 20ms/step - loss: 5.0790 - mae: 1.7882 - val_loss: 0.4843 - val_mae: 0.5626\n",
      "Epoch 80/100\n",
      "25/25 - 1s - 20ms/step - loss: 5.5290 - mae: 1.8446 - val_loss: 2.4278 - val_mae: 1.3597\n",
      "Epoch 81/100\n",
      "25/25 - 0s - 20ms/step - loss: 6.1768 - mae: 2.0157 - val_loss: 0.4762 - val_mae: 0.5869\n",
      "Epoch 82/100\n",
      "25/25 - 1s - 21ms/step - loss: 3.9029 - mae: 1.5645 - val_loss: 13.2779 - val_mae: 3.2735\n",
      "Epoch 83/100\n",
      "25/25 - 1s - 20ms/step - loss: 7.8431 - mae: 2.2229 - val_loss: 1.7940 - val_mae: 1.2247\n",
      "Epoch 84/100\n",
      "25/25 - 0s - 20ms/step - loss: 4.3911 - mae: 1.6240 - val_loss: 1.3704 - val_mae: 1.0424\n",
      "Epoch 85/100\n",
      "25/25 - 1s - 20ms/step - loss: 6.3255 - mae: 1.9722 - val_loss: 3.3098 - val_mae: 1.7055\n",
      "Epoch 86/100\n",
      "25/25 - 1s - 20ms/step - loss: 13.8940 - mae: 2.9156 - val_loss: 2.3272 - val_mae: 1.4387\n",
      "Epoch 87/100\n",
      "25/25 - 1s - 20ms/step - loss: 34.6338 - mae: 4.3029 - val_loss: 67.6135 - val_mae: 7.5900\n",
      "Epoch 88/100\n",
      "25/25 - 1s - 20ms/step - loss: 48.6255 - mae: 5.3148 - val_loss: 26.3658 - val_mae: 4.5082\n",
      "Epoch 89/100\n",
      "25/25 - 1s - 22ms/step - loss: 31.7984 - mae: 4.2930 - val_loss: 23.0343 - val_mae: 4.5038\n",
      "Epoch 90/100\n",
      "25/25 - 1s - 20ms/step - loss: 9.4205 - mae: 2.3734 - val_loss: 3.6760 - val_mae: 1.6635\n",
      "Epoch 91/100\n",
      "25/25 - 0s - 20ms/step - loss: 3.5593 - mae: 1.5014 - val_loss: 2.4045 - val_mae: 1.5006\n",
      "Epoch 92/100\n",
      "25/25 - 1s - 21ms/step - loss: 2.0839 - mae: 1.2006 - val_loss: 0.4678 - val_mae: 0.5503\n",
      "Epoch 93/100\n",
      "25/25 - 1s - 20ms/step - loss: 2.1712 - mae: 1.2002 - val_loss: 4.2950 - val_mae: 2.0151\n",
      "Epoch 94/100\n",
      "25/25 - 1s - 20ms/step - loss: 2.3980 - mae: 1.2394 - val_loss: 0.4466 - val_mae: 0.5216\n",
      "Epoch 95/100\n",
      "25/25 - 1s - 20ms/step - loss: 2.0653 - mae: 1.1690 - val_loss: 1.0100 - val_mae: 0.8542\n",
      "Epoch 96/100\n",
      "25/25 - 1s - 20ms/step - loss: 1.6357 - mae: 1.0636 - val_loss: 1.1016 - val_mae: 0.8622\n",
      "Epoch 97/100\n",
      "25/25 - 0s - 20ms/step - loss: 3.8895 - mae: 1.5327 - val_loss: 1.0888 - val_mae: 0.9234\n",
      "Epoch 98/100\n",
      "25/25 - 1s - 20ms/step - loss: 6.0198 - mae: 1.9941 - val_loss: 3.6130 - val_mae: 1.6805\n",
      "Epoch 99/100\n",
      "25/25 - 1s - 20ms/step - loss: 7.0549 - mae: 2.1598 - val_loss: 2.3573 - val_mae: 1.4842\n",
      "Epoch 100/100\n",
      "25/25 - 0s - 20ms/step - loss: 58.7215 - mae: 5.6975 - val_loss: 229.7814 - val_mae: 14.1624\n",
      "\u001b[1m7/7\u001b[0m \u001b[32m━━━━━━━━━━━━━━━━━━━━\u001b[0m\u001b[37m\u001b[0m \u001b[1m0s\u001b[0m 12ms/step\n",
      "MAE: 14.16\n",
      "MSE: 229.78\n",
      "R² Score: -124.35\n",
      "MAPE: 2.51\n"
     ]
    },
    {
     "data": {
      "text/plain": [
       "{'MAE': 14.162374861778252,\n",
       " 'MSE': 229.78141433091344,\n",
       " 'R2': -124.3507520071642,\n",
       " 'MAPE': 2.5143238244268686}"
      ]
     },
     "execution_count": 20,
     "metadata": {},
     "output_type": "execute_result"
    }
   ],
   "source": [
    "# Preprocess data\n",
    "X_train_scaled, X_test_scaled, scaler = preprocess_data(X_train, X_test)\n",
    "\n",
    "# Build model\n",
    "model = build_model(input_dim=X_train.shape[1])\n",
    "\n",
    "# Train model\n",
    "train_model(model, X_train_scaled, y_train, X_test_scaled, y_test, epochs=100, batch_size=32)\n",
    "\n",
    "# Evaluate model\n",
    "evaluate_model(model, X_test_scaled, y_test)"
   ]
  },
  {
   "cell_type": "code",
   "execution_count": 18,
   "metadata": {},
   "outputs": [],
   "source": [
    "import keras_tuner as kt\n",
    "\n",
    "def build_model_with_tuning(hp):\n",
    "    \"\"\"Create a neural network model with hyperparameter tuning.\"\"\"\n",
    "    model = Sequential()\n",
    "\n",
    "    # Tunable parameters for layers\n",
    "    model.add(Dense(\n",
    "        hp.Int('units1', min_value=32, max_value=512, step=32),\n",
    "        activation='relu', input_shape=(X_train.shape[1],)\n",
    "    ))\n",
    "\n",
    "    model.add(Dropout(hp.Float('dropout1', min_value=0.1, max_value=0.5, step=0.1)))\n",
    "    \n",
    "    model.add(Dense(\n",
    "        hp.Int('units2', min_value=32, max_value=512, step=32),\n",
    "        activation='relu'\n",
    "    ))\n",
    "\n",
    "    model.add(Dropout(hp.Float('dropout2', min_value=0.1, max_value=0.5, step=0.1)))\n",
    "    \n",
    "    model.add(Dense(1))  # Output layer\n",
    "\n",
    "    # Compile model with tunable learning rate\n",
    "    model.compile(\n",
    "        optimizer=Adam(learning_rate=hp.Float('learning_rate', min_value=1e-5, max_value=1e-2, sampling='LOG')),\n",
    "        loss='mse', metrics=['mae']\n",
    "    )\n",
    "\n",
    "    return model"
   ]
  },
  {
   "cell_type": "code",
   "execution_count": 19,
   "metadata": {},
   "outputs": [
    {
     "name": "stdout",
     "output_type": "stream",
     "text": [
      "Trial 30 Complete [00h 00m 16s]\n",
      "val_loss: 1719676.0\n",
      "\n",
      "Best val_loss So Far: 325861.0\n",
      "Total elapsed time: 00h 06m 13s\n",
      "\u001b[1m7/7\u001b[0m \u001b[32m━━━━━━━━━━━━━━━━━━━━\u001b[0m\u001b[37m\u001b[0m \u001b[1m0s\u001b[0m 13ms/step\n",
      "MAE: 391.88\n",
      "MSE: 325861.01\n",
      "R² Score: 0.61\n",
      "MAPE: 0.71\n"
     ]
    },
    {
     "data": {
      "text/plain": [
       "{'MAE': 391.87534406038975,\n",
       " 'MSE': 325861.00997261406,\n",
       " 'R2': 0.6143021499043362,\n",
       " 'MAPE': 0.7051358303896563}"
      ]
     },
     "execution_count": 19,
     "metadata": {},
     "output_type": "execute_result"
    }
   ],
   "source": [
    "# Initialize the tuner\n",
    "tuner = kt.Hyperband(\n",
    "    build_model_with_tuning,\n",
    "    objective='val_loss',\n",
    "    max_epochs=10,\n",
    "    factor=3,\n",
    "    directory='my_dir',\n",
    "    project_name='price_prediction'\n",
    ")\n",
    "\n",
    "# Search for the best hyperparameters\n",
    "tuner.search(X_train_scaled, y_train, epochs=10, validation_data=(X_test_scaled, y_test))\n",
    "\n",
    "# Get the best model\n",
    "best_model = tuner.get_best_models(num_models=1)[0]\n",
    "\n",
    "# Evaluate the best model\n",
    "evaluate_model(best_model, X_test_scaled, y_test)"
   ]
  },
  {
   "cell_type": "code",
   "execution_count": 3,
   "metadata": {},
   "outputs": [
    {
     "data": {
      "application/vnd.microsoft.datawrangler.viewer.v0+json": {
       "columns": [
        {
         "name": "index",
         "rawType": "int64",
         "type": "integer"
        },
        {
         "name": "product_id",
         "rawType": "int64",
         "type": "integer"
        },
        {
         "name": "category",
         "rawType": "object",
         "type": "string"
        },
        {
         "name": "brand",
         "rawType": "object",
         "type": "string"
        },
        {
         "name": "condition",
         "rawType": "object",
         "type": "string"
        },
        {
         "name": "price",
         "rawType": "float64",
         "type": "float"
        },
        {
         "name": "seller_reputation",
         "rawType": "int64",
         "type": "integer"
        },
        {
         "name": "description",
         "rawType": "object",
         "type": "string"
        },
        {
         "name": "suspected_fraud",
         "rawType": "bool",
         "type": "boolean"
        },
        {
         "name": "log_price",
         "rawType": "float64",
         "type": "float"
        }
       ],
       "conversionMethod": "pd.DataFrame",
       "ref": "3b3ed7ca-1329-46c5-9c83-ae3d70831e04",
       "rows": [
        [
         "0",
         "2",
         "Clothing",
         "Adidas",
         "used",
         "75.0",
         "4",
         "Brand new Adidas running shorts",
         "True",
         "4.330733340286331"
        ],
        [
         "1",
         "3",
         "Electronics",
         "Apple",
         "used",
         "1299.99",
         "2",
         "Brand new Apple iPhone 14 Pro with 256GB storage",
         "False",
         "7.170880792087884"
        ],
        [
         "2",
         "4",
         "Furniture",
         "Joybird",
         "used",
         "1200.0",
         "5",
         "Stylish Joybird mid-century modern sofa with plush cushions.",
         "False",
         "7.0909098220799835"
        ],
        [
         "3",
         "5",
         "Furniture",
         "IKEA",
         "New",
         "350.0",
         "4",
         "Brand new IKEA Hemnes dresser with 6 drawers.",
         "False",
         "5.860786223465865"
        ],
        [
         "4",
         "6",
         "Furniture",
         "West Elm",
         "New",
         "3200.0",
         "3",
         "Brand new West Elm mid-century dining table in walnut finish.",
         "True",
         "8.071218539969863"
        ]
       ],
       "shape": {
        "columns": 9,
        "rows": 5
       }
      },
      "text/html": [
       "<div>\n",
       "<style scoped>\n",
       "    .dataframe tbody tr th:only-of-type {\n",
       "        vertical-align: middle;\n",
       "    }\n",
       "\n",
       "    .dataframe tbody tr th {\n",
       "        vertical-align: top;\n",
       "    }\n",
       "\n",
       "    .dataframe thead th {\n",
       "        text-align: right;\n",
       "    }\n",
       "</style>\n",
       "<table border=\"1\" class=\"dataframe\">\n",
       "  <thead>\n",
       "    <tr style=\"text-align: right;\">\n",
       "      <th></th>\n",
       "      <th>product_id</th>\n",
       "      <th>category</th>\n",
       "      <th>brand</th>\n",
       "      <th>condition</th>\n",
       "      <th>price</th>\n",
       "      <th>seller_reputation</th>\n",
       "      <th>description</th>\n",
       "      <th>suspected_fraud</th>\n",
       "      <th>log_price</th>\n",
       "    </tr>\n",
       "  </thead>\n",
       "  <tbody>\n",
       "    <tr>\n",
       "      <th>0</th>\n",
       "      <td>2</td>\n",
       "      <td>Clothing</td>\n",
       "      <td>Adidas</td>\n",
       "      <td>used</td>\n",
       "      <td>75.00</td>\n",
       "      <td>4</td>\n",
       "      <td>Brand new Adidas running shorts</td>\n",
       "      <td>True</td>\n",
       "      <td>4.330733</td>\n",
       "    </tr>\n",
       "    <tr>\n",
       "      <th>1</th>\n",
       "      <td>3</td>\n",
       "      <td>Electronics</td>\n",
       "      <td>Apple</td>\n",
       "      <td>used</td>\n",
       "      <td>1299.99</td>\n",
       "      <td>2</td>\n",
       "      <td>Brand new Apple iPhone 14 Pro with 256GB storage</td>\n",
       "      <td>False</td>\n",
       "      <td>7.170881</td>\n",
       "    </tr>\n",
       "    <tr>\n",
       "      <th>2</th>\n",
       "      <td>4</td>\n",
       "      <td>Furniture</td>\n",
       "      <td>Joybird</td>\n",
       "      <td>used</td>\n",
       "      <td>1200.00</td>\n",
       "      <td>5</td>\n",
       "      <td>Stylish Joybird mid-century modern sofa with p...</td>\n",
       "      <td>False</td>\n",
       "      <td>7.090910</td>\n",
       "    </tr>\n",
       "    <tr>\n",
       "      <th>3</th>\n",
       "      <td>5</td>\n",
       "      <td>Furniture</td>\n",
       "      <td>IKEA</td>\n",
       "      <td>New</td>\n",
       "      <td>350.00</td>\n",
       "      <td>4</td>\n",
       "      <td>Brand new IKEA Hemnes dresser with 6 drawers.</td>\n",
       "      <td>False</td>\n",
       "      <td>5.860786</td>\n",
       "    </tr>\n",
       "    <tr>\n",
       "      <th>4</th>\n",
       "      <td>6</td>\n",
       "      <td>Furniture</td>\n",
       "      <td>West Elm</td>\n",
       "      <td>New</td>\n",
       "      <td>3200.00</td>\n",
       "      <td>3</td>\n",
       "      <td>Brand new West Elm mid-century dining table in...</td>\n",
       "      <td>True</td>\n",
       "      <td>8.071219</td>\n",
       "    </tr>\n",
       "  </tbody>\n",
       "</table>\n",
       "</div>"
      ],
      "text/plain": [
       "   product_id     category     brand condition    price  seller_reputation  \\\n",
       "0           2     Clothing    Adidas      used    75.00                  4   \n",
       "1           3  Electronics     Apple      used  1299.99                  2   \n",
       "2           4    Furniture   Joybird      used  1200.00                  5   \n",
       "3           5    Furniture      IKEA       New   350.00                  4   \n",
       "4           6    Furniture  West Elm       New  3200.00                  3   \n",
       "\n",
       "                                         description  suspected_fraud  \\\n",
       "0                    Brand new Adidas running shorts             True   \n",
       "1   Brand new Apple iPhone 14 Pro with 256GB storage            False   \n",
       "2  Stylish Joybird mid-century modern sofa with p...            False   \n",
       "3      Brand new IKEA Hemnes dresser with 6 drawers.            False   \n",
       "4  Brand new West Elm mid-century dining table in...             True   \n",
       "\n",
       "   log_price  \n",
       "0   4.330733  \n",
       "1   7.170881  \n",
       "2   7.090910  \n",
       "3   5.860786  \n",
       "4   8.071219  "
      ]
     },
     "execution_count": 3,
     "metadata": {},
     "output_type": "execute_result"
    }
   ],
   "source": [
    "import pandas as pd\n",
    "data = pd.read_csv('../data/processed_data/synthetic_product_listings_gpt_4o_mini.csv')\n",
    "data.head()"
   ]
  },
  {
   "cell_type": "code",
   "execution_count": 2,
   "metadata": {},
   "outputs": [
    {
     "data": {
      "application/vnd.microsoft.datawrangler.viewer.v0+json": {
       "columns": [
        {
         "name": "index",
         "rawType": "int64",
         "type": "integer"
        },
        {
         "name": "category",
         "rawType": "int64",
         "type": "integer"
        },
        {
         "name": "brand",
         "rawType": "int64",
         "type": "integer"
        },
        {
         "name": "condition",
         "rawType": "int64",
         "type": "integer"
        },
        {
         "name": "seller_reputation",
         "rawType": "int64",
         "type": "integer"
        },
        {
         "name": "log_price",
         "rawType": "float64",
         "type": "float"
        }
       ],
       "conversionMethod": "pd.DataFrame",
       "ref": "d93a1e8f-8f4b-4629-9a76-e14cb5caf2ae",
       "rows": [
        [
         "0",
         "0",
         "0",
         "1",
         "4",
         "4.330733340286331"
        ],
        [
         "1",
         "1",
         "1",
         "1",
         "2",
         "7.170880792087884"
        ],
        [
         "2",
         "2",
         "10",
         "1",
         "5",
         "7.090909822079984"
        ],
        [
         "3",
         "2",
         "8",
         "0",
         "4",
         "5.860786223465865"
        ],
        [
         "4",
         "2",
         "32",
         "0",
         "3",
         "8.071218539969863"
        ]
       ],
       "shape": {
        "columns": 5,
        "rows": 5
       }
      },
      "text/html": [
       "<div>\n",
       "<style scoped>\n",
       "    .dataframe tbody tr th:only-of-type {\n",
       "        vertical-align: middle;\n",
       "    }\n",
       "\n",
       "    .dataframe tbody tr th {\n",
       "        vertical-align: top;\n",
       "    }\n",
       "\n",
       "    .dataframe thead th {\n",
       "        text-align: right;\n",
       "    }\n",
       "</style>\n",
       "<table border=\"1\" class=\"dataframe\">\n",
       "  <thead>\n",
       "    <tr style=\"text-align: right;\">\n",
       "      <th></th>\n",
       "      <th>category</th>\n",
       "      <th>brand</th>\n",
       "      <th>condition</th>\n",
       "      <th>seller_reputation</th>\n",
       "      <th>log_price</th>\n",
       "    </tr>\n",
       "  </thead>\n",
       "  <tbody>\n",
       "    <tr>\n",
       "      <th>0</th>\n",
       "      <td>0</td>\n",
       "      <td>0</td>\n",
       "      <td>1</td>\n",
       "      <td>4</td>\n",
       "      <td>4.330733</td>\n",
       "    </tr>\n",
       "    <tr>\n",
       "      <th>1</th>\n",
       "      <td>1</td>\n",
       "      <td>1</td>\n",
       "      <td>1</td>\n",
       "      <td>2</td>\n",
       "      <td>7.170881</td>\n",
       "    </tr>\n",
       "    <tr>\n",
       "      <th>2</th>\n",
       "      <td>2</td>\n",
       "      <td>10</td>\n",
       "      <td>1</td>\n",
       "      <td>5</td>\n",
       "      <td>7.090910</td>\n",
       "    </tr>\n",
       "    <tr>\n",
       "      <th>3</th>\n",
       "      <td>2</td>\n",
       "      <td>8</td>\n",
       "      <td>0</td>\n",
       "      <td>4</td>\n",
       "      <td>5.860786</td>\n",
       "    </tr>\n",
       "    <tr>\n",
       "      <th>4</th>\n",
       "      <td>2</td>\n",
       "      <td>32</td>\n",
       "      <td>0</td>\n",
       "      <td>3</td>\n",
       "      <td>8.071219</td>\n",
       "    </tr>\n",
       "  </tbody>\n",
       "</table>\n",
       "</div>"
      ],
      "text/plain": [
       "   category  brand  condition  seller_reputation  log_price\n",
       "0         0      0          1                  4   4.330733\n",
       "1         1      1          1                  2   7.170881\n",
       "2         2     10          1                  5   7.090910\n",
       "3         2      8          0                  4   5.860786\n",
       "4         2     32          0                  3   8.071219"
      ]
     },
     "execution_count": 2,
     "metadata": {},
     "output_type": "execute_result"
    }
   ],
   "source": [
    "import pandas as pd\n",
    "data = pd.read_csv('../data/labeled_data/synthetic_product_listings_gpt_4o_mini_encoded_labeled.csv')\n",
    "data.head()"
   ]
  },
  {
   "cell_type": "code",
   "execution_count": 4,
   "metadata": {},
   "outputs": [],
   "source": [
    "import numpy as np"
   ]
  },
  {
   "cell_type": "code",
   "execution_count": 7,
   "metadata": {},
   "outputs": [
    {
     "data": {
      "text/plain": [
       "np.float64(4.330733340286331)"
      ]
     },
     "execution_count": 7,
     "metadata": {},
     "output_type": "execute_result"
    }
   ],
   "source": [
    "n = 75\n",
    "np.log1p(n)"
   ]
  },
  {
   "cell_type": "code",
   "execution_count": null,
   "metadata": {},
   "outputs": [],
   "source": [
    "self.model = xgb.XGBRegressor(\n",
    "            objective=\"reg:squarederror\",\n",
    "            max_depth=9,\n",
    "            min_child_weight=5,\n",
    "            learning_rate=0.2,\n",
    "            colsample_bytree=1.0,\n",
    "            gamma=0.1,\n",
    "            n_estimators=100,\n",
    "            reg_alpha=0.1,\n",
    "            reg_lambda=0,\n",
    "            subsample=1.0,\n",
    "            random_state=1,\n",
    "        )"
   ]
  }
 ],
 "metadata": {
  "kernelspec": {
   "display_name": "synthetic",
   "language": "python",
   "name": "python3"
  },
  "language_info": {
   "codemirror_mode": {
    "name": "ipython",
    "version": 3
   },
   "file_extension": ".py",
   "mimetype": "text/x-python",
   "name": "python",
   "nbconvert_exporter": "python",
   "pygments_lexer": "ipython3",
   "version": "3.11.7"
  }
 },
 "nbformat": 4,
 "nbformat_minor": 2
}
