{
 "cells": [
  {
   "cell_type": "code",
   "execution_count": 3,
   "metadata": {},
   "outputs": [],
   "source": [
    "\n",
    "%load_ext autoreload\n",
    "%autoreload 2"
   ]
  },
  {
   "cell_type": "code",
   "execution_count": 4,
   "metadata": {},
   "outputs": [],
   "source": [
    "import sys, os\n",
    "sys.path.append(os.path.abspath(os.path.join(\"../scripts\")))"
   ]
  },
  {
   "cell_type": "code",
   "execution_count": 5,
   "metadata": {},
   "outputs": [],
   "source": [
    "\n",
    "root_path = os.path.abspath(\"..\")\n",
    "if root_path not in sys.path:\n",
    "    sys.path.insert(0, root_path)\n",
    "\n",
    "from data_preprocessing import DataPreprocessing\n",
    "#from plotting import Plotting"
   ]
  },
  {
   "cell_type": "markdown",
   "metadata": {},
   "source": [
    "### Data processing"
   ]
  },
  {
   "cell_type": "code",
   "execution_count": 6,
   "metadata": {},
   "outputs": [],
   "source": [
    "my_data = DataPreprocessing()"
   ]
  },
  {
   "cell_type": "code",
   "execution_count": 7,
   "metadata": {},
   "outputs": [],
   "source": [
    "data = my_data.read_data(\"../data/synthetic_product_listings_gpt_4o_mini.csv\")"
   ]
  },
  {
   "cell_type": "code",
   "execution_count": 8,
   "metadata": {},
   "outputs": [
    {
     "data": {
      "application/vnd.microsoft.datawrangler.viewer.v0+json": {
       "columns": [
        {
         "name": "index",
         "rawType": "int64",
         "type": "integer"
        },
        {
         "name": "product_id",
         "rawType": "int64",
         "type": "integer"
        },
        {
         "name": "category",
         "rawType": "object",
         "type": "string"
        },
        {
         "name": "brand",
         "rawType": "object",
         "type": "string"
        },
        {
         "name": "condition",
         "rawType": "object",
         "type": "string"
        },
        {
         "name": "price",
         "rawType": "float64",
         "type": "float"
        },
        {
         "name": "seller_reputation",
         "rawType": "int64",
         "type": "integer"
        },
        {
         "name": "description",
         "rawType": "object",
         "type": "string"
        },
        {
         "name": "suspected_fraud",
         "rawType": "bool",
         "type": "boolean"
        }
       ],
       "conversionMethod": "pd.DataFrame",
       "ref": "fc4e5c8c-9ceb-4317-951f-ecb3779bcd96",
       "rows": [
        [
         "0",
         "2",
         "Clothing",
         "Adidas",
         "used",
         "75.0",
         "4",
         "Brand new Adidas running shorts",
         "True"
        ],
        [
         "1",
         "3",
         "Electronics",
         "Apple",
         "used",
         "1299.99",
         "2",
         "Brand new Apple iPhone 14 Pro with 256GB storage",
         "False"
        ],
        [
         "2",
         "4",
         "Furniture",
         "Joybird",
         "used",
         "1200.0",
         "5",
         "Stylish Joybird mid-century modern sofa with plush cushions.",
         "False"
        ],
        [
         "3",
         "5",
         "Furniture",
         "IKEA",
         "New",
         "350.0",
         "4",
         "Brand new IKEA Hemnes dresser with 6 drawers.",
         "False"
        ],
        [
         "4",
         "6",
         "Furniture",
         "West Elm",
         "New",
         "3200.0",
         "3",
         "Brand new West Elm mid-century dining table in walnut finish.",
         "True"
        ],
        [
         "5",
         "7",
         "Clothing",
         "Adidas",
         "New",
         "120.0",
         "3",
         "Brand new Adidas Ultraboost running shoes",
         "False"
        ],
        [
         "6",
         "258",
         "Electronics",
         "Apple",
         "used",
         "1299.99",
         "3",
         "Brand new Apple iPhone 14 Pro with 256GB storage",
         "False"
        ],
        [
         "7",
         "8",
         "Electronics",
         "Apple",
         "New",
         "999.99",
         "3",
         "Brand new Apple iPhone 13 Pro with 256GB storage",
         "False"
        ],
        [
         "8",
         "9",
         "Clothing",
         "Adidas",
         "used",
         "75.0",
         "4",
         "Brand new Adidas UltraBoost running shoes",
         "True"
        ],
        [
         "9",
         "10",
         "Furniture",
         "Article",
         "used",
         "1450.0",
         "5",
         "Stylish new Article Avasan dining table with a modern design.",
         "True"
        ],
        [
         "10",
         "11",
         "Furniture",
         "SofaCo",
         "New",
         "1750.0",
         "5",
         "Brand new SofaCo luxury sectional couch with customizable fabric.",
         "True"
        ],
        [
         "11",
         "12",
         "Electronics",
         "LG",
         "New",
         "1200.0",
         "3",
         "Brand new LG OLED55CXPUA Alexa Built-In OLED TV, 55-Inch",
         "False"
        ],
        [
         "12",
         "13",
         "Furniture",
         "SofaCo",
         "New",
         "1750.0",
         "4",
         "Brand new SofaCo L-shaped sectional couch in grey fabric.",
         "False"
        ],
        [
         "13",
         "14",
         "Furniture",
         "West Elm",
         "New",
         "1250.0",
         "1",
         "Brand new West Elm mid-century dining table, seats 6.",
         "False"
        ],
        [
         "14",
         "15",
         "Clothing",
         "Adidas",
         "used",
         "120.0",
         "2",
         "Brand new Adidas Ultraboost running shoes",
         "True"
        ],
        [
         "15",
         "16",
         "Furniture",
         "West Elm",
         "New",
         "1350.0",
         "4",
         "Brand new West Elm mid-century dining chair set, perfect for modern dining rooms.",
         "False"
        ],
        [
         "16",
         "17",
         "Furniture",
         "Joybird",
         "used",
         "1450.0",
         "1",
         "Stylish Joybird modern loveseat in vibrant teal fabric.",
         "False"
        ],
        [
         "17",
         "18",
         "Electronics",
         "Apple",
         "New",
         "1299.99",
         "4",
         "Brand new Apple iPhone 14 Pro Max with 256GB storage",
         "False"
        ],
        [
         "18",
         "19",
         "Clothing",
         "Adidas",
         "New",
         "85.0",
         "1",
         "Brand new Adidas Ultraboost running shoes, size 10",
         "False"
        ],
        [
         "19",
         "20",
         "Electronics",
         "Apple",
         "New",
         "1299.99",
         "5",
         "Brand new Apple iPhone 14 Pro with 128GB storage",
         "False"
        ],
        [
         "20",
         "21",
         "Clothing",
         "Adidas",
         "New",
         "120.0",
         "5",
         "Brand new Adidas UltraBoost running shoes",
         "False"
        ],
        [
         "21",
         "22",
         "Electronics",
         "Apple",
         "New",
         "1299.99",
         "1",
         "Brand new Apple iPhone 14 Pro with 128GB storage",
         "True"
        ],
        [
         "22",
         "23",
         "Clothing",
         "Adidas",
         "New",
         "120.0",
         "3",
         "Brand new Adidas Ultraboost running shoes in size 10.",
         "True"
        ],
        [
         "23",
         "24",
         "Furniture",
         "Simplicity",
         "New",
         "1250.0",
         "5",
         "Brand new Simplicity modern dining table, seats up to 8.",
         "True"
        ],
        [
         "24",
         "25",
         "Electronics",
         "Apple",
         "New",
         "1399.99",
         "3",
         "Brand new Apple iPhone 14 Pro with 256GB storage",
         "False"
        ],
        [
         "25",
         "693",
         "Furniture",
         "West Elm",
         "New",
         "3200.0",
         "5",
         "Sleek and modern West Elm mid-century dining table made from solid wood.",
         "False"
        ],
        [
         "26",
         "27",
         "Clothing",
         "Adidas",
         "New",
         "120.0",
         "4",
         "Brand new Adidas Ultraboost running shoes",
         "False"
        ],
        [
         "27",
         "28",
         "Electronics",
         "Dell",
         "New",
         "1200.0",
         "3",
         "Brand new Dell XPS 13 with Intel i7 processor and 16GB RAM",
         "False"
        ],
        [
         "28",
         "29",
         "Furniture",
         "West Elm",
         "used",
         "3500.0",
         "5",
         "Brand new West Elm mid-century dining table, seats 8.",
         "False"
        ],
        [
         "29",
         "30",
         "Furniture",
         "Article",
         "used",
         "1350.0",
         "4",
         "Brand new Article Sven grass green sofa, perfect for modern living rooms.",
         "False"
        ],
        [
         "30",
         "31",
         "Clothing",
         "Adidas",
         "New",
         "90.0",
         "2",
         "Brand new Adidas Ultraboost running shoes in size 10.",
         "True"
        ],
        [
         "31",
         "32",
         "Furniture",
         "Simplicity",
         "New",
         "3500.0",
         "1",
         "Brand new Simplicity handcrafted oak dining table, seats up to 8.",
         "True"
        ],
        [
         "32",
         "33",
         "Electronics",
         "Dell",
         "used",
         "1350.0",
         "2",
         "Brand new Dell XPS 13 laptop with Intel i7 and 16GB RAM",
         "True"
        ],
        [
         "33",
         "34",
         "Furniture",
         "Rove Concepts",
         "used",
         "3200.0",
         "3",
         "Elegant Rove Concepts Scandinavian dining table, perfect for modern homes.",
         "False"
        ],
        [
         "34",
         "35",
         "Clothing",
         "H&M",
         "New",
         "45.0",
         "5",
         "Brand new H&M casual summer dress in multiple sizes.",
         "False"
        ],
        [
         "35",
         "36",
         "Furniture",
         "West Elm",
         "New",
         "1800.0",
         "3",
         "Brand new West Elm mid-century dining table with 6 chairs.",
         "False"
        ],
        [
         "36",
         "37",
         "Furniture",
         "West Elm",
         "used",
         "3200.0",
         "2",
         "Brand new West Elm mid-century modern dresser with 6 drawers.",
         "True"
        ],
        [
         "37",
         "38",
         "Clothing",
         "Adidas",
         "used",
         "120.0",
         "3",
         "Brand new Adidas Ultraboost running shoes",
         "False"
        ],
        [
         "38",
         "39",
         "Furniture",
         "SofaCo",
         "New",
         "2400.0",
         "2",
         "Brand new SofaCo luxury leather sectional with chaise lounge.",
         "False"
        ],
        [
         "39",
         "40",
         "Electronics",
         "Apple",
         "used",
         "1299.99",
         "5",
         "Brand new Apple iPhone 14 Pro Max with 256GB storage",
         "True"
        ],
        [
         "40",
         "41",
         "Electronics",
         "LG",
         "New",
         "1200.0",
         "5",
         "Brand new LG OLED TV with 55-inch display",
         "False"
        ],
        [
         "41",
         "42",
         "Furniture",
         "West Elm",
         "used",
         "1750.0",
         "3",
         "Brand new West Elm mid-century dining table, seats up to 8.",
         "False"
        ],
        [
         "42",
         "43",
         "Furniture",
         "Rove Concepts",
         "used",
         "1450.0",
         "5",
         "Brand new Rove Concepts dining table made from solid wood",
         "False"
        ],
        [
         "43",
         "44",
         "Electronics",
         "LG",
         "New",
         "1399.99",
         "3",
         "Brand new LG OLED55CXPUA Alexa Built-In 55-Inch 4K Smart OLED TV",
         "True"
        ],
        [
         "44",
         "45",
         "Clothing",
         "Nike",
         "New",
         "120.0",
         "4",
         "Brand new Nike Air Max 270 sneakers",
         "True"
        ],
        [
         "45",
         "46",
         "Electronics",
         "Apple",
         "used",
         "1299.99",
         "5",
         "Brand new Apple iPhone 13 Pro Max with 256GB storage",
         "False"
        ],
        [
         "46",
         "47",
         "Furniture",
         "Herman Miller",
         "New",
         "1800.0",
         "3",
         "Brand new Herman Miller Aeron chair for ergonomic comfort.",
         "True"
        ],
        [
         "47",
         "48",
         "Furniture",
         "Rove Concepts",
         "New",
         "3500.0",
         "4",
         "Luxury Rove Concepts modern dining table crafted from solid wood.",
         "False"
        ],
        [
         "48",
         "49",
         "Electronics",
         "Apple",
         "New",
         "1299.99",
         "3",
         "Brand new Apple iPhone 14 Pro with 256GB storage",
         "False"
        ],
        [
         "49",
         "50",
         "Clothing",
         "Adidas",
         "used",
         "75.0",
         "5",
         "Brand new Adidas Ultraboost running shoes",
         "False"
        ]
       ],
       "shape": {
        "columns": 8,
        "rows": 1000
       }
      },
      "text/html": [
       "<div>\n",
       "<style scoped>\n",
       "    .dataframe tbody tr th:only-of-type {\n",
       "        vertical-align: middle;\n",
       "    }\n",
       "\n",
       "    .dataframe tbody tr th {\n",
       "        vertical-align: top;\n",
       "    }\n",
       "\n",
       "    .dataframe thead th {\n",
       "        text-align: right;\n",
       "    }\n",
       "</style>\n",
       "<table border=\"1\" class=\"dataframe\">\n",
       "  <thead>\n",
       "    <tr style=\"text-align: right;\">\n",
       "      <th></th>\n",
       "      <th>product_id</th>\n",
       "      <th>category</th>\n",
       "      <th>brand</th>\n",
       "      <th>condition</th>\n",
       "      <th>price</th>\n",
       "      <th>seller_reputation</th>\n",
       "      <th>description</th>\n",
       "      <th>suspected_fraud</th>\n",
       "    </tr>\n",
       "  </thead>\n",
       "  <tbody>\n",
       "    <tr>\n",
       "      <th>0</th>\n",
       "      <td>2</td>\n",
       "      <td>Clothing</td>\n",
       "      <td>Adidas</td>\n",
       "      <td>used</td>\n",
       "      <td>75.00</td>\n",
       "      <td>4</td>\n",
       "      <td>Brand new Adidas running shorts</td>\n",
       "      <td>True</td>\n",
       "    </tr>\n",
       "    <tr>\n",
       "      <th>1</th>\n",
       "      <td>3</td>\n",
       "      <td>Electronics</td>\n",
       "      <td>Apple</td>\n",
       "      <td>used</td>\n",
       "      <td>1299.99</td>\n",
       "      <td>2</td>\n",
       "      <td>Brand new Apple iPhone 14 Pro with 256GB storage</td>\n",
       "      <td>False</td>\n",
       "    </tr>\n",
       "    <tr>\n",
       "      <th>2</th>\n",
       "      <td>4</td>\n",
       "      <td>Furniture</td>\n",
       "      <td>Joybird</td>\n",
       "      <td>used</td>\n",
       "      <td>1200.00</td>\n",
       "      <td>5</td>\n",
       "      <td>Stylish Joybird mid-century modern sofa with p...</td>\n",
       "      <td>False</td>\n",
       "    </tr>\n",
       "    <tr>\n",
       "      <th>3</th>\n",
       "      <td>5</td>\n",
       "      <td>Furniture</td>\n",
       "      <td>IKEA</td>\n",
       "      <td>New</td>\n",
       "      <td>350.00</td>\n",
       "      <td>4</td>\n",
       "      <td>Brand new IKEA Hemnes dresser with 6 drawers.</td>\n",
       "      <td>False</td>\n",
       "    </tr>\n",
       "    <tr>\n",
       "      <th>4</th>\n",
       "      <td>6</td>\n",
       "      <td>Furniture</td>\n",
       "      <td>West Elm</td>\n",
       "      <td>New</td>\n",
       "      <td>3200.00</td>\n",
       "      <td>3</td>\n",
       "      <td>Brand new West Elm mid-century dining table in...</td>\n",
       "      <td>True</td>\n",
       "    </tr>\n",
       "    <tr>\n",
       "      <th>...</th>\n",
       "      <td>...</td>\n",
       "      <td>...</td>\n",
       "      <td>...</td>\n",
       "      <td>...</td>\n",
       "      <td>...</td>\n",
       "      <td>...</td>\n",
       "      <td>...</td>\n",
       "      <td>...</td>\n",
       "    </tr>\n",
       "    <tr>\n",
       "      <th>995</th>\n",
       "      <td>996</td>\n",
       "      <td>Furniture</td>\n",
       "      <td>West Elm</td>\n",
       "      <td>used</td>\n",
       "      <td>1750.00</td>\n",
       "      <td>3</td>\n",
       "      <td>Brand new West Elm mid-century style dining ta...</td>\n",
       "      <td>False</td>\n",
       "    </tr>\n",
       "    <tr>\n",
       "      <th>996</th>\n",
       "      <td>997</td>\n",
       "      <td>Electronics</td>\n",
       "      <td>LG</td>\n",
       "      <td>New</td>\n",
       "      <td>1200.00</td>\n",
       "      <td>1</td>\n",
       "      <td>Brand new LG OLED55CXPUA Alexa Built-In OLED TV</td>\n",
       "      <td>False</td>\n",
       "    </tr>\n",
       "    <tr>\n",
       "      <th>997</th>\n",
       "      <td>998</td>\n",
       "      <td>Clothing</td>\n",
       "      <td>Adidas</td>\n",
       "      <td>New</td>\n",
       "      <td>75.00</td>\n",
       "      <td>5</td>\n",
       "      <td>Brand new Adidas Ultraboost running shoes, per...</td>\n",
       "      <td>True</td>\n",
       "    </tr>\n",
       "    <tr>\n",
       "      <th>998</th>\n",
       "      <td>999</td>\n",
       "      <td>Electronics</td>\n",
       "      <td>Dell</td>\n",
       "      <td>New</td>\n",
       "      <td>1200.00</td>\n",
       "      <td>3</td>\n",
       "      <td>Brand new Dell XPS 13 laptop with 16GB RAM and...</td>\n",
       "      <td>False</td>\n",
       "    </tr>\n",
       "    <tr>\n",
       "      <th>999</th>\n",
       "      <td>1000</td>\n",
       "      <td>Furniture</td>\n",
       "      <td>IKEA</td>\n",
       "      <td>used</td>\n",
       "      <td>350.00</td>\n",
       "      <td>3</td>\n",
       "      <td>Brand new IKEA Hemnes dresser with 6 drawers</td>\n",
       "      <td>False</td>\n",
       "    </tr>\n",
       "  </tbody>\n",
       "</table>\n",
       "<p>1000 rows × 8 columns</p>\n",
       "</div>"
      ],
      "text/plain": [
       "     product_id     category     brand condition    price  seller_reputation  \\\n",
       "0             2     Clothing    Adidas      used    75.00                  4   \n",
       "1             3  Electronics     Apple      used  1299.99                  2   \n",
       "2             4    Furniture   Joybird      used  1200.00                  5   \n",
       "3             5    Furniture      IKEA       New   350.00                  4   \n",
       "4             6    Furniture  West Elm       New  3200.00                  3   \n",
       "..          ...          ...       ...       ...      ...                ...   \n",
       "995         996    Furniture  West Elm      used  1750.00                  3   \n",
       "996         997  Electronics        LG       New  1200.00                  1   \n",
       "997         998     Clothing    Adidas       New    75.00                  5   \n",
       "998         999  Electronics      Dell       New  1200.00                  3   \n",
       "999        1000    Furniture      IKEA      used   350.00                  3   \n",
       "\n",
       "                                           description  suspected_fraud  \n",
       "0                      Brand new Adidas running shorts             True  \n",
       "1     Brand new Apple iPhone 14 Pro with 256GB storage            False  \n",
       "2    Stylish Joybird mid-century modern sofa with p...            False  \n",
       "3        Brand new IKEA Hemnes dresser with 6 drawers.            False  \n",
       "4    Brand new West Elm mid-century dining table in...             True  \n",
       "..                                                 ...              ...  \n",
       "995  Brand new West Elm mid-century style dining ta...            False  \n",
       "996    Brand new LG OLED55CXPUA Alexa Built-In OLED TV            False  \n",
       "997  Brand new Adidas Ultraboost running shoes, per...             True  \n",
       "998  Brand new Dell XPS 13 laptop with 16GB RAM and...            False  \n",
       "999       Brand new IKEA Hemnes dresser with 6 drawers            False  \n",
       "\n",
       "[1000 rows x 8 columns]"
      ]
     },
     "execution_count": 8,
     "metadata": {},
     "output_type": "execute_result"
    }
   ],
   "source": [
    "data"
   ]
  },
  {
   "cell_type": "code",
   "execution_count": 9,
   "metadata": {},
   "outputs": [
    {
     "data": {
      "text/plain": [
       "0"
      ]
     },
     "execution_count": 9,
     "metadata": {},
     "output_type": "execute_result"
    }
   ],
   "source": [
    "data.duplicated().sum()"
   ]
  },
  {
   "cell_type": "code",
   "execution_count": 10,
   "metadata": {},
   "outputs": [
    {
     "data": {
      "application/vnd.microsoft.datawrangler.viewer.v0+json": {
       "columns": [
        {
         "name": "index",
         "rawType": "object",
         "type": "string"
        },
        {
         "name": "product_id",
         "rawType": "float64",
         "type": "float"
        },
        {
         "name": "price",
         "rawType": "float64",
         "type": "float"
        },
        {
         "name": "seller_reputation",
         "rawType": "float64",
         "type": "float"
        }
       ],
       "conversionMethod": "pd.DataFrame",
       "ref": "bc21cc0c-ad3a-4330-a25a-665a888a3464",
       "rows": [
        [
         "count",
         "1000.0",
         "1000.0",
         "1000.0"
        ],
        [
         "mean",
         "502.307",
         "991.86638",
         "3.022"
        ],
        [
         "std",
         "288.32867734094225",
         "868.3862273676256",
         "1.3998126572779215"
        ],
        [
         "min",
         "2.0",
         "45.0",
         "1.0"
        ],
        [
         "25%",
         "252.75",
         "120.0",
         "2.0"
        ],
        [
         "50%",
         "504.5",
         "1200.0",
         "3.0"
        ],
        [
         "75%",
         "751.25",
         "1399.99",
         "4.0"
        ],
        [
         "max",
         "1001.0",
         "3500.0",
         "5.0"
        ]
       ],
       "shape": {
        "columns": 3,
        "rows": 8
       }
      },
      "text/html": [
       "<div>\n",
       "<style scoped>\n",
       "    .dataframe tbody tr th:only-of-type {\n",
       "        vertical-align: middle;\n",
       "    }\n",
       "\n",
       "    .dataframe tbody tr th {\n",
       "        vertical-align: top;\n",
       "    }\n",
       "\n",
       "    .dataframe thead th {\n",
       "        text-align: right;\n",
       "    }\n",
       "</style>\n",
       "<table border=\"1\" class=\"dataframe\">\n",
       "  <thead>\n",
       "    <tr style=\"text-align: right;\">\n",
       "      <th></th>\n",
       "      <th>product_id</th>\n",
       "      <th>price</th>\n",
       "      <th>seller_reputation</th>\n",
       "    </tr>\n",
       "  </thead>\n",
       "  <tbody>\n",
       "    <tr>\n",
       "      <th>count</th>\n",
       "      <td>1000.000000</td>\n",
       "      <td>1000.000000</td>\n",
       "      <td>1000.000000</td>\n",
       "    </tr>\n",
       "    <tr>\n",
       "      <th>mean</th>\n",
       "      <td>502.307000</td>\n",
       "      <td>991.866380</td>\n",
       "      <td>3.022000</td>\n",
       "    </tr>\n",
       "    <tr>\n",
       "      <th>std</th>\n",
       "      <td>288.328677</td>\n",
       "      <td>868.386227</td>\n",
       "      <td>1.399813</td>\n",
       "    </tr>\n",
       "    <tr>\n",
       "      <th>min</th>\n",
       "      <td>2.000000</td>\n",
       "      <td>45.000000</td>\n",
       "      <td>1.000000</td>\n",
       "    </tr>\n",
       "    <tr>\n",
       "      <th>25%</th>\n",
       "      <td>252.750000</td>\n",
       "      <td>120.000000</td>\n",
       "      <td>2.000000</td>\n",
       "    </tr>\n",
       "    <tr>\n",
       "      <th>50%</th>\n",
       "      <td>504.500000</td>\n",
       "      <td>1200.000000</td>\n",
       "      <td>3.000000</td>\n",
       "    </tr>\n",
       "    <tr>\n",
       "      <th>75%</th>\n",
       "      <td>751.250000</td>\n",
       "      <td>1399.990000</td>\n",
       "      <td>4.000000</td>\n",
       "    </tr>\n",
       "    <tr>\n",
       "      <th>max</th>\n",
       "      <td>1001.000000</td>\n",
       "      <td>3500.000000</td>\n",
       "      <td>5.000000</td>\n",
       "    </tr>\n",
       "  </tbody>\n",
       "</table>\n",
       "</div>"
      ],
      "text/plain": [
       "        product_id        price  seller_reputation\n",
       "count  1000.000000  1000.000000        1000.000000\n",
       "mean    502.307000   991.866380           3.022000\n",
       "std     288.328677   868.386227           1.399813\n",
       "min       2.000000    45.000000           1.000000\n",
       "25%     252.750000   120.000000           2.000000\n",
       "50%     504.500000  1200.000000           3.000000\n",
       "75%     751.250000  1399.990000           4.000000\n",
       "max    1001.000000  3500.000000           5.000000"
      ]
     },
     "execution_count": 10,
     "metadata": {},
     "output_type": "execute_result"
    }
   ],
   "source": [
    "data.describe()"
   ]
  },
  {
   "cell_type": "code",
   "execution_count": 11,
   "metadata": {},
   "outputs": [
    {
     "data": {
      "text/plain": [
       "product_id\n",
       "212     2\n",
       "816     2\n",
       "598     2\n",
       "505     2\n",
       "693     2\n",
       "       ..\n",
       "342     1\n",
       "343     1\n",
       "344     1\n",
       "345     1\n",
       "1000    1\n",
       "Name: count, Length: 995, dtype: int64"
      ]
     },
     "execution_count": 11,
     "metadata": {},
     "output_type": "execute_result"
    }
   ],
   "source": [
    "data.product_id.value_counts()"
   ]
  },
  {
   "cell_type": "code",
   "execution_count": 12,
   "metadata": {},
   "outputs": [
    {
     "data": {
      "application/vnd.microsoft.datawrangler.viewer.v0+json": {
       "columns": [
        {
         "name": "index",
         "rawType": "int64",
         "type": "integer"
        },
        {
         "name": "product_id",
         "rawType": "int64",
         "type": "integer"
        },
        {
         "name": "category",
         "rawType": "object",
         "type": "string"
        },
        {
         "name": "brand",
         "rawType": "object",
         "type": "string"
        },
        {
         "name": "condition",
         "rawType": "object",
         "type": "string"
        },
        {
         "name": "price",
         "rawType": "float64",
         "type": "float"
        },
        {
         "name": "seller_reputation",
         "rawType": "int64",
         "type": "integer"
        },
        {
         "name": "description",
         "rawType": "object",
         "type": "string"
        },
        {
         "name": "suspected_fraud",
         "rawType": "bool",
         "type": "boolean"
        }
       ],
       "conversionMethod": "pd.DataFrame",
       "ref": "12796aa7-71f4-4816-b017-3f257b873e9e",
       "rows": [
        [
         "0",
         "2",
         "Clothing",
         "Adidas",
         "used",
         "75.0",
         "4",
         "Brand new Adidas running shorts",
         "True"
        ],
        [
         "1",
         "3",
         "Electronics",
         "Apple",
         "used",
         "1299.99",
         "2",
         "Brand new Apple iPhone 14 Pro with 256GB storage",
         "False"
        ],
        [
         "2",
         "4",
         "Furniture",
         "Joybird",
         "used",
         "1200.0",
         "5",
         "Stylish Joybird mid-century modern sofa with plush cushions.",
         "False"
        ],
        [
         "3",
         "5",
         "Furniture",
         "IKEA",
         "New",
         "350.0",
         "4",
         "Brand new IKEA Hemnes dresser with 6 drawers.",
         "False"
        ],
        [
         "4",
         "6",
         "Furniture",
         "West Elm",
         "New",
         "3200.0",
         "3",
         "Brand new West Elm mid-century dining table in walnut finish.",
         "True"
        ],
        [
         "5",
         "7",
         "Clothing",
         "Adidas",
         "New",
         "120.0",
         "3",
         "Brand new Adidas Ultraboost running shoes",
         "False"
        ],
        [
         "6",
         "258",
         "Electronics",
         "Apple",
         "used",
         "1299.99",
         "3",
         "Brand new Apple iPhone 14 Pro with 256GB storage",
         "False"
        ],
        [
         "7",
         "8",
         "Electronics",
         "Apple",
         "New",
         "999.99",
         "3",
         "Brand new Apple iPhone 13 Pro with 256GB storage",
         "False"
        ],
        [
         "8",
         "9",
         "Clothing",
         "Adidas",
         "used",
         "75.0",
         "4",
         "Brand new Adidas UltraBoost running shoes",
         "True"
        ],
        [
         "9",
         "10",
         "Furniture",
         "Article",
         "used",
         "1450.0",
         "5",
         "Stylish new Article Avasan dining table with a modern design.",
         "True"
        ],
        [
         "10",
         "11",
         "Furniture",
         "SofaCo",
         "New",
         "1750.0",
         "5",
         "Brand new SofaCo luxury sectional couch with customizable fabric.",
         "True"
        ],
        [
         "11",
         "12",
         "Electronics",
         "LG",
         "New",
         "1200.0",
         "3",
         "Brand new LG OLED55CXPUA Alexa Built-In OLED TV, 55-Inch",
         "False"
        ],
        [
         "12",
         "13",
         "Furniture",
         "SofaCo",
         "New",
         "1750.0",
         "4",
         "Brand new SofaCo L-shaped sectional couch in grey fabric.",
         "False"
        ],
        [
         "13",
         "14",
         "Furniture",
         "West Elm",
         "New",
         "1250.0",
         "1",
         "Brand new West Elm mid-century dining table, seats 6.",
         "False"
        ],
        [
         "14",
         "15",
         "Clothing",
         "Adidas",
         "used",
         "120.0",
         "2",
         "Brand new Adidas Ultraboost running shoes",
         "True"
        ],
        [
         "15",
         "16",
         "Furniture",
         "West Elm",
         "New",
         "1350.0",
         "4",
         "Brand new West Elm mid-century dining chair set, perfect for modern dining rooms.",
         "False"
        ],
        [
         "16",
         "17",
         "Furniture",
         "Joybird",
         "used",
         "1450.0",
         "1",
         "Stylish Joybird modern loveseat in vibrant teal fabric.",
         "False"
        ],
        [
         "17",
         "18",
         "Electronics",
         "Apple",
         "New",
         "1299.99",
         "4",
         "Brand new Apple iPhone 14 Pro Max with 256GB storage",
         "False"
        ],
        [
         "18",
         "19",
         "Clothing",
         "Adidas",
         "New",
         "85.0",
         "1",
         "Brand new Adidas Ultraboost running shoes, size 10",
         "False"
        ],
        [
         "19",
         "20",
         "Electronics",
         "Apple",
         "New",
         "1299.99",
         "5",
         "Brand new Apple iPhone 14 Pro with 128GB storage",
         "False"
        ],
        [
         "20",
         "21",
         "Clothing",
         "Adidas",
         "New",
         "120.0",
         "5",
         "Brand new Adidas UltraBoost running shoes",
         "False"
        ],
        [
         "21",
         "22",
         "Electronics",
         "Apple",
         "New",
         "1299.99",
         "1",
         "Brand new Apple iPhone 14 Pro with 128GB storage",
         "True"
        ],
        [
         "22",
         "23",
         "Clothing",
         "Adidas",
         "New",
         "120.0",
         "3",
         "Brand new Adidas Ultraboost running shoes in size 10.",
         "True"
        ],
        [
         "23",
         "24",
         "Furniture",
         "Simplicity",
         "New",
         "1250.0",
         "5",
         "Brand new Simplicity modern dining table, seats up to 8.",
         "True"
        ],
        [
         "24",
         "25",
         "Electronics",
         "Apple",
         "New",
         "1399.99",
         "3",
         "Brand new Apple iPhone 14 Pro with 256GB storage",
         "False"
        ],
        [
         "26",
         "27",
         "Clothing",
         "Adidas",
         "New",
         "120.0",
         "4",
         "Brand new Adidas Ultraboost running shoes",
         "False"
        ],
        [
         "27",
         "28",
         "Electronics",
         "Dell",
         "New",
         "1200.0",
         "3",
         "Brand new Dell XPS 13 with Intel i7 processor and 16GB RAM",
         "False"
        ],
        [
         "28",
         "29",
         "Furniture",
         "West Elm",
         "used",
         "3500.0",
         "5",
         "Brand new West Elm mid-century dining table, seats 8.",
         "False"
        ],
        [
         "29",
         "30",
         "Furniture",
         "Article",
         "used",
         "1350.0",
         "4",
         "Brand new Article Sven grass green sofa, perfect for modern living rooms.",
         "False"
        ],
        [
         "30",
         "31",
         "Clothing",
         "Adidas",
         "New",
         "90.0",
         "2",
         "Brand new Adidas Ultraboost running shoes in size 10.",
         "True"
        ],
        [
         "31",
         "32",
         "Furniture",
         "Simplicity",
         "New",
         "3500.0",
         "1",
         "Brand new Simplicity handcrafted oak dining table, seats up to 8.",
         "True"
        ],
        [
         "32",
         "33",
         "Electronics",
         "Dell",
         "used",
         "1350.0",
         "2",
         "Brand new Dell XPS 13 laptop with Intel i7 and 16GB RAM",
         "True"
        ],
        [
         "33",
         "34",
         "Furniture",
         "Rove Concepts",
         "used",
         "3200.0",
         "3",
         "Elegant Rove Concepts Scandinavian dining table, perfect for modern homes.",
         "False"
        ],
        [
         "34",
         "35",
         "Clothing",
         "H&M",
         "New",
         "45.0",
         "5",
         "Brand new H&M casual summer dress in multiple sizes.",
         "False"
        ],
        [
         "35",
         "36",
         "Furniture",
         "West Elm",
         "New",
         "1800.0",
         "3",
         "Brand new West Elm mid-century dining table with 6 chairs.",
         "False"
        ],
        [
         "36",
         "37",
         "Furniture",
         "West Elm",
         "used",
         "3200.0",
         "2",
         "Brand new West Elm mid-century modern dresser with 6 drawers.",
         "True"
        ],
        [
         "37",
         "38",
         "Clothing",
         "Adidas",
         "used",
         "120.0",
         "3",
         "Brand new Adidas Ultraboost running shoes",
         "False"
        ],
        [
         "38",
         "39",
         "Furniture",
         "SofaCo",
         "New",
         "2400.0",
         "2",
         "Brand new SofaCo luxury leather sectional with chaise lounge.",
         "False"
        ],
        [
         "39",
         "40",
         "Electronics",
         "Apple",
         "used",
         "1299.99",
         "5",
         "Brand new Apple iPhone 14 Pro Max with 256GB storage",
         "True"
        ],
        [
         "40",
         "41",
         "Electronics",
         "LG",
         "New",
         "1200.0",
         "5",
         "Brand new LG OLED TV with 55-inch display",
         "False"
        ],
        [
         "41",
         "42",
         "Furniture",
         "West Elm",
         "used",
         "1750.0",
         "3",
         "Brand new West Elm mid-century dining table, seats up to 8.",
         "False"
        ],
        [
         "42",
         "43",
         "Furniture",
         "Rove Concepts",
         "used",
         "1450.0",
         "5",
         "Brand new Rove Concepts dining table made from solid wood",
         "False"
        ],
        [
         "43",
         "44",
         "Electronics",
         "LG",
         "New",
         "1399.99",
         "3",
         "Brand new LG OLED55CXPUA Alexa Built-In 55-Inch 4K Smart OLED TV",
         "True"
        ],
        [
         "44",
         "45",
         "Clothing",
         "Nike",
         "New",
         "120.0",
         "4",
         "Brand new Nike Air Max 270 sneakers",
         "True"
        ],
        [
         "45",
         "46",
         "Electronics",
         "Apple",
         "used",
         "1299.99",
         "5",
         "Brand new Apple iPhone 13 Pro Max with 256GB storage",
         "False"
        ],
        [
         "46",
         "47",
         "Furniture",
         "Herman Miller",
         "New",
         "1800.0",
         "3",
         "Brand new Herman Miller Aeron chair for ergonomic comfort.",
         "True"
        ],
        [
         "47",
         "48",
         "Furniture",
         "Rove Concepts",
         "New",
         "3500.0",
         "4",
         "Luxury Rove Concepts modern dining table crafted from solid wood.",
         "False"
        ],
        [
         "48",
         "49",
         "Electronics",
         "Apple",
         "New",
         "1299.99",
         "3",
         "Brand new Apple iPhone 14 Pro with 256GB storage",
         "False"
        ],
        [
         "49",
         "50",
         "Clothing",
         "Adidas",
         "used",
         "75.0",
         "5",
         "Brand new Adidas Ultraboost running shoes",
         "False"
        ],
        [
         "50",
         "51",
         "Furniture",
         "West Elm",
         "New",
         "850.0",
         "5",
         "Stylish West Elm mid-century dining chair, perfect for any modern home.",
         "False"
        ]
       ],
       "shape": {
        "columns": 8,
        "rows": 995
       }
      },
      "text/html": [
       "<div>\n",
       "<style scoped>\n",
       "    .dataframe tbody tr th:only-of-type {\n",
       "        vertical-align: middle;\n",
       "    }\n",
       "\n",
       "    .dataframe tbody tr th {\n",
       "        vertical-align: top;\n",
       "    }\n",
       "\n",
       "    .dataframe thead th {\n",
       "        text-align: right;\n",
       "    }\n",
       "</style>\n",
       "<table border=\"1\" class=\"dataframe\">\n",
       "  <thead>\n",
       "    <tr style=\"text-align: right;\">\n",
       "      <th></th>\n",
       "      <th>product_id</th>\n",
       "      <th>category</th>\n",
       "      <th>brand</th>\n",
       "      <th>condition</th>\n",
       "      <th>price</th>\n",
       "      <th>seller_reputation</th>\n",
       "      <th>description</th>\n",
       "      <th>suspected_fraud</th>\n",
       "    </tr>\n",
       "  </thead>\n",
       "  <tbody>\n",
       "    <tr>\n",
       "      <th>0</th>\n",
       "      <td>2</td>\n",
       "      <td>Clothing</td>\n",
       "      <td>Adidas</td>\n",
       "      <td>used</td>\n",
       "      <td>75.00</td>\n",
       "      <td>4</td>\n",
       "      <td>Brand new Adidas running shorts</td>\n",
       "      <td>True</td>\n",
       "    </tr>\n",
       "    <tr>\n",
       "      <th>1</th>\n",
       "      <td>3</td>\n",
       "      <td>Electronics</td>\n",
       "      <td>Apple</td>\n",
       "      <td>used</td>\n",
       "      <td>1299.99</td>\n",
       "      <td>2</td>\n",
       "      <td>Brand new Apple iPhone 14 Pro with 256GB storage</td>\n",
       "      <td>False</td>\n",
       "    </tr>\n",
       "    <tr>\n",
       "      <th>2</th>\n",
       "      <td>4</td>\n",
       "      <td>Furniture</td>\n",
       "      <td>Joybird</td>\n",
       "      <td>used</td>\n",
       "      <td>1200.00</td>\n",
       "      <td>5</td>\n",
       "      <td>Stylish Joybird mid-century modern sofa with p...</td>\n",
       "      <td>False</td>\n",
       "    </tr>\n",
       "    <tr>\n",
       "      <th>3</th>\n",
       "      <td>5</td>\n",
       "      <td>Furniture</td>\n",
       "      <td>IKEA</td>\n",
       "      <td>New</td>\n",
       "      <td>350.00</td>\n",
       "      <td>4</td>\n",
       "      <td>Brand new IKEA Hemnes dresser with 6 drawers.</td>\n",
       "      <td>False</td>\n",
       "    </tr>\n",
       "    <tr>\n",
       "      <th>4</th>\n",
       "      <td>6</td>\n",
       "      <td>Furniture</td>\n",
       "      <td>West Elm</td>\n",
       "      <td>New</td>\n",
       "      <td>3200.00</td>\n",
       "      <td>3</td>\n",
       "      <td>Brand new West Elm mid-century dining table in...</td>\n",
       "      <td>True</td>\n",
       "    </tr>\n",
       "    <tr>\n",
       "      <th>...</th>\n",
       "      <td>...</td>\n",
       "      <td>...</td>\n",
       "      <td>...</td>\n",
       "      <td>...</td>\n",
       "      <td>...</td>\n",
       "      <td>...</td>\n",
       "      <td>...</td>\n",
       "      <td>...</td>\n",
       "    </tr>\n",
       "    <tr>\n",
       "      <th>995</th>\n",
       "      <td>996</td>\n",
       "      <td>Furniture</td>\n",
       "      <td>West Elm</td>\n",
       "      <td>used</td>\n",
       "      <td>1750.00</td>\n",
       "      <td>3</td>\n",
       "      <td>Brand new West Elm mid-century style dining ta...</td>\n",
       "      <td>False</td>\n",
       "    </tr>\n",
       "    <tr>\n",
       "      <th>996</th>\n",
       "      <td>997</td>\n",
       "      <td>Electronics</td>\n",
       "      <td>LG</td>\n",
       "      <td>New</td>\n",
       "      <td>1200.00</td>\n",
       "      <td>1</td>\n",
       "      <td>Brand new LG OLED55CXPUA Alexa Built-In OLED TV</td>\n",
       "      <td>False</td>\n",
       "    </tr>\n",
       "    <tr>\n",
       "      <th>997</th>\n",
       "      <td>998</td>\n",
       "      <td>Clothing</td>\n",
       "      <td>Adidas</td>\n",
       "      <td>New</td>\n",
       "      <td>75.00</td>\n",
       "      <td>5</td>\n",
       "      <td>Brand new Adidas Ultraboost running shoes, per...</td>\n",
       "      <td>True</td>\n",
       "    </tr>\n",
       "    <tr>\n",
       "      <th>998</th>\n",
       "      <td>999</td>\n",
       "      <td>Electronics</td>\n",
       "      <td>Dell</td>\n",
       "      <td>New</td>\n",
       "      <td>1200.00</td>\n",
       "      <td>3</td>\n",
       "      <td>Brand new Dell XPS 13 laptop with 16GB RAM and...</td>\n",
       "      <td>False</td>\n",
       "    </tr>\n",
       "    <tr>\n",
       "      <th>999</th>\n",
       "      <td>1000</td>\n",
       "      <td>Furniture</td>\n",
       "      <td>IKEA</td>\n",
       "      <td>used</td>\n",
       "      <td>350.00</td>\n",
       "      <td>3</td>\n",
       "      <td>Brand new IKEA Hemnes dresser with 6 drawers</td>\n",
       "      <td>False</td>\n",
       "    </tr>\n",
       "  </tbody>\n",
       "</table>\n",
       "<p>995 rows × 8 columns</p>\n",
       "</div>"
      ],
      "text/plain": [
       "     product_id     category     brand condition    price  seller_reputation  \\\n",
       "0             2     Clothing    Adidas      used    75.00                  4   \n",
       "1             3  Electronics     Apple      used  1299.99                  2   \n",
       "2             4    Furniture   Joybird      used  1200.00                  5   \n",
       "3             5    Furniture      IKEA       New   350.00                  4   \n",
       "4             6    Furniture  West Elm       New  3200.00                  3   \n",
       "..          ...          ...       ...       ...      ...                ...   \n",
       "995         996    Furniture  West Elm      used  1750.00                  3   \n",
       "996         997  Electronics        LG       New  1200.00                  1   \n",
       "997         998     Clothing    Adidas       New    75.00                  5   \n",
       "998         999  Electronics      Dell       New  1200.00                  3   \n",
       "999        1000    Furniture      IKEA      used   350.00                  3   \n",
       "\n",
       "                                           description  suspected_fraud  \n",
       "0                      Brand new Adidas running shorts             True  \n",
       "1     Brand new Apple iPhone 14 Pro with 256GB storage            False  \n",
       "2    Stylish Joybird mid-century modern sofa with p...            False  \n",
       "3        Brand new IKEA Hemnes dresser with 6 drawers.            False  \n",
       "4    Brand new West Elm mid-century dining table in...             True  \n",
       "..                                                 ...              ...  \n",
       "995  Brand new West Elm mid-century style dining ta...            False  \n",
       "996    Brand new LG OLED55CXPUA Alexa Built-In OLED TV            False  \n",
       "997  Brand new Adidas Ultraboost running shoes, per...             True  \n",
       "998  Brand new Dell XPS 13 laptop with 16GB RAM and...            False  \n",
       "999       Brand new IKEA Hemnes dresser with 6 drawers            False  \n",
       "\n",
       "[995 rows x 8 columns]"
      ]
     },
     "execution_count": 12,
     "metadata": {},
     "output_type": "execute_result"
    }
   ],
   "source": [
    "my_data.drop_duplicates('product_id')"
   ]
  },
  {
   "cell_type": "code",
   "execution_count": 13,
   "metadata": {},
   "outputs": [
    {
     "data": {
      "text/plain": [
       "product_id\n",
       "2       1\n",
       "676     1\n",
       "662     1\n",
       "663     1\n",
       "664     1\n",
       "       ..\n",
       "342     1\n",
       "343     1\n",
       "344     1\n",
       "345     1\n",
       "1000    1\n",
       "Name: count, Length: 995, dtype: int64"
      ]
     },
     "execution_count": 13,
     "metadata": {},
     "output_type": "execute_result"
    }
   ],
   "source": [
    "my_data.data.product_id.value_counts()"
   ]
  },
  {
   "cell_type": "code",
   "execution_count": 14,
   "metadata": {},
   "outputs": [
    {
     "data": {
      "image/png": "[encoded data removed]",
      "text/plain": [
       "<Figure size 800x600 with 1 Axes>"
      ]
     },
     "metadata": {},
     "output_type": "display_data"
    }
   ],
   "source": [
    "import matplotlib.pyplot as plt\n",
    "import seaborn as sns\n",
    "\n",
    "# Assuming 'data' is your DataFrame\n",
    "plt.figure(figsize=(8, 6))  # Set figure size\n",
    "\n",
    "# Plotting the histogram using seaborn\n",
    "sns.histplot(my_data.data['price'], bins=30, kde=True, color='skyblue')\n",
    "\n",
    "# Adding titles and labels\n",
    "plt.title('Distribution of Price', fontsize=16)\n",
    "plt.xlabel('Price', fontsize=12)\n",
    "plt.ylabel('Frequency', fontsize=12)\n",
    "\n",
    "# Display the plot\n",
    "plt.show()\n"
   ]
  },
  {
   "cell_type": "code",
   "execution_count": 18,
   "metadata": {},
   "outputs": [],
   "source": [
    "import numpy as np\n",
    "\n",
    "my_data.data.loc[:, 'log_price'] = np.log1p(my_data.data['price'])\n",
    "\n"
   ]
  },
  {
   "cell_type": "code",
   "execution_count": 19,
   "metadata": {},
   "outputs": [],
   "source": [
    "my_data.data.to_csv('../data/processed_data/synthetic_product_listings_gpt_4o_mini.csv', index=False)"
   ]
  },
  {
   "cell_type": "code",
   "execution_count": 23,
   "metadata": {},
   "outputs": [
    {
     "data": {
      "application/vnd.microsoft.datawrangler.viewer.v0+json": {
       "columns": [
        {
         "name": "index",
         "rawType": "int64",
         "type": "integer"
        },
        {
         "name": "product_id",
         "rawType": "int64",
         "type": "integer"
        },
        {
         "name": "category",
         "rawType": "object",
         "type": "string"
        },
        {
         "name": "brand",
         "rawType": "object",
         "type": "string"
        },
        {
         "name": "condition",
         "rawType": "object",
         "type": "string"
        },
        {
         "name": "price",
         "rawType": "float64",
         "type": "float"
        },
        {
         "name": "seller_reputation",
         "rawType": "int64",
         "type": "integer"
        },
        {
         "name": "description",
         "rawType": "object",
         "type": "string"
        },
        {
         "name": "suspected_fraud",
         "rawType": "bool",
         "type": "boolean"
        },
        {
         "name": "log_price",
         "rawType": "float64",
         "type": "float"
        }
       ],
       "conversionMethod": "pd.DataFrame",
       "ref": "5562e6d9-fdef-4f10-9910-798c32ea0b7a",
       "rows": [
        [
         "0",
         "2",
         "Clothing",
         "Adidas",
         "used",
         "75.0",
         "4",
         "Brand new Adidas running shorts",
         "True",
         "4.330733340286331"
        ],
        [
         "1",
         "3",
         "Electronics",
         "Apple",
         "used",
         "1299.99",
         "2",
         "Brand new Apple iPhone 14 Pro with 256GB storage",
         "False",
         "7.170880792087884"
        ],
        [
         "2",
         "4",
         "Furniture",
         "Joybird",
         "used",
         "1200.0",
         "5",
         "Stylish Joybird mid-century modern sofa with plush cushions.",
         "False",
         "7.090909822079984"
        ],
        [
         "3",
         "5",
         "Furniture",
         "IKEA",
         "New",
         "350.0",
         "4",
         "Brand new IKEA Hemnes dresser with 6 drawers.",
         "False",
         "5.860786223465865"
        ],
        [
         "4",
         "6",
         "Furniture",
         "West Elm",
         "New",
         "3200.0",
         "3",
         "Brand new West Elm mid-century dining table in walnut finish.",
         "True",
         "8.071218539969863"
        ]
       ],
       "shape": {
        "columns": 9,
        "rows": 5
       }
      },
      "text/html": [
       "<div>\n",
       "<style scoped>\n",
       "    .dataframe tbody tr th:only-of-type {\n",
       "        vertical-align: middle;\n",
       "    }\n",
       "\n",
       "    .dataframe tbody tr th {\n",
       "        vertical-align: top;\n",
       "    }\n",
       "\n",
       "    .dataframe thead th {\n",
       "        text-align: right;\n",
       "    }\n",
       "</style>\n",
       "<table border=\"1\" class=\"dataframe\">\n",
       "  <thead>\n",
       "    <tr style=\"text-align: right;\">\n",
       "      <th></th>\n",
       "      <th>product_id</th>\n",
       "      <th>category</th>\n",
       "      <th>brand</th>\n",
       "      <th>condition</th>\n",
       "      <th>price</th>\n",
       "      <th>seller_reputation</th>\n",
       "      <th>description</th>\n",
       "      <th>suspected_fraud</th>\n",
       "      <th>log_price</th>\n",
       "    </tr>\n",
       "  </thead>\n",
       "  <tbody>\n",
       "    <tr>\n",
       "      <th>0</th>\n",
       "      <td>2</td>\n",
       "      <td>Clothing</td>\n",
       "      <td>Adidas</td>\n",
       "      <td>used</td>\n",
       "      <td>75.00</td>\n",
       "      <td>4</td>\n",
       "      <td>Brand new Adidas running shorts</td>\n",
       "      <td>True</td>\n",
       "      <td>4.330733</td>\n",
       "    </tr>\n",
       "    <tr>\n",
       "      <th>1</th>\n",
       "      <td>3</td>\n",
       "      <td>Electronics</td>\n",
       "      <td>Apple</td>\n",
       "      <td>used</td>\n",
       "      <td>1299.99</td>\n",
       "      <td>2</td>\n",
       "      <td>Brand new Apple iPhone 14 Pro with 256GB storage</td>\n",
       "      <td>False</td>\n",
       "      <td>7.170881</td>\n",
       "    </tr>\n",
       "    <tr>\n",
       "      <th>2</th>\n",
       "      <td>4</td>\n",
       "      <td>Furniture</td>\n",
       "      <td>Joybird</td>\n",
       "      <td>used</td>\n",
       "      <td>1200.00</td>\n",
       "      <td>5</td>\n",
       "      <td>Stylish Joybird mid-century modern sofa with p...</td>\n",
       "      <td>False</td>\n",
       "      <td>7.090910</td>\n",
       "    </tr>\n",
       "    <tr>\n",
       "      <th>3</th>\n",
       "      <td>5</td>\n",
       "      <td>Furniture</td>\n",
       "      <td>IKEA</td>\n",
       "      <td>New</td>\n",
       "      <td>350.00</td>\n",
       "      <td>4</td>\n",
       "      <td>Brand new IKEA Hemnes dresser with 6 drawers.</td>\n",
       "      <td>False</td>\n",
       "      <td>5.860786</td>\n",
       "    </tr>\n",
       "    <tr>\n",
       "      <th>4</th>\n",
       "      <td>6</td>\n",
       "      <td>Furniture</td>\n",
       "      <td>West Elm</td>\n",
       "      <td>New</td>\n",
       "      <td>3200.00</td>\n",
       "      <td>3</td>\n",
       "      <td>Brand new West Elm mid-century dining table in...</td>\n",
       "      <td>True</td>\n",
       "      <td>8.071219</td>\n",
       "    </tr>\n",
       "  </tbody>\n",
       "</table>\n",
       "</div>"
      ],
      "text/plain": [
       "   product_id     category     brand condition    price  seller_reputation  \\\n",
       "0           2     Clothing    Adidas      used    75.00                  4   \n",
       "1           3  Electronics     Apple      used  1299.99                  2   \n",
       "2           4    Furniture   Joybird      used  1200.00                  5   \n",
       "3           5    Furniture      IKEA       New   350.00                  4   \n",
       "4           6    Furniture  West Elm       New  3200.00                  3   \n",
       "\n",
       "                                         description  suspected_fraud  \\\n",
       "0                    Brand new Adidas running shorts             True   \n",
       "1   Brand new Apple iPhone 14 Pro with 256GB storage            False   \n",
       "2  Stylish Joybird mid-century modern sofa with p...            False   \n",
       "3      Brand new IKEA Hemnes dresser with 6 drawers.            False   \n",
       "4  Brand new West Elm mid-century dining table in...             True   \n",
       "\n",
       "   log_price  \n",
       "0   4.330733  \n",
       "1   7.170881  \n",
       "2   7.090910  \n",
       "3   5.860786  \n",
       "4   8.071219  "
      ]
     },
     "execution_count": 23,
     "metadata": {},
     "output_type": "execute_result"
    }
   ],
   "source": [
    "import pandas as pd\n",
    "d = pd.read_csv('../data/processed_data/synthetic_product_listings_gpt_4o_mini.csv')  \n",
    "d.head()"
   ]
  },
  {
   "cell_type": "code",
   "execution_count": null,
   "metadata": {},
   "outputs": [],
   "source": []
  }
 ],
 "metadata": {
  "kernelspec": {
   "display_name": "synthetic",
   "language": "python",
   "name": "python3"
  },
  "language_info": {
   "codemirror_mode": {
    "name": "ipython",
    "version": 3
   },
   "file_extension": ".py",
   "mimetype": "text/x-python",
   "name": "python",
   "nbconvert_exporter": "python",
   "pygments_lexer": "ipython3",
   "version": "3.11.7"
  }
 },
 "nbformat": 4,
 "nbformat_minor": 2
}
