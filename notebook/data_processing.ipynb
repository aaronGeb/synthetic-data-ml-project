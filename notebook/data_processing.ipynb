{
 "cells": [
  {
   "cell_type": "code",
   "execution_count": 39,
   "metadata": {},
   "outputs": [],
   "source": [
    "import pandas as pd"
   ]
  },
  {
   "cell_type": "code",
   "execution_count": 40,
   "metadata": {},
   "outputs": [],
   "source": [
    "df = pd.read_csv('../data/updated_product_listings.csv')"
   ]
  },
  {
   "cell_type": "code",
   "execution_count": 41,
   "metadata": {},
   "outputs": [
    {
     "data": {
      "application/vnd.microsoft.datawrangler.viewer.v0+json": {
       "columns": [
        {
         "name": "index",
         "rawType": "int64",
         "type": "integer"
        },
        {
         "name": "product_id",
         "rawType": "int64",
         "type": "integer"
        },
        {
         "name": "category",
         "rawType": "object",
         "type": "string"
        },
        {
         "name": "brand",
         "rawType": "object",
         "type": "string"
        },
        {
         "name": "condition",
         "rawType": "object",
         "type": "string"
        },
        {
         "name": "price",
         "rawType": "float64",
         "type": "float"
        },
        {
         "name": "seller_reputation",
         "rawType": "int64",
         "type": "integer"
        },
        {
         "name": "description",
         "rawType": "object",
         "type": "string"
        },
        {
         "name": "suspected_fraud",
         "rawType": "bool",
         "type": "boolean"
        }
       ],
       "conversionMethod": "pd.DataFrame",
       "ref": "6f39ba8a-425e-4e5c-85e6-b7c7eb43c3fa",
       "rows": [
        [
         "0",
         "26",
         "Clothing",
         "Adidas",
         "New",
         "75.0",
         "4",
         "Brand new Adidas running shorts",
         "True"
        ],
        [
         "1",
         "26",
         "Electronics",
         "Apple",
         "New",
         "1299.99",
         "2",
         "Brand new Apple iPhone 14 Pro with 256GB storage",
         "False"
        ],
        [
         "2",
         "26",
         "Furniture",
         "Joybird",
         "used",
         "1200.0",
         "5",
         "Stylish Joybird mid-century modern sofa with plush cushions.",
         "False"
        ],
        [
         "3",
         "26",
         "Furniture",
         "IKEA",
         "used",
         "350.0",
         "4",
         "Brand new IKEA Hemnes dresser with 6 drawers.",
         "False"
        ],
        [
         "4",
         "26",
         "Furniture",
         "West Elm",
         "New",
         "3200.0",
         "3",
         "Brand new West Elm mid-century dining table in walnut finish.",
         "True"
        ]
       ],
       "shape": {
        "columns": 8,
        "rows": 5
       }
      },
      "text/html": [
       "<div>\n",
       "<style scoped>\n",
       "    .dataframe tbody tr th:only-of-type {\n",
       "        vertical-align: middle;\n",
       "    }\n",
       "\n",
       "    .dataframe tbody tr th {\n",
       "        vertical-align: top;\n",
       "    }\n",
       "\n",
       "    .dataframe thead th {\n",
       "        text-align: right;\n",
       "    }\n",
       "</style>\n",
       "<table border=\"1\" class=\"dataframe\">\n",
       "  <thead>\n",
       "    <tr style=\"text-align: right;\">\n",
       "      <th></th>\n",
       "      <th>product_id</th>\n",
       "      <th>category</th>\n",
       "      <th>brand</th>\n",
       "      <th>condition</th>\n",
       "      <th>price</th>\n",
       "      <th>seller_reputation</th>\n",
       "      <th>description</th>\n",
       "      <th>suspected_fraud</th>\n",
       "    </tr>\n",
       "  </thead>\n",
       "  <tbody>\n",
       "    <tr>\n",
       "      <th>0</th>\n",
       "      <td>26</td>\n",
       "      <td>Clothing</td>\n",
       "      <td>Adidas</td>\n",
       "      <td>New</td>\n",
       "      <td>75.00</td>\n",
       "      <td>4</td>\n",
       "      <td>Brand new Adidas running shorts</td>\n",
       "      <td>True</td>\n",
       "    </tr>\n",
       "    <tr>\n",
       "      <th>1</th>\n",
       "      <td>26</td>\n",
       "      <td>Electronics</td>\n",
       "      <td>Apple</td>\n",
       "      <td>New</td>\n",
       "      <td>1299.99</td>\n",
       "      <td>2</td>\n",
       "      <td>Brand new Apple iPhone 14 Pro with 256GB storage</td>\n",
       "      <td>False</td>\n",
       "    </tr>\n",
       "    <tr>\n",
       "      <th>2</th>\n",
       "      <td>26</td>\n",
       "      <td>Furniture</td>\n",
       "      <td>Joybird</td>\n",
       "      <td>used</td>\n",
       "      <td>1200.00</td>\n",
       "      <td>5</td>\n",
       "      <td>Stylish Joybird mid-century modern sofa with p...</td>\n",
       "      <td>False</td>\n",
       "    </tr>\n",
       "    <tr>\n",
       "      <th>3</th>\n",
       "      <td>26</td>\n",
       "      <td>Furniture</td>\n",
       "      <td>IKEA</td>\n",
       "      <td>used</td>\n",
       "      <td>350.00</td>\n",
       "      <td>4</td>\n",
       "      <td>Brand new IKEA Hemnes dresser with 6 drawers.</td>\n",
       "      <td>False</td>\n",
       "    </tr>\n",
       "    <tr>\n",
       "      <th>4</th>\n",
       "      <td>26</td>\n",
       "      <td>Furniture</td>\n",
       "      <td>West Elm</td>\n",
       "      <td>New</td>\n",
       "      <td>3200.00</td>\n",
       "      <td>3</td>\n",
       "      <td>Brand new West Elm mid-century dining table in...</td>\n",
       "      <td>True</td>\n",
       "    </tr>\n",
       "  </tbody>\n",
       "</table>\n",
       "</div>"
      ],
      "text/plain": [
       "   product_id     category     brand condition    price  seller_reputation  \\\n",
       "0          26     Clothing    Adidas       New    75.00                  4   \n",
       "1          26  Electronics     Apple       New  1299.99                  2   \n",
       "2          26    Furniture   Joybird      used  1200.00                  5   \n",
       "3          26    Furniture      IKEA      used   350.00                  4   \n",
       "4          26    Furniture  West Elm       New  3200.00                  3   \n",
       "\n",
       "                                         description  suspected_fraud  \n",
       "0                    Brand new Adidas running shorts             True  \n",
       "1   Brand new Apple iPhone 14 Pro with 256GB storage            False  \n",
       "2  Stylish Joybird mid-century modern sofa with p...            False  \n",
       "3      Brand new IKEA Hemnes dresser with 6 drawers.            False  \n",
       "4  Brand new West Elm mid-century dining table in...             True  "
      ]
     },
     "execution_count": 41,
     "metadata": {},
     "output_type": "execute_result"
    }
   ],
   "source": [
    "df.head()"
   ]
  },
  {
   "cell_type": "code",
   "execution_count": 42,
   "metadata": {},
   "outputs": [
    {
     "data": {
      "text/plain": [
       "seller_reputation\n",
       "3    224\n",
       "5    199\n",
       "4    198\n",
       "1    195\n",
       "2    184\n",
       "Name: count, dtype: int64"
      ]
     },
     "execution_count": 42,
     "metadata": {},
     "output_type": "execute_result"
    }
   ],
   "source": [
    "df.seller_reputation.value_counts()"
   ]
  },
  {
   "cell_type": "code",
   "execution_count": 43,
   "metadata": {},
   "outputs": [
    {
     "data": {
      "text/plain": [
       "suspected_fraud\n",
       "False    700\n",
       "True     300\n",
       "Name: count, dtype: int64"
      ]
     },
     "execution_count": 43,
     "metadata": {},
     "output_type": "execute_result"
    }
   ],
   "source": [
    "df.suspected_fraud.value_counts()"
   ]
  },
  {
   "cell_type": "code",
   "execution_count": 44,
   "metadata": {},
   "outputs": [
    {
     "data": {
      "text/plain": [
       "condition\n",
       "New     600\n",
       "used    400\n",
       "Name: count, dtype: int64"
      ]
     },
     "execution_count": 44,
     "metadata": {},
     "output_type": "execute_result"
    }
   ],
   "source": [
    "df.condition.value_counts()"
   ]
  },
  {
   "cell_type": "code",
   "execution_count": null,
   "metadata": {},
   "outputs": [],
   "source": []
  }
 ],
 "metadata": {
  "kernelspec": {
   "display_name": "synthetic",
   "language": "python",
   "name": "python3"
  },
  "language_info": {
   "codemirror_mode": {
    "name": "ipython",
    "version": 3
   },
   "file_extension": ".py",
   "mimetype": "text/x-python",
   "name": "python",
   "nbconvert_exporter": "python",
   "pygments_lexer": "ipython3",
   "version": "3.11.7"
  }
 },
 "nbformat": 4,
 "nbformat_minor": 2
}
